{
 "cells": [
  {
   "cell_type": "markdown",
   "metadata": {},
   "source": [
    "# Data Mining Homework 1\n",
    "Honor Statement: /* THIS CODE IS MY OWN WORK, IT WAS WRITTEN WITHOUT CONSULTING CODE\n",
    "WRITTEN BY OTHER STUDENTS.\n",
    "Dillon Wu */  \n",
    "Date: 2/4/2020  \n",
    "This notebook is for data mining homework 1.\n",
    "The questions are broken down into sections."
   ]
  },
  {
   "cell_type": "markdown",
   "metadata": {},
   "source": [
    "## Question 1: Attribute Description / Information Gathering "
   ]
  },
  {
   "cell_type": "code",
   "execution_count": 1,
   "metadata": {},
   "outputs": [],
   "source": [
    "import csv\n",
    "import pandas as pd\n",
    "import numpy as np\n",
    "import matplotlib.pyplot as plt\n",
    "data = pd.read_csv('/Users/Kvothe/Desktop/cs470/hw1_all_stuff/cs470.hw1/grades.csv')"
   ]
  },
  {
   "cell_type": "code",
   "execution_count": 2,
   "metadata": {},
   "outputs": [
    {
     "data": {
      "text/plain": [
       "array(['F16'], dtype=object)"
      ]
     },
     "execution_count": 2,
     "metadata": {},
     "output_type": "execute_result"
    }
   ],
   "source": [
    "# Shows that the max score for semester F16 is 44; rest is 42\n",
    "data[data[\"Homework 1\"] > 42.0][\"Semester\"].unique()\n",
    "data[data[\"Homework 2\"] > 42.0][\"Semester\"].unique()"
   ]
  },
  {
   "cell_type": "code",
   "execution_count": 3,
   "metadata": {},
   "outputs": [
    {
     "data": {
      "text/html": [
       "<div>\n",
       "<style scoped>\n",
       "    .dataframe tbody tr th:only-of-type {\n",
       "        vertical-align: middle;\n",
       "    }\n",
       "\n",
       "    .dataframe tbody tr th {\n",
       "        vertical-align: top;\n",
       "    }\n",
       "\n",
       "    .dataframe thead th {\n",
       "        text-align: right;\n",
       "    }\n",
       "</style>\n",
       "<table border=\"1\" class=\"dataframe\">\n",
       "  <thead>\n",
       "    <tr style=\"text-align: right;\">\n",
       "      <th></th>\n",
       "      <th>Homework 3</th>\n",
       "      <th>Homework 4</th>\n",
       "      <th>Homework 5</th>\n",
       "      <th>Peer Evaluations</th>\n",
       "      <th>Bonus</th>\n",
       "      <th>Quiz 01</th>\n",
       "      <th>Quiz 02</th>\n",
       "      <th>Quiz 03</th>\n",
       "      <th>Quiz 04</th>\n",
       "      <th>Quiz 05</th>\n",
       "      <th>Quiz 06</th>\n",
       "      <th>Quiz 07</th>\n",
       "      <th>Quiz 08</th>\n",
       "      <th>Quiz 09</th>\n",
       "      <th>Quiz 10</th>\n",
       "      <th>Quiz 11</th>\n",
       "      <th>Quiz 12</th>\n",
       "      <th>Quiz Adjustment</th>\n",
       "    </tr>\n",
       "    <tr>\n",
       "      <th>Semester</th>\n",
       "      <th></th>\n",
       "      <th></th>\n",
       "      <th></th>\n",
       "      <th></th>\n",
       "      <th></th>\n",
       "      <th></th>\n",
       "      <th></th>\n",
       "      <th></th>\n",
       "      <th></th>\n",
       "      <th></th>\n",
       "      <th></th>\n",
       "      <th></th>\n",
       "      <th></th>\n",
       "      <th></th>\n",
       "      <th></th>\n",
       "      <th></th>\n",
       "      <th></th>\n",
       "      <th></th>\n",
       "    </tr>\n",
       "  </thead>\n",
       "  <tbody>\n",
       "    <tr>\n",
       "      <td>F16</td>\n",
       "      <td>-7.0</td>\n",
       "      <td>-3.0</td>\n",
       "      <td>0.0</td>\n",
       "      <td>72.0</td>\n",
       "      <td>NaN</td>\n",
       "      <td>8.0</td>\n",
       "      <td>0.0</td>\n",
       "      <td>2.0</td>\n",
       "      <td>13.0</td>\n",
       "      <td>0.0</td>\n",
       "      <td>2.0</td>\n",
       "      <td>0.0</td>\n",
       "      <td>1.0</td>\n",
       "      <td>0.0</td>\n",
       "      <td>0.0</td>\n",
       "      <td>6.0</td>\n",
       "      <td>0.0</td>\n",
       "      <td>NaN</td>\n",
       "    </tr>\n",
       "    <tr>\n",
       "      <td>F17</td>\n",
       "      <td>19.0</td>\n",
       "      <td>0.0</td>\n",
       "      <td>2.0</td>\n",
       "      <td>1.0</td>\n",
       "      <td>NaN</td>\n",
       "      <td>7.0</td>\n",
       "      <td>5.0</td>\n",
       "      <td>1.0</td>\n",
       "      <td>0.0</td>\n",
       "      <td>0.0</td>\n",
       "      <td>4.0</td>\n",
       "      <td>0.0</td>\n",
       "      <td>0.0</td>\n",
       "      <td>2.0</td>\n",
       "      <td>3.0</td>\n",
       "      <td>0.0</td>\n",
       "      <td>0.0</td>\n",
       "      <td>NaN</td>\n",
       "    </tr>\n",
       "    <tr>\n",
       "      <td>F18</td>\n",
       "      <td>4.0</td>\n",
       "      <td>2.0</td>\n",
       "      <td>2.0</td>\n",
       "      <td>22.8</td>\n",
       "      <td>1.0</td>\n",
       "      <td>5.0</td>\n",
       "      <td>1.0</td>\n",
       "      <td>2.0</td>\n",
       "      <td>0.0</td>\n",
       "      <td>0.0</td>\n",
       "      <td>5.0</td>\n",
       "      <td>0.0</td>\n",
       "      <td>0.0</td>\n",
       "      <td>0.0</td>\n",
       "      <td>4.0</td>\n",
       "      <td>0.0</td>\n",
       "      <td>0.0</td>\n",
       "      <td>NaN</td>\n",
       "    </tr>\n",
       "    <tr>\n",
       "      <td>S17</td>\n",
       "      <td>0.0</td>\n",
       "      <td>0.0</td>\n",
       "      <td>10.0</td>\n",
       "      <td>6.0</td>\n",
       "      <td>NaN</td>\n",
       "      <td>7.0</td>\n",
       "      <td>8.0</td>\n",
       "      <td>1.0</td>\n",
       "      <td>17.0</td>\n",
       "      <td>2.0</td>\n",
       "      <td>2.0</td>\n",
       "      <td>6.0</td>\n",
       "      <td>0.0</td>\n",
       "      <td>5.0</td>\n",
       "      <td>0.0</td>\n",
       "      <td>0.0</td>\n",
       "      <td>0.0</td>\n",
       "      <td>32.0</td>\n",
       "    </tr>\n",
       "    <tr>\n",
       "      <td>S18</td>\n",
       "      <td>2.0</td>\n",
       "      <td>20.0</td>\n",
       "      <td>24.0</td>\n",
       "      <td>19.9</td>\n",
       "      <td>1.0</td>\n",
       "      <td>14.0</td>\n",
       "      <td>0.0</td>\n",
       "      <td>8.0</td>\n",
       "      <td>17.0</td>\n",
       "      <td>0.0</td>\n",
       "      <td>4.0</td>\n",
       "      <td>3.0</td>\n",
       "      <td>0.0</td>\n",
       "      <td>4.0</td>\n",
       "      <td>6.0</td>\n",
       "      <td>0.0</td>\n",
       "      <td>3.0</td>\n",
       "      <td>25.5</td>\n",
       "    </tr>\n",
       "  </tbody>\n",
       "</table>\n",
       "</div>"
      ],
      "text/plain": [
       "          Homework 3  Homework 4  Homework 5  Peer Evaluations  Bonus  \\\n",
       "Semester                                                                \n",
       "F16             -7.0        -3.0         0.0              72.0    NaN   \n",
       "F17             19.0         0.0         2.0               1.0    NaN   \n",
       "F18              4.0         2.0         2.0              22.8    1.0   \n",
       "S17              0.0         0.0        10.0               6.0    NaN   \n",
       "S18              2.0        20.0        24.0              19.9    1.0   \n",
       "\n",
       "          Quiz 01  Quiz 02  Quiz 03  Quiz 04  Quiz 05  Quiz 06  Quiz 07  \\\n",
       "Semester                                                                  \n",
       "F16           8.0      0.0      2.0     13.0      0.0      2.0      0.0   \n",
       "F17           7.0      5.0      1.0      0.0      0.0      4.0      0.0   \n",
       "F18           5.0      1.0      2.0      0.0      0.0      5.0      0.0   \n",
       "S17           7.0      8.0      1.0     17.0      2.0      2.0      6.0   \n",
       "S18          14.0      0.0      8.0     17.0      0.0      4.0      3.0   \n",
       "\n",
       "          Quiz 08  Quiz 09  Quiz 10  Quiz 11  Quiz 12  Quiz Adjustment  \n",
       "Semester                                                                \n",
       "F16           1.0      0.0      0.0      6.0      0.0              NaN  \n",
       "F17           0.0      2.0      3.0      0.0      0.0              NaN  \n",
       "F18           0.0      0.0      4.0      0.0      0.0              NaN  \n",
       "S17           0.0      5.0      0.0      0.0      0.0             32.0  \n",
       "S18           0.0      4.0      6.0      0.0      3.0             25.5  "
      ]
     },
     "execution_count": 3,
     "metadata": {},
     "output_type": "execute_result"
    }
   ],
   "source": [
    "data.groupby(['Semester']).min().iloc[:, 5:23]"
   ]
  },
  {
   "cell_type": "code",
   "execution_count": 4,
   "metadata": {},
   "outputs": [
    {
     "data": {
      "text/html": [
       "<div>\n",
       "<style scoped>\n",
       "    .dataframe tbody tr th:only-of-type {\n",
       "        vertical-align: middle;\n",
       "    }\n",
       "\n",
       "    .dataframe tbody tr th {\n",
       "        vertical-align: top;\n",
       "    }\n",
       "\n",
       "    .dataframe thead th {\n",
       "        text-align: right;\n",
       "    }\n",
       "</style>\n",
       "<table border=\"1\" class=\"dataframe\">\n",
       "  <thead>\n",
       "    <tr style=\"text-align: right;\">\n",
       "      <th></th>\n",
       "      <th>Semester</th>\n",
       "      <th>Student ID</th>\n",
       "      <th>Name</th>\n",
       "      <th>Section</th>\n",
       "      <th>Homework 1</th>\n",
       "      <th>Homework 2</th>\n",
       "      <th>Homework 3</th>\n",
       "      <th>Homework 4</th>\n",
       "      <th>Homework 5</th>\n",
       "      <th>Peer Evaluations</th>\n",
       "      <th>...</th>\n",
       "      <th>Quiz 09</th>\n",
       "      <th>Quiz 10</th>\n",
       "      <th>Quiz 11</th>\n",
       "      <th>Quiz 12</th>\n",
       "      <th>Quiz Adjustment</th>\n",
       "      <th>Drop Lowest Quiz 1</th>\n",
       "      <th>Drop Lowest Quiz 2</th>\n",
       "      <th>Final Exam</th>\n",
       "      <th>Total Score</th>\n",
       "      <th>Letter Grade</th>\n",
       "    </tr>\n",
       "  </thead>\n",
       "  <tbody>\n",
       "    <tr>\n",
       "      <td>171</td>\n",
       "      <td>S18</td>\n",
       "      <td>379088</td>\n",
       "      <td>Hillary</td>\n",
       "      <td>5</td>\n",
       "      <td>35.0</td>\n",
       "      <td>40.0</td>\n",
       "      <td>29.0</td>\n",
       "      <td>40.0</td>\n",
       "      <td>40.0</td>\n",
       "      <td>150.0</td>\n",
       "      <td>...</td>\n",
       "      <td>8.0</td>\n",
       "      <td>NaN</td>\n",
       "      <td>38.0</td>\n",
       "      <td>12.0</td>\n",
       "      <td>29.6</td>\n",
       "      <td>0</td>\n",
       "      <td>0.0</td>\n",
       "      <td>108.0</td>\n",
       "      <td>718.6</td>\n",
       "      <td>C-</td>\n",
       "    </tr>\n",
       "    <tr>\n",
       "      <td>201</td>\n",
       "      <td>S18</td>\n",
       "      <td>421687</td>\n",
       "      <td>Sezin</td>\n",
       "      <td>5</td>\n",
       "      <td>40.0</td>\n",
       "      <td>39.0</td>\n",
       "      <td>32.0</td>\n",
       "      <td>38.0</td>\n",
       "      <td>40.0</td>\n",
       "      <td>150.0</td>\n",
       "      <td>...</td>\n",
       "      <td>21.0</td>\n",
       "      <td>22.0</td>\n",
       "      <td>36.0</td>\n",
       "      <td>NaN</td>\n",
       "      <td>28.2</td>\n",
       "      <td>-21</td>\n",
       "      <td>-22.0</td>\n",
       "      <td>72.0</td>\n",
       "      <td>719.2</td>\n",
       "      <td>C-</td>\n",
       "    </tr>\n",
       "    <tr>\n",
       "      <td>202</td>\n",
       "      <td>S18</td>\n",
       "      <td>102440</td>\n",
       "      <td>Maricruz</td>\n",
       "      <td>3</td>\n",
       "      <td>41.0</td>\n",
       "      <td>42.0</td>\n",
       "      <td>41.0</td>\n",
       "      <td>37.0</td>\n",
       "      <td>41.0</td>\n",
       "      <td>150.0</td>\n",
       "      <td>...</td>\n",
       "      <td>21.0</td>\n",
       "      <td>27.0</td>\n",
       "      <td>NaN</td>\n",
       "      <td>35.0</td>\n",
       "      <td>34.7</td>\n",
       "      <td>-21</td>\n",
       "      <td>-27.0</td>\n",
       "      <td>102.0</td>\n",
       "      <td>824.7</td>\n",
       "      <td>B-</td>\n",
       "    </tr>\n",
       "    <tr>\n",
       "      <td>209</td>\n",
       "      <td>S18</td>\n",
       "      <td>780505</td>\n",
       "      <td>Rishi</td>\n",
       "      <td>2</td>\n",
       "      <td>40.0</td>\n",
       "      <td>42.0</td>\n",
       "      <td>42.0</td>\n",
       "      <td>38.0</td>\n",
       "      <td>NaN</td>\n",
       "      <td>150.0</td>\n",
       "      <td>...</td>\n",
       "      <td>28.0</td>\n",
       "      <td>33.0</td>\n",
       "      <td>NaN</td>\n",
       "      <td>11.0</td>\n",
       "      <td>35.7</td>\n",
       "      <td>-11</td>\n",
       "      <td>-27.0</td>\n",
       "      <td>126.0</td>\n",
       "      <td>809.7</td>\n",
       "      <td>B-</td>\n",
       "    </tr>\n",
       "    <tr>\n",
       "      <td>241</td>\n",
       "      <td>S18</td>\n",
       "      <td>978206</td>\n",
       "      <td>Youngtaik</td>\n",
       "      <td>5</td>\n",
       "      <td>42.0</td>\n",
       "      <td>39.0</td>\n",
       "      <td>37.0</td>\n",
       "      <td>42.0</td>\n",
       "      <td>42.0</td>\n",
       "      <td>150.0</td>\n",
       "      <td>...</td>\n",
       "      <td>30.0</td>\n",
       "      <td>33.0</td>\n",
       "      <td>NaN</td>\n",
       "      <td>12.0</td>\n",
       "      <td>38.1</td>\n",
       "      <td>-12</td>\n",
       "      <td>-27.0</td>\n",
       "      <td>141.0</td>\n",
       "      <td>884.1</td>\n",
       "      <td>B+</td>\n",
       "    </tr>\n",
       "    <tr>\n",
       "      <td>264</td>\n",
       "      <td>S18</td>\n",
       "      <td>865368</td>\n",
       "      <td>Ankit</td>\n",
       "      <td>4</td>\n",
       "      <td>35.0</td>\n",
       "      <td>40.0</td>\n",
       "      <td>34.0</td>\n",
       "      <td>36.0</td>\n",
       "      <td>40.0</td>\n",
       "      <td>150.0</td>\n",
       "      <td>...</td>\n",
       "      <td>25.0</td>\n",
       "      <td>34.0</td>\n",
       "      <td>NaN</td>\n",
       "      <td>9.0</td>\n",
       "      <td>25.5</td>\n",
       "      <td>0</td>\n",
       "      <td>0.0</td>\n",
       "      <td>102.0</td>\n",
       "      <td>666.5</td>\n",
       "      <td>D+</td>\n",
       "    </tr>\n",
       "    <tr>\n",
       "      <td>282</td>\n",
       "      <td>S18</td>\n",
       "      <td>517626</td>\n",
       "      <td>Saket</td>\n",
       "      <td>1</td>\n",
       "      <td>39.0</td>\n",
       "      <td>39.0</td>\n",
       "      <td>40.0</td>\n",
       "      <td>40.0</td>\n",
       "      <td>42.0</td>\n",
       "      <td>150.0</td>\n",
       "      <td>...</td>\n",
       "      <td>NaN</td>\n",
       "      <td>31.0</td>\n",
       "      <td>48.0</td>\n",
       "      <td>NaN</td>\n",
       "      <td>36.4</td>\n",
       "      <td>0</td>\n",
       "      <td>0.0</td>\n",
       "      <td>123.0</td>\n",
       "      <td>823.4</td>\n",
       "      <td>B-</td>\n",
       "    </tr>\n",
       "    <tr>\n",
       "      <td>505</td>\n",
       "      <td>S17</td>\n",
       "      <td>618495</td>\n",
       "      <td>Azeen</td>\n",
       "      <td>2</td>\n",
       "      <td>42.0</td>\n",
       "      <td>39.0</td>\n",
       "      <td>42.0</td>\n",
       "      <td>42.0</td>\n",
       "      <td>42.0</td>\n",
       "      <td>149.5</td>\n",
       "      <td>...</td>\n",
       "      <td>NaN</td>\n",
       "      <td>23.0</td>\n",
       "      <td>NaN</td>\n",
       "      <td>NaN</td>\n",
       "      <td>43.0</td>\n",
       "      <td>0</td>\n",
       "      <td>0.0</td>\n",
       "      <td>108.0</td>\n",
       "      <td>894.5</td>\n",
       "      <td>B+</td>\n",
       "    </tr>\n",
       "    <tr>\n",
       "      <td>531</td>\n",
       "      <td>S17</td>\n",
       "      <td>827720</td>\n",
       "      <td>Alfredo</td>\n",
       "      <td>4</td>\n",
       "      <td>40.0</td>\n",
       "      <td>NaN</td>\n",
       "      <td>NaN</td>\n",
       "      <td>12.0</td>\n",
       "      <td>42.0</td>\n",
       "      <td>150.0</td>\n",
       "      <td>...</td>\n",
       "      <td>NaN</td>\n",
       "      <td>16.0</td>\n",
       "      <td>NaN</td>\n",
       "      <td>46.0</td>\n",
       "      <td>32.0</td>\n",
       "      <td>0</td>\n",
       "      <td>0.0</td>\n",
       "      <td>126.0</td>\n",
       "      <td>694.0</td>\n",
       "      <td>D+</td>\n",
       "    </tr>\n",
       "    <tr>\n",
       "      <td>564</td>\n",
       "      <td>S17</td>\n",
       "      <td>963390</td>\n",
       "      <td>Muhammad Omer</td>\n",
       "      <td>3</td>\n",
       "      <td>39.0</td>\n",
       "      <td>39.0</td>\n",
       "      <td>24.0</td>\n",
       "      <td>37.0</td>\n",
       "      <td>NaN</td>\n",
       "      <td>150.0</td>\n",
       "      <td>...</td>\n",
       "      <td>NaN</td>\n",
       "      <td>NaN</td>\n",
       "      <td>27.0</td>\n",
       "      <td>NaN</td>\n",
       "      <td>43.0</td>\n",
       "      <td>0</td>\n",
       "      <td>0.0</td>\n",
       "      <td>111.0</td>\n",
       "      <td>616.0</td>\n",
       "      <td>D</td>\n",
       "    </tr>\n",
       "  </tbody>\n",
       "</table>\n",
       "<p>10 rows × 29 columns</p>\n",
       "</div>"
      ],
      "text/plain": [
       "    Semester  Student ID           Name  Section  Homework 1  Homework 2  \\\n",
       "171      S18      379088        Hillary        5        35.0        40.0   \n",
       "201      S18      421687          Sezin        5        40.0        39.0   \n",
       "202      S18      102440       Maricruz        3        41.0        42.0   \n",
       "209      S18      780505          Rishi        2        40.0        42.0   \n",
       "241      S18      978206      Youngtaik        5        42.0        39.0   \n",
       "264      S18      865368          Ankit        4        35.0        40.0   \n",
       "282      S18      517626          Saket        1        39.0        39.0   \n",
       "505      S17      618495          Azeen        2        42.0        39.0   \n",
       "531      S17      827720        Alfredo        4        40.0         NaN   \n",
       "564      S17      963390  Muhammad Omer        3        39.0        39.0   \n",
       "\n",
       "     Homework 3  Homework 4  Homework 5  Peer Evaluations  ...  Quiz 09  \\\n",
       "171        29.0        40.0        40.0             150.0  ...      8.0   \n",
       "201        32.0        38.0        40.0             150.0  ...     21.0   \n",
       "202        41.0        37.0        41.0             150.0  ...     21.0   \n",
       "209        42.0        38.0         NaN             150.0  ...     28.0   \n",
       "241        37.0        42.0        42.0             150.0  ...     30.0   \n",
       "264        34.0        36.0        40.0             150.0  ...     25.0   \n",
       "282        40.0        40.0        42.0             150.0  ...      NaN   \n",
       "505        42.0        42.0        42.0             149.5  ...      NaN   \n",
       "531         NaN        12.0        42.0             150.0  ...      NaN   \n",
       "564        24.0        37.0         NaN             150.0  ...      NaN   \n",
       "\n",
       "     Quiz 10  Quiz 11  Quiz 12  Quiz Adjustment  Drop Lowest Quiz 1  \\\n",
       "171      NaN     38.0     12.0             29.6                   0   \n",
       "201     22.0     36.0      NaN             28.2                 -21   \n",
       "202     27.0      NaN     35.0             34.7                 -21   \n",
       "209     33.0      NaN     11.0             35.7                 -11   \n",
       "241     33.0      NaN     12.0             38.1                 -12   \n",
       "264     34.0      NaN      9.0             25.5                   0   \n",
       "282     31.0     48.0      NaN             36.4                   0   \n",
       "505     23.0      NaN      NaN             43.0                   0   \n",
       "531     16.0      NaN     46.0             32.0                   0   \n",
       "564      NaN     27.0      NaN             43.0                   0   \n",
       "\n",
       "     Drop Lowest Quiz 2  Final Exam  Total Score  Letter Grade  \n",
       "171                 0.0       108.0        718.6            C-  \n",
       "201               -22.0        72.0        719.2            C-  \n",
       "202               -27.0       102.0        824.7            B-  \n",
       "209               -27.0       126.0        809.7            B-  \n",
       "241               -27.0       141.0        884.1            B+  \n",
       "264                 0.0       102.0        666.5            D+  \n",
       "282                 0.0       123.0        823.4            B-  \n",
       "505                 0.0       108.0        894.5            B+  \n",
       "531                 0.0       126.0        694.0            D+  \n",
       "564                 0.0       111.0        616.0             D  \n",
       "\n",
       "[10 rows x 29 columns]"
      ]
     },
     "execution_count": 4,
     "metadata": {},
     "output_type": "execute_result"
    }
   ],
   "source": [
    "data[data[\"Quiz Adjustment\"].notna()]\n"
   ]
  },
  {
   "cell_type": "code",
   "execution_count": 5,
   "metadata": {},
   "outputs": [
    {
     "data": {
      "text/html": [
       "<div>\n",
       "<style scoped>\n",
       "    .dataframe tbody tr th:only-of-type {\n",
       "        vertical-align: middle;\n",
       "    }\n",
       "\n",
       "    .dataframe tbody tr th {\n",
       "        vertical-align: top;\n",
       "    }\n",
       "\n",
       "    .dataframe thead th {\n",
       "        text-align: right;\n",
       "    }\n",
       "</style>\n",
       "<table border=\"1\" class=\"dataframe\">\n",
       "  <thead>\n",
       "    <tr style=\"text-align: right;\">\n",
       "      <th></th>\n",
       "      <th>Quiz 01</th>\n",
       "      <th>Quiz 02</th>\n",
       "      <th>Quiz 03</th>\n",
       "      <th>Quiz 04</th>\n",
       "      <th>Quiz 05</th>\n",
       "      <th>Quiz 06</th>\n",
       "      <th>Quiz 07</th>\n",
       "      <th>Quiz 08</th>\n",
       "      <th>Quiz 09</th>\n",
       "      <th>Quiz 10</th>\n",
       "      <th>Quiz 11</th>\n",
       "      <th>Quiz 12</th>\n",
       "      <th>Quiz Adjustment</th>\n",
       "      <th>Drop Lowest Quiz 1</th>\n",
       "      <th>Drop Lowest Quiz 2</th>\n",
       "    </tr>\n",
       "  </thead>\n",
       "  <tbody>\n",
       "    <tr>\n",
       "      <td>171</td>\n",
       "      <td>NaN</td>\n",
       "      <td>44.0</td>\n",
       "      <td>37.0</td>\n",
       "      <td>36.0</td>\n",
       "      <td>NaN</td>\n",
       "      <td>26.0</td>\n",
       "      <td>30.0</td>\n",
       "      <td>16.0</td>\n",
       "      <td>8.0</td>\n",
       "      <td>NaN</td>\n",
       "      <td>38.0</td>\n",
       "      <td>12.0</td>\n",
       "      <td>29.6</td>\n",
       "      <td>0</td>\n",
       "      <td>0.0</td>\n",
       "    </tr>\n",
       "    <tr>\n",
       "      <td>201</td>\n",
       "      <td>35.0</td>\n",
       "      <td>36.0</td>\n",
       "      <td>38.0</td>\n",
       "      <td>42.0</td>\n",
       "      <td>22.0</td>\n",
       "      <td>27.0</td>\n",
       "      <td>22.0</td>\n",
       "      <td>22.0</td>\n",
       "      <td>21.0</td>\n",
       "      <td>22.0</td>\n",
       "      <td>36.0</td>\n",
       "      <td>NaN</td>\n",
       "      <td>28.2</td>\n",
       "      <td>-21</td>\n",
       "      <td>-22.0</td>\n",
       "    </tr>\n",
       "    <tr>\n",
       "      <td>202</td>\n",
       "      <td>33.0</td>\n",
       "      <td>35.0</td>\n",
       "      <td>41.0</td>\n",
       "      <td>48.0</td>\n",
       "      <td>36.0</td>\n",
       "      <td>37.0</td>\n",
       "      <td>36.0</td>\n",
       "      <td>35.0</td>\n",
       "      <td>21.0</td>\n",
       "      <td>27.0</td>\n",
       "      <td>NaN</td>\n",
       "      <td>35.0</td>\n",
       "      <td>34.7</td>\n",
       "      <td>-21</td>\n",
       "      <td>-27.0</td>\n",
       "    </tr>\n",
       "    <tr>\n",
       "      <td>209</td>\n",
       "      <td>48.0</td>\n",
       "      <td>46.0</td>\n",
       "      <td>33.0</td>\n",
       "      <td>37.0</td>\n",
       "      <td>42.0</td>\n",
       "      <td>39.0</td>\n",
       "      <td>30.0</td>\n",
       "      <td>27.0</td>\n",
       "      <td>28.0</td>\n",
       "      <td>33.0</td>\n",
       "      <td>NaN</td>\n",
       "      <td>11.0</td>\n",
       "      <td>35.7</td>\n",
       "      <td>-11</td>\n",
       "      <td>-27.0</td>\n",
       "    </tr>\n",
       "    <tr>\n",
       "      <td>241</td>\n",
       "      <td>46.0</td>\n",
       "      <td>50.0</td>\n",
       "      <td>45.0</td>\n",
       "      <td>48.0</td>\n",
       "      <td>41.0</td>\n",
       "      <td>29.0</td>\n",
       "      <td>31.0</td>\n",
       "      <td>27.0</td>\n",
       "      <td>30.0</td>\n",
       "      <td>33.0</td>\n",
       "      <td>NaN</td>\n",
       "      <td>12.0</td>\n",
       "      <td>38.1</td>\n",
       "      <td>-12</td>\n",
       "      <td>-27.0</td>\n",
       "    </tr>\n",
       "    <tr>\n",
       "      <td>264</td>\n",
       "      <td>26.0</td>\n",
       "      <td>19.0</td>\n",
       "      <td>10.0</td>\n",
       "      <td>NaN</td>\n",
       "      <td>22.0</td>\n",
       "      <td>NaN</td>\n",
       "      <td>22.0</td>\n",
       "      <td>37.0</td>\n",
       "      <td>25.0</td>\n",
       "      <td>34.0</td>\n",
       "      <td>NaN</td>\n",
       "      <td>9.0</td>\n",
       "      <td>25.5</td>\n",
       "      <td>0</td>\n",
       "      <td>0.0</td>\n",
       "    </tr>\n",
       "    <tr>\n",
       "      <td>282</td>\n",
       "      <td>29.0</td>\n",
       "      <td>44.0</td>\n",
       "      <td>35.0</td>\n",
       "      <td>38.0</td>\n",
       "      <td>34.0</td>\n",
       "      <td>30.0</td>\n",
       "      <td>NaN</td>\n",
       "      <td>25.0</td>\n",
       "      <td>NaN</td>\n",
       "      <td>31.0</td>\n",
       "      <td>48.0</td>\n",
       "      <td>NaN</td>\n",
       "      <td>36.4</td>\n",
       "      <td>0</td>\n",
       "      <td>0.0</td>\n",
       "    </tr>\n",
       "    <tr>\n",
       "      <td>505</td>\n",
       "      <td>50.0</td>\n",
       "      <td>46.0</td>\n",
       "      <td>45.0</td>\n",
       "      <td>42.0</td>\n",
       "      <td>44.0</td>\n",
       "      <td>39.0</td>\n",
       "      <td>48.0</td>\n",
       "      <td>50.0</td>\n",
       "      <td>NaN</td>\n",
       "      <td>23.0</td>\n",
       "      <td>NaN</td>\n",
       "      <td>NaN</td>\n",
       "      <td>43.0</td>\n",
       "      <td>0</td>\n",
       "      <td>0.0</td>\n",
       "    </tr>\n",
       "    <tr>\n",
       "      <td>531</td>\n",
       "      <td>50.0</td>\n",
       "      <td>50.0</td>\n",
       "      <td>38.0</td>\n",
       "      <td>50.0</td>\n",
       "      <td>NaN</td>\n",
       "      <td>NaN</td>\n",
       "      <td>18.0</td>\n",
       "      <td>24.0</td>\n",
       "      <td>NaN</td>\n",
       "      <td>16.0</td>\n",
       "      <td>NaN</td>\n",
       "      <td>46.0</td>\n",
       "      <td>32.0</td>\n",
       "      <td>0</td>\n",
       "      <td>0.0</td>\n",
       "    </tr>\n",
       "    <tr>\n",
       "      <td>564</td>\n",
       "      <td>46.0</td>\n",
       "      <td>46.0</td>\n",
       "      <td>NaN</td>\n",
       "      <td>NaN</td>\n",
       "      <td>29.0</td>\n",
       "      <td>25.0</td>\n",
       "      <td>NaN</td>\n",
       "      <td>NaN</td>\n",
       "      <td>NaN</td>\n",
       "      <td>NaN</td>\n",
       "      <td>27.0</td>\n",
       "      <td>NaN</td>\n",
       "      <td>43.0</td>\n",
       "      <td>0</td>\n",
       "      <td>0.0</td>\n",
       "    </tr>\n",
       "  </tbody>\n",
       "</table>\n",
       "</div>"
      ],
      "text/plain": [
       "     Quiz 01  Quiz 02  Quiz 03  Quiz 04  Quiz 05  Quiz 06  Quiz 07  Quiz 08  \\\n",
       "171      NaN     44.0     37.0     36.0      NaN     26.0     30.0     16.0   \n",
       "201     35.0     36.0     38.0     42.0     22.0     27.0     22.0     22.0   \n",
       "202     33.0     35.0     41.0     48.0     36.0     37.0     36.0     35.0   \n",
       "209     48.0     46.0     33.0     37.0     42.0     39.0     30.0     27.0   \n",
       "241     46.0     50.0     45.0     48.0     41.0     29.0     31.0     27.0   \n",
       "264     26.0     19.0     10.0      NaN     22.0      NaN     22.0     37.0   \n",
       "282     29.0     44.0     35.0     38.0     34.0     30.0      NaN     25.0   \n",
       "505     50.0     46.0     45.0     42.0     44.0     39.0     48.0     50.0   \n",
       "531     50.0     50.0     38.0     50.0      NaN      NaN     18.0     24.0   \n",
       "564     46.0     46.0      NaN      NaN     29.0     25.0      NaN      NaN   \n",
       "\n",
       "     Quiz 09  Quiz 10  Quiz 11  Quiz 12  Quiz Adjustment  Drop Lowest Quiz 1  \\\n",
       "171      8.0      NaN     38.0     12.0             29.6                   0   \n",
       "201     21.0     22.0     36.0      NaN             28.2                 -21   \n",
       "202     21.0     27.0      NaN     35.0             34.7                 -21   \n",
       "209     28.0     33.0      NaN     11.0             35.7                 -11   \n",
       "241     30.0     33.0      NaN     12.0             38.1                 -12   \n",
       "264     25.0     34.0      NaN      9.0             25.5                   0   \n",
       "282      NaN     31.0     48.0      NaN             36.4                   0   \n",
       "505      NaN     23.0      NaN      NaN             43.0                   0   \n",
       "531      NaN     16.0      NaN     46.0             32.0                   0   \n",
       "564      NaN      NaN     27.0      NaN             43.0                   0   \n",
       "\n",
       "     Drop Lowest Quiz 2  \n",
       "171                 0.0  \n",
       "201               -22.0  \n",
       "202               -27.0  \n",
       "209               -27.0  \n",
       "241               -27.0  \n",
       "264                 0.0  \n",
       "282                 0.0  \n",
       "505                 0.0  \n",
       "531                 0.0  \n",
       "564                 0.0  "
      ]
     },
     "execution_count": 5,
     "metadata": {},
     "output_type": "execute_result"
    }
   ],
   "source": [
    "data[data[\"Quiz Adjustment\"].notna()].iloc[:, np.r_[11:23, 23:26]]"
   ]
  },
  {
   "cell_type": "code",
   "execution_count": 6,
   "metadata": {},
   "outputs": [],
   "source": [
    "#data[data[\"Quiz Adjustment\"].notna()]"
   ]
  },
  {
   "cell_type": "markdown",
   "metadata": {},
   "source": [
    "## Question 2: Filling in N/A Values"
   ]
  },
  {
   "cell_type": "code",
   "execution_count": 7,
   "metadata": {},
   "outputs": [],
   "source": [
    "# distribution_extraction extracts and orders the grades from a given column\n",
    "def distribution_extraction(column):\n",
    "    temp = data[data[column].notna()==True][column].tolist()\n",
    "    temp.sort()\n",
    "    return temp  "
   ]
  },
  {
   "cell_type": "code",
   "execution_count": 8,
   "metadata": {},
   "outputs": [],
   "source": [
    "# Extracting distribution from homeworks, quizzes, final exams, and total scores\n",
    "hw = {}\n",
    "for i in range(1,6):\n",
    "    column = \"Homework \" + str(i)\n",
    "    dist = distribution_extraction(column)\n",
    "    hw[column] = dist\n",
    "\n",
    "quiz = {}\n",
    "for i in range(1,13):\n",
    "    if i <10: column = \"Quiz 0\" + str(i) \n",
    "    else: column = \"Quiz \" + str(i)\n",
    "    dist = distribution_extraction(column)\n",
    "    quiz[column] = dist\n",
    "    \n",
    "all_assignments = {**hw, **quiz}\n",
    "all_assignments['Final Exam'] = distribution_extraction('Final Exam')\n",
    "\n",
    "# Peer evaluations are evaluated using the homework column and peer eval column itself\n",
    "peer_evals = hw.copy()\n",
    "peer_evals['Peer Evaluations'] = distribution_extraction('Peer Evaluations')"
   ]
  },
  {
   "cell_type": "code",
   "execution_count": 9,
   "metadata": {},
   "outputs": [],
   "source": [
    "# Algorithm: for every other column, find the student's position in that distribution\n",
    "# Column = column name; assignment = assignment type; row = row number\n",
    "# This can be improved by looking at the nearest n neighbor grades instead of all the grades\n",
    "def grade_extraction(column, assignment, row):\n",
    "    dist = 0\n",
    "    total = 0\n",
    "    dic = {}\n",
    "    if assignment == 'quiz':\n",
    "        dic = quiz\n",
    "    elif assignment == 'hw': \n",
    "        dic = hw\n",
    "    elif assignment == 'final':\n",
    "        dic = all_assignments\n",
    "    elif assignment == 'peer':\n",
    "        dic = peer_evals\n",
    "    else: \n",
    "        return 'Bad assignment type'\n",
    "    for i in dic:\n",
    "        if i != column:\n",
    "            student_score = data.iloc[row][i]\n",
    "            if str(student_score)!='nan':\n",
    "                dist += distribution_location(student_score, dic [i] )\n",
    "                total += 1\n",
    "    if total == 0: return 0\n",
    "    dist /= total\n",
    "    index = len(dic[column]) * dist\n",
    "    return dic[column][int(index)]"
   ]
  },
  {
   "cell_type": "code",
   "execution_count": 10,
   "metadata": {},
   "outputs": [],
   "source": [
    "# Modified BST to find the \n",
    "def distribution_location(score, grades):\n",
    "    index = binarySearch(grades, 0, len(grades), score) # Find the index of grade\n",
    "    prob = index / len(grades) # Find the distribution location of the index\n",
    "    return prob"
   ]
  },
  {
   "cell_type": "code",
   "execution_count": 11,
   "metadata": {},
   "outputs": [],
   "source": [
    "# If the value exists, return the index of its first occurence\n",
    "# If the value doesn't exist return the index of the number immediately greater than that number\n",
    "def binarySearch (arr, l, r, x): \n",
    "    if r >= l:\n",
    "        mid = int(l + (r - l)/2)\n",
    "        if arr[mid] == x: \n",
    "            return mid \n",
    "        elif arr[mid] > x: \n",
    "            return binarySearch(arr, l, mid-1, x) \n",
    "        else: \n",
    "            return binarySearch(arr, mid + 1, r, x) \n",
    "    else: \n",
    "        return l"
   ]
  },
  {
   "cell_type": "code",
   "execution_count": 12,
   "metadata": {},
   "outputs": [],
   "source": [
    "# Data contains the original information\n",
    "# Data_copy contains the modified information\n",
    "data_copy = data.copy()"
   ]
  },
  {
   "cell_type": "code",
   "execution_count": 13,
   "metadata": {},
   "outputs": [],
   "source": [
    "# Testing extraction method\n",
    "quiz_1_na = data_copy[data_copy['Quiz 01'].isnull()==True]['Quiz 01'].index.tolist()"
   ]
  },
  {
   "cell_type": "code",
   "execution_count": 14,
   "metadata": {},
   "outputs": [],
   "source": [
    "# Extracting all rows with na values for each respective column\n",
    "quiz_na = {}\n",
    "for i in quiz:\n",
    "    quiz_na[i] = data[data[i].isnull()==True][i].index.tolist()\n",
    "    \n",
    "hw_na = {}\n",
    "for i in hw:\n",
    "    hw_na[i] = data[data[i].isnull()==True][i].index.tolist()\n",
    "\n",
    "final_na = data[data['Final Exam'].isnull()==True]['Final Exam'].index.tolist()\n",
    "\n",
    "peer_na = data[data['Peer Evaluations'].isnull()==True]['Peer Evaluations'].index.tolist()"
   ]
  },
  {
   "cell_type": "code",
   "execution_count": 15,
   "metadata": {},
   "outputs": [
    {
     "name": "stderr",
     "output_type": "stream",
     "text": [
      "/Users/Kvothe/miniconda3/lib/python3.7/site-packages/pandas/core/indexing.py:205: SettingWithCopyWarning: \n",
      "A value is trying to be set on a copy of a slice from a DataFrame\n",
      "\n",
      "See the caveats in the documentation: http://pandas.pydata.org/pandas-docs/stable/user_guide/indexing.html#returning-a-view-versus-a-copy\n",
      "  self._setitem_with_indexer(indexer, value)\n"
     ]
    }
   ],
   "source": [
    "# Filling in quiz na values\n",
    "for arr in quiz_na:\n",
    "    for row in quiz_na[arr]:\n",
    "        data_copy[arr].iloc[row] = grade_extraction(arr,'quiz',row)"
   ]
  },
  {
   "cell_type": "code",
   "execution_count": 16,
   "metadata": {},
   "outputs": [],
   "source": [
    "# Filling hw na quiz values\n",
    "for arr in hw_na:\n",
    "    for row in hw_na[arr]:\n",
    "        data_copy[arr].iloc[row] = grade_extraction(arr,'hw',row)"
   ]
  },
  {
   "cell_type": "code",
   "execution_count": 17,
   "metadata": {},
   "outputs": [],
   "source": [
    "# Filling final exam na values\n",
    "for row in final_na:\n",
    "    data_copy['Final Exam'].iloc[row]= grade_extraction('Final Exam','final',row)"
   ]
  },
  {
   "cell_type": "code",
   "execution_count": 18,
   "metadata": {},
   "outputs": [],
   "source": [
    "# Filling peer evaluations\n",
    "for row in peer_na:\n",
    "    data_copy['Peer Evaluations'].iloc[row]= grade_extraction('Peer Evaluations','peer',row)"
   ]
  },
  {
   "cell_type": "code",
   "execution_count": 19,
   "metadata": {},
   "outputs": [],
   "source": [
    "# Filling bonus column\n",
    "data_copy.fillna({'Bonus': 0}, inplace = True)"
   ]
  },
  {
   "cell_type": "code",
   "execution_count": 20,
   "metadata": {},
   "outputs": [],
   "source": [
    "# Filling quiz adjustment\n",
    "data_copy.fillna({'Quiz Adjustment': 0}, inplace = True)"
   ]
  },
  {
   "cell_type": "code",
   "execution_count": 21,
   "metadata": {},
   "outputs": [
    {
     "data": {
      "text/plain": [
       "Semester              False\n",
       "Student ID            False\n",
       "Name                  False\n",
       "Section               False\n",
       "Homework 1            False\n",
       "Homework 2            False\n",
       "Homework 3            False\n",
       "Homework 4            False\n",
       "Homework 5            False\n",
       "Peer Evaluations      False\n",
       "Bonus                 False\n",
       "Quiz 01               False\n",
       "Quiz 02               False\n",
       "Quiz 03               False\n",
       "Quiz 04               False\n",
       "Quiz 05               False\n",
       "Quiz 06               False\n",
       "Quiz 07               False\n",
       "Quiz 08               False\n",
       "Quiz 09               False\n",
       "Quiz 10               False\n",
       "Quiz 11               False\n",
       "Quiz 12               False\n",
       "Quiz Adjustment       False\n",
       "Drop Lowest Quiz 1    False\n",
       "Drop Lowest Quiz 2    False\n",
       "Final Exam            False\n",
       "Total Score           False\n",
       "Letter Grade          False\n",
       "dtype: bool"
      ]
     },
     "execution_count": 21,
     "metadata": {},
     "output_type": "execute_result"
    }
   ],
   "source": [
    "# Checking all missing values are handled\n",
    "pd.set_option('display.max_rows', None)\n",
    "data_copy.isna().any()"
   ]
  },
  {
   "cell_type": "code",
   "execution_count": 22,
   "metadata": {},
   "outputs": [],
   "source": [
    "# Creating a checkpoint in case I need to fix some stuff\n",
    "question_2_checkpoint = data_copy.copy()"
   ]
  },
  {
   "cell_type": "markdown",
   "metadata": {},
   "source": [
    "## Question 3: Re-encoding"
   ]
  },
  {
   "cell_type": "code",
   "execution_count": 23,
   "metadata": {},
   "outputs": [],
   "source": [
    "# One to one replacement of Semester and Section\n",
    "#data_copy = question_2_checkpoint.copy()\n",
    "data_copy['Semester'].replace(['F16','S17','F17','S18','F18'],[0,1,2,3,4],inplace=True)\n",
    "section_nums = [i for i in range(0,10)]\n",
    "section_letters = ['A','B','C','D','E','F','G','H','I','J']\n",
    "data_copy['Section'].replace(section_nums,section_letters,inplace=True)"
   ]
  },
  {
   "cell_type": "code",
   "execution_count": 24,
   "metadata": {},
   "outputs": [
    {
     "data": {
      "text/plain": [
       "array([4, 3, 2, 1, 0])"
      ]
     },
     "execution_count": 24,
     "metadata": {},
     "output_type": "execute_result"
    }
   ],
   "source": [
    "data_copy['Semester'].unique()"
   ]
  },
  {
   "cell_type": "code",
   "execution_count": 25,
   "metadata": {},
   "outputs": [
    {
     "data": {
      "text/plain": [
       "array(['I', 'C', 'B', 'E', 'F', 'D', 'H', 'J', 'G', 'A'], dtype=object)"
      ]
     },
     "execution_count": 25,
     "metadata": {},
     "output_type": "execute_result"
    }
   ],
   "source": [
    "data_copy['Section'].unique()"
   ]
  },
  {
   "cell_type": "code",
   "execution_count": 26,
   "metadata": {},
   "outputs": [],
   "source": [
    "# Look at data\n",
    "#data_copy"
   ]
  },
  {
   "cell_type": "markdown",
   "metadata": {},
   "source": [
    "## Intermediate Editing: Adding homework and quiz averages for later use"
   ]
  },
  {
   "cell_type": "code",
   "execution_count": 27,
   "metadata": {},
   "outputs": [],
   "source": [
    "# Homework average\n",
    "column_loc = data_copy.columns.get_loc('Homework 5') +1 \n",
    "hw_names = [i for i in hw]\n",
    "data_copy.insert(column_loc, 'Homework Average', data_copy[hw_names].mean(axis=1))\n",
    "#data_copy['Homework Average']"
   ]
  },
  {
   "cell_type": "code",
   "execution_count": 28,
   "metadata": {},
   "outputs": [],
   "source": [
    "# Quiz average\n",
    "column_loc = data_copy.columns.get_loc('Quiz 12') +1 \n",
    "quiz_names = [i for i in quiz]\n",
    "data_copy.insert(column_loc, 'Quiz Average', data_copy[quiz_names].mean(axis=1))\n",
    "#data_copy['Quiz Average']"
   ]
  },
  {
   "cell_type": "code",
   "execution_count": 29,
   "metadata": {},
   "outputs": [],
   "source": [
    "# Creating a checkpoint in case I need to fix some stuff\n",
    "question_3_checkpoint = data_copy.copy()"
   ]
  },
  {
   "cell_type": "markdown",
   "metadata": {},
   "source": [
    "## Question 4: Scaling and Z-Scoring"
   ]
  },
  {
   "cell_type": "code",
   "execution_count": 30,
   "metadata": {},
   "outputs": [],
   "source": [
    "# scores_list contains all the column names with scores\n",
    "data_copy = question_3_checkpoint.copy()\n",
    "scores_list = [i for i in all_assignments]\n",
    "scores_list.append('Peer Evaluations')\n",
    "scores_list.append('Total Score')"
   ]
  },
  {
   "cell_type": "code",
   "execution_count": 31,
   "metadata": {},
   "outputs": [],
   "source": [
    "# Part a\n",
    "for column in scores_list:\n",
    "    column_loc = data_copy.columns.get_loc(column) +1 \n",
    "    # Standard rescale\n",
    "    std_rescale = data_copy[column]/data_copy[column].max() * 100\n",
    "    data_copy.insert(column_loc, 'std_rescale ' + str(column), std_rescale)\n",
    "    \n",
    "    # Z-Score rescale; all semesters\n",
    "    z_all = ( data_copy[column]-data_copy[column].mean() )/data_copy[column].std() \n",
    "    data_copy.insert(column_loc + 1, 'z_score_all_sem ' + str(column), z_all)\n",
    "    \n",
    "    # Z-Score rescale; by semester\n",
    "    z_sem = data_copy.groupby(['Semester'])[column].apply(lambda x: ( x-x.mean() ) / x.std() )\n",
    "    data_copy.insert(column_loc + 2, 'z_score_split_sem '+ str(column), z_sem)\n",
    "    "
   ]
  },
  {
   "cell_type": "code",
   "execution_count": 32,
   "metadata": {},
   "outputs": [],
   "source": [
    "pd.set_option('display.max_columns', None)\n",
    "#data_copy"
   ]
  },
  {
   "cell_type": "markdown",
   "metadata": {},
   "source": [
    "## Question 5: Summary Statistics"
   ]
  },
  {
   "cell_type": "code",
   "execution_count": 33,
   "metadata": {},
   "outputs": [],
   "source": [
    "data_q4 = question_3_checkpoint.copy()\n",
    "names = [i for i in scores_list]\n",
    "stat_names = ['assignment','mean', 'standard deviation', 'max', 'min', 'median', '25th quantile', '75th quantile']\n",
    "statistics = pd.DataFrame(columns=stat_names)"
   ]
  },
  {
   "cell_type": "code",
   "execution_count": 34,
   "metadata": {},
   "outputs": [],
   "source": [
    "# Dictionary of dictionaries data structure \n",
    "for column in names:\n",
    "    temp_dic = dict.fromkeys(stat_names)\n",
    "    temp_dic['assignment'] = column\n",
    "    temp_dic['mean'] = data_q4[column].mean()\n",
    "    temp_dic['standard deviation'] = data_q4[column].std()\n",
    "    temp_dic['max'] = data_q4[column].max()\n",
    "    temp_dic['min'] = data_q4[column].min()\n",
    "    temp_dic['median'] = data_q4[column].median()\n",
    "    temp_dic['25th quantile'] = data_q4[column].quantile(.25)\n",
    "    temp_dic['75th quantile'] = data_q4[column].quantile(.75)\n",
    "    statistics = statistics.append(temp_dic, ignore_index=True)"
   ]
  },
  {
   "cell_type": "code",
   "execution_count": 35,
   "metadata": {},
   "outputs": [
    {
     "data": {
      "text/html": [
       "<div>\n",
       "<style scoped>\n",
       "    .dataframe tbody tr th:only-of-type {\n",
       "        vertical-align: middle;\n",
       "    }\n",
       "\n",
       "    .dataframe tbody tr th {\n",
       "        vertical-align: top;\n",
       "    }\n",
       "\n",
       "    .dataframe thead th {\n",
       "        text-align: right;\n",
       "    }\n",
       "</style>\n",
       "<table border=\"1\" class=\"dataframe\">\n",
       "  <thead>\n",
       "    <tr style=\"text-align: right;\">\n",
       "      <th></th>\n",
       "      <th>assignment</th>\n",
       "      <th>mean</th>\n",
       "      <th>standard deviation</th>\n",
       "      <th>max</th>\n",
       "      <th>min</th>\n",
       "      <th>median</th>\n",
       "      <th>25th quantile</th>\n",
       "      <th>75th quantile</th>\n",
       "    </tr>\n",
       "  </thead>\n",
       "  <tbody>\n",
       "    <tr>\n",
       "      <td>0</td>\n",
       "      <td>Homework 1</td>\n",
       "      <td>37.320153</td>\n",
       "      <td>8.169238</td>\n",
       "      <td>44.0</td>\n",
       "      <td>0.0</td>\n",
       "      <td>40.0</td>\n",
       "      <td>37.00</td>\n",
       "      <td>42.0</td>\n",
       "    </tr>\n",
       "    <tr>\n",
       "      <td>1</td>\n",
       "      <td>Homework 2</td>\n",
       "      <td>37.633929</td>\n",
       "      <td>7.144194</td>\n",
       "      <td>44.0</td>\n",
       "      <td>0.0</td>\n",
       "      <td>40.0</td>\n",
       "      <td>37.00</td>\n",
       "      <td>41.0</td>\n",
       "    </tr>\n",
       "    <tr>\n",
       "      <td>2</td>\n",
       "      <td>Homework 3</td>\n",
       "      <td>37.015306</td>\n",
       "      <td>7.737703</td>\n",
       "      <td>44.0</td>\n",
       "      <td>-7.0</td>\n",
       "      <td>40.0</td>\n",
       "      <td>36.00</td>\n",
       "      <td>42.0</td>\n",
       "    </tr>\n",
       "    <tr>\n",
       "      <td>3</td>\n",
       "      <td>Homework 4</td>\n",
       "      <td>37.372449</td>\n",
       "      <td>7.911810</td>\n",
       "      <td>44.0</td>\n",
       "      <td>-3.0</td>\n",
       "      <td>40.0</td>\n",
       "      <td>37.00</td>\n",
       "      <td>42.0</td>\n",
       "    </tr>\n",
       "    <tr>\n",
       "      <td>4</td>\n",
       "      <td>Homework 5</td>\n",
       "      <td>39.373724</td>\n",
       "      <td>7.925378</td>\n",
       "      <td>44.0</td>\n",
       "      <td>0.0</td>\n",
       "      <td>42.0</td>\n",
       "      <td>40.00</td>\n",
       "      <td>42.0</td>\n",
       "    </tr>\n",
       "    <tr>\n",
       "      <td>5</td>\n",
       "      <td>Quiz 01</td>\n",
       "      <td>38.383929</td>\n",
       "      <td>11.487704</td>\n",
       "      <td>50.0</td>\n",
       "      <td>0.0</td>\n",
       "      <td>42.0</td>\n",
       "      <td>30.00</td>\n",
       "      <td>49.0</td>\n",
       "    </tr>\n",
       "    <tr>\n",
       "      <td>6</td>\n",
       "      <td>Quiz 02</td>\n",
       "      <td>42.491071</td>\n",
       "      <td>10.265936</td>\n",
       "      <td>50.0</td>\n",
       "      <td>0.0</td>\n",
       "      <td>46.0</td>\n",
       "      <td>39.00</td>\n",
       "      <td>50.0</td>\n",
       "    </tr>\n",
       "    <tr>\n",
       "      <td>7</td>\n",
       "      <td>Quiz 03</td>\n",
       "      <td>34.094388</td>\n",
       "      <td>10.932687</td>\n",
       "      <td>50.0</td>\n",
       "      <td>0.0</td>\n",
       "      <td>36.0</td>\n",
       "      <td>28.00</td>\n",
       "      <td>42.0</td>\n",
       "    </tr>\n",
       "    <tr>\n",
       "      <td>8</td>\n",
       "      <td>Quiz 04</td>\n",
       "      <td>41.520408</td>\n",
       "      <td>8.785195</td>\n",
       "      <td>50.0</td>\n",
       "      <td>0.0</td>\n",
       "      <td>45.0</td>\n",
       "      <td>38.00</td>\n",
       "      <td>48.0</td>\n",
       "    </tr>\n",
       "    <tr>\n",
       "      <td>9</td>\n",
       "      <td>Quiz 05</td>\n",
       "      <td>36.247449</td>\n",
       "      <td>11.854050</td>\n",
       "      <td>50.0</td>\n",
       "      <td>0.0</td>\n",
       "      <td>39.0</td>\n",
       "      <td>30.00</td>\n",
       "      <td>46.0</td>\n",
       "    </tr>\n",
       "    <tr>\n",
       "      <td>10</td>\n",
       "      <td>Quiz 06</td>\n",
       "      <td>33.743622</td>\n",
       "      <td>11.829648</td>\n",
       "      <td>50.0</td>\n",
       "      <td>0.0</td>\n",
       "      <td>36.0</td>\n",
       "      <td>26.00</td>\n",
       "      <td>43.0</td>\n",
       "    </tr>\n",
       "    <tr>\n",
       "      <td>11</td>\n",
       "      <td>Quiz 07</td>\n",
       "      <td>33.705357</td>\n",
       "      <td>13.217936</td>\n",
       "      <td>50.0</td>\n",
       "      <td>0.0</td>\n",
       "      <td>36.0</td>\n",
       "      <td>24.00</td>\n",
       "      <td>45.0</td>\n",
       "    </tr>\n",
       "    <tr>\n",
       "      <td>12</td>\n",
       "      <td>Quiz 08</td>\n",
       "      <td>32.044643</td>\n",
       "      <td>14.434838</td>\n",
       "      <td>50.0</td>\n",
       "      <td>0.0</td>\n",
       "      <td>35.0</td>\n",
       "      <td>22.00</td>\n",
       "      <td>44.0</td>\n",
       "    </tr>\n",
       "    <tr>\n",
       "      <td>13</td>\n",
       "      <td>Quiz 09</td>\n",
       "      <td>29.702806</td>\n",
       "      <td>12.460397</td>\n",
       "      <td>50.0</td>\n",
       "      <td>0.0</td>\n",
       "      <td>29.5</td>\n",
       "      <td>21.00</td>\n",
       "      <td>40.0</td>\n",
       "    </tr>\n",
       "    <tr>\n",
       "      <td>14</td>\n",
       "      <td>Quiz 10</td>\n",
       "      <td>30.431122</td>\n",
       "      <td>11.749530</td>\n",
       "      <td>50.0</td>\n",
       "      <td>0.0</td>\n",
       "      <td>32.0</td>\n",
       "      <td>22.00</td>\n",
       "      <td>40.0</td>\n",
       "    </tr>\n",
       "    <tr>\n",
       "      <td>15</td>\n",
       "      <td>Quiz 11</td>\n",
       "      <td>36.538265</td>\n",
       "      <td>15.572385</td>\n",
       "      <td>50.0</td>\n",
       "      <td>0.0</td>\n",
       "      <td>42.0</td>\n",
       "      <td>30.00</td>\n",
       "      <td>50.0</td>\n",
       "    </tr>\n",
       "    <tr>\n",
       "      <td>16</td>\n",
       "      <td>Quiz 12</td>\n",
       "      <td>35.651786</td>\n",
       "      <td>15.993131</td>\n",
       "      <td>50.0</td>\n",
       "      <td>0.0</td>\n",
       "      <td>43.0</td>\n",
       "      <td>25.00</td>\n",
       "      <td>50.0</td>\n",
       "    </tr>\n",
       "    <tr>\n",
       "      <td>17</td>\n",
       "      <td>Final Exam</td>\n",
       "      <td>108.394133</td>\n",
       "      <td>21.686234</td>\n",
       "      <td>147.0</td>\n",
       "      <td>0.0</td>\n",
       "      <td>111.0</td>\n",
       "      <td>96.00</td>\n",
       "      <td>126.0</td>\n",
       "    </tr>\n",
       "    <tr>\n",
       "      <td>18</td>\n",
       "      <td>Peer Evaluations</td>\n",
       "      <td>144.632653</td>\n",
       "      <td>22.307107</td>\n",
       "      <td>150.0</td>\n",
       "      <td>0.0</td>\n",
       "      <td>150.0</td>\n",
       "      <td>150.00</td>\n",
       "      <td>150.0</td>\n",
       "    </tr>\n",
       "    <tr>\n",
       "      <td>19</td>\n",
       "      <td>Total Score</td>\n",
       "      <td>798.954847</td>\n",
       "      <td>185.856883</td>\n",
       "      <td>1000.0</td>\n",
       "      <td>0.0</td>\n",
       "      <td>852.5</td>\n",
       "      <td>738.75</td>\n",
       "      <td>926.0</td>\n",
       "    </tr>\n",
       "  </tbody>\n",
       "</table>\n",
       "</div>"
      ],
      "text/plain": [
       "          assignment        mean  standard deviation     max  min  median  \\\n",
       "0         Homework 1   37.320153            8.169238    44.0  0.0    40.0   \n",
       "1         Homework 2   37.633929            7.144194    44.0  0.0    40.0   \n",
       "2         Homework 3   37.015306            7.737703    44.0 -7.0    40.0   \n",
       "3         Homework 4   37.372449            7.911810    44.0 -3.0    40.0   \n",
       "4         Homework 5   39.373724            7.925378    44.0  0.0    42.0   \n",
       "5            Quiz 01   38.383929           11.487704    50.0  0.0    42.0   \n",
       "6            Quiz 02   42.491071           10.265936    50.0  0.0    46.0   \n",
       "7            Quiz 03   34.094388           10.932687    50.0  0.0    36.0   \n",
       "8            Quiz 04   41.520408            8.785195    50.0  0.0    45.0   \n",
       "9            Quiz 05   36.247449           11.854050    50.0  0.0    39.0   \n",
       "10           Quiz 06   33.743622           11.829648    50.0  0.0    36.0   \n",
       "11           Quiz 07   33.705357           13.217936    50.0  0.0    36.0   \n",
       "12           Quiz 08   32.044643           14.434838    50.0  0.0    35.0   \n",
       "13           Quiz 09   29.702806           12.460397    50.0  0.0    29.5   \n",
       "14           Quiz 10   30.431122           11.749530    50.0  0.0    32.0   \n",
       "15           Quiz 11   36.538265           15.572385    50.0  0.0    42.0   \n",
       "16           Quiz 12   35.651786           15.993131    50.0  0.0    43.0   \n",
       "17        Final Exam  108.394133           21.686234   147.0  0.0   111.0   \n",
       "18  Peer Evaluations  144.632653           22.307107   150.0  0.0   150.0   \n",
       "19       Total Score  798.954847          185.856883  1000.0  0.0   852.5   \n",
       "\n",
       "    25th quantile  75th quantile  \n",
       "0           37.00           42.0  \n",
       "1           37.00           41.0  \n",
       "2           36.00           42.0  \n",
       "3           37.00           42.0  \n",
       "4           40.00           42.0  \n",
       "5           30.00           49.0  \n",
       "6           39.00           50.0  \n",
       "7           28.00           42.0  \n",
       "8           38.00           48.0  \n",
       "9           30.00           46.0  \n",
       "10          26.00           43.0  \n",
       "11          24.00           45.0  \n",
       "12          22.00           44.0  \n",
       "13          21.00           40.0  \n",
       "14          22.00           40.0  \n",
       "15          30.00           50.0  \n",
       "16          25.00           50.0  \n",
       "17          96.00          126.0  \n",
       "18         150.00          150.0  \n",
       "19         738.75          926.0  "
      ]
     },
     "execution_count": 35,
     "metadata": {},
     "output_type": "execute_result"
    }
   ],
   "source": [
    "statistics"
   ]
  },
  {
   "cell_type": "markdown",
   "metadata": {},
   "source": [
    "## Question 6: Plots"
   ]
  },
  {
   "cell_type": "code",
   "execution_count": 36,
   "metadata": {},
   "outputs": [
    {
     "data": {
      "image/png": "[encoded data removed]",
      "text/plain": [
       "<Figure size 432x288 with 1 Axes>"
      ]
     },
     "metadata": {
      "needs_background": "light"
     },
     "output_type": "display_data"
    }
   ],
   "source": [
    "# Boxplot 1: homework grades\n",
    "hw_names = [i for i in hw]\n",
    "#boxplot = data_copy.loc[data_copy['Semester'] == 0].boxplot(column = hw_names)\n",
    "boxplot = data_copy.boxplot(column = hw_names)"
   ]
  },
  {
   "cell_type": "code",
   "execution_count": 37,
   "metadata": {},
   "outputs": [
    {
     "data": {
      "image/png": "[encoded data removed]",
      "text/plain": [
       "<Figure size 432x288 with 1 Axes>"
      ]
     },
     "metadata": {
      "needs_background": "light"
     },
     "output_type": "display_data"
    }
   ],
   "source": [
    "# Boxplot 2: Quiz grades\n",
    "quiz_names = [i for i in quiz]\n",
    "#boxplot = data.boxplot(column = quiz_names)\n",
    "boxplot = data_copy.boxplot(column = quiz_names)"
   ]
  },
  {
   "cell_type": "code",
   "execution_count": 38,
   "metadata": {},
   "outputs": [
    {
     "data": {
      "image/png": "[encoded data removed]",
      "text/plain": [
       "<Figure size 432x288 with 1 Axes>"
      ]
     },
     "metadata": {
      "needs_background": "light"
     },
     "output_type": "display_data"
    }
   ],
   "source": [
    "# Boxplot 3 (derived): Homework averages \n",
    "# Creating the new column\n",
    "\n",
    "boxplot = data_copy.boxplot(column = 'Quiz Average')"
   ]
  },
  {
   "cell_type": "code",
   "execution_count": 39,
   "metadata": {},
   "outputs": [
    {
     "data": {
      "image/png": "[encoded data removed]",
      "text/plain": [
       "<Figure size 432x288 with 1 Axes>"
      ]
     },
     "metadata": {
      "needs_background": "light"
     },
     "output_type": "display_data"
    }
   ],
   "source": [
    "# Histogram 1: Homework 1\n",
    "hist = data_copy.hist(column = 'Homework 1', bins=10)"
   ]
  },
  {
   "cell_type": "code",
   "execution_count": 40,
   "metadata": {},
   "outputs": [
    {
     "data": {
      "image/png": "[encoded data removed]",
      "text/plain": [
       "<Figure size 432x288 with 1 Axes>"
      ]
     },
     "metadata": {
      "needs_background": "light"
     },
     "output_type": "display_data"
    }
   ],
   "source": [
    "# Histogram 2: Homework 3\n",
    "hist = data_copy.hist(column = 'Homework 3', bins=10)"
   ]
  },
  {
   "cell_type": "code",
   "execution_count": 41,
   "metadata": {},
   "outputs": [
    {
     "data": {
      "image/png": "[encoded data removed]",
      "text/plain": [
       "<Figure size 432x288 with 1 Axes>"
      ]
     },
     "metadata": {
      "needs_background": "light"
     },
     "output_type": "display_data"
    }
   ],
   "source": [
    "# Histogram 3 (derived): Quiz Averages\n",
    "hist = data_copy.hist(column = 'Homework Average', bins = 10)"
   ]
  },
  {
   "cell_type": "code",
   "execution_count": 42,
   "metadata": {},
   "outputs": [
    {
     "data": {
      "text/plain": [
       "<matplotlib.axes._subplots.AxesSubplot at 0x10f669860>"
      ]
     },
     "execution_count": 42,
     "metadata": {},
     "output_type": "execute_result"
    },
    {
     "data": {
      "image/png": "[encoded data removed]",
      "text/plain": [
       "<Figure size 432x288 with 2 Axes>"
      ]
     },
     "metadata": {
      "needs_background": "light"
     },
     "output_type": "display_data"
    }
   ],
   "source": [
    "# Scatter plot 1: Homework 1 vs Homework 5 Grades \n",
    "fig, ax = plt.subplots()\n",
    "data_copy.plot(kind = 'scatter', x='Homework 1',\n",
    "                      y='Homework 5',\n",
    "                      colormap='viridis',\n",
    "              ax = ax)"
   ]
  },
  {
   "cell_type": "code",
   "execution_count": 43,
   "metadata": {},
   "outputs": [
    {
     "data": {
      "text/plain": [
       "<matplotlib.axes._subplots.AxesSubplot at 0x104aa7048>"
      ]
     },
     "execution_count": 43,
     "metadata": {},
     "output_type": "execute_result"
    },
    {
     "data": {
      "image/png": "[encoded data removed]",
      "text/plain": [
       "<Figure size 432x288 with 2 Axes>"
      ]
     },
     "metadata": {
      "needs_background": "light"
     },
     "output_type": "display_data"
    }
   ],
   "source": [
    "# Scatter plot 2: Quiz 1 vs Final Exam Grades \n",
    "fig, ax = plt.subplots()\n",
    "data_copy.plot(kind = 'scatter', x='Quiz 01',\n",
    "                      y='Final Exam',\n",
    "                      colormap='viridis',\n",
    "              ax = ax)"
   ]
  },
  {
   "cell_type": "code",
   "execution_count": 44,
   "metadata": {},
   "outputs": [
    {
     "data": {
      "text/plain": [
       "<matplotlib.axes._subplots.AxesSubplot at 0x111956908>"
      ]
     },
     "execution_count": 44,
     "metadata": {},
     "output_type": "execute_result"
    },
    {
     "data": {
      "image/png": "[encoded data removed]",
      "text/plain": [
       "<Figure size 432x288 with 2 Axes>"
      ]
     },
     "metadata": {
      "needs_background": "light"
     },
     "output_type": "display_data"
    }
   ],
   "source": [
    "# Scatter plot 3 (derived): Homework 1 vs Homework 5 Grades \n",
    "fig, ax = plt.subplots()\n",
    "data_copy.plot(kind = 'scatter', x='Homework Average',\n",
    "                      y='Quiz Average',\n",
    "                      colormap='viridis',\n",
    "              ax = ax)"
   ]
  },
  {
   "cell_type": "code",
   "execution_count": 45,
   "metadata": {},
   "outputs": [],
   "source": [
    "#data_copy"
   ]
  }
 ],
 "metadata": {
  "kernelspec": {
   "display_name": "Python 3",
   "language": "python",
   "name": "python3"
  },
  "language_info": {
   "codemirror_mode": {
    "name": "ipython",
    "version": 3
   },
   "file_extension": ".py",
   "mimetype": "text/x-python",
   "name": "python",
   "nbconvert_exporter": "python",
   "pygments_lexer": "ipython3",
   "version": "3.7.3"
  }
 },
 "nbformat": 4,
 "nbformat_minor": 2
}
