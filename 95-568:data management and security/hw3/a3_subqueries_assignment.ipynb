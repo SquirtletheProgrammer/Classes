{
 "cells": [
  {
   "cell_type": "markdown",
   "metadata": {},
   "source": [
    "## A3:  Subqueries\n",
    "\n",
    "```\n",
    "Your name: _Dillon Wu_________________\n",
    "\n",
    "\n",
    "AndrewID: ___dillonw________________\n",
    "\n",
    "Queries that work:\n",
    "All of them\n",
    "\n",
    "Queries that don't:\n",
    "```None of them\n"
   ]
  },
  {
   "cell_type": "markdown",
   "metadata": {},
   "source": [
    "**Optional**:  If the table `Medalists` is not already created, you can recreate it using the instructions from assignment 2:\n",
    "\n",
    "```\n",
    "% psql -d postgres -U isdb -f a2_load.sql\n",
    "```\n"
   ]
  },
  {
   "cell_type": "markdown",
   "metadata": {},
   "source": [
    "### While some of these queries could be written using a JOIN, for this assignment you should not use a JOIN.  Rather, as needed, express your solution using sub-queries"
   ]
  },
  {
   "cell_type": "code",
   "execution_count": 1,
   "metadata": {},
   "outputs": [
    {
     "data": {
      "text/plain": [
       "'Connected: isdb@postgres'"
      ]
     },
     "execution_count": 1,
     "metadata": {},
     "output_type": "execute_result"
    }
   ],
   "source": [
    "%load_ext sql\n",
    "%sql postgres://isdb@localhost/postgres"
   ]
  },
  {
   "cell_type": "markdown",
   "metadata": {},
   "source": [
    "### The Schema of the Medalists table"
   ]
  },
  {
   "cell_type": "code",
   "execution_count": 2,
   "metadata": {
    "scrolled": true
   },
   "outputs": [
    {
     "name": "stdout",
     "output_type": "stream",
     "text": [
      " * postgres://isdb@localhost/postgres\n",
      "0 rows affected.\n"
     ]
    },
    {
     "data": {
      "text/html": [
       "<table>\n",
       "    <tr>\n",
       "        <th>edition</th>\n",
       "        <th>athlete</th>\n",
       "        <th>noc</th>\n",
       "        <th>gender</th>\n",
       "        <th>event</th>\n",
       "        <th>medal</th>\n",
       "        <th>season</th>\n",
       "    </tr>\n",
       "</table>"
      ],
      "text/plain": [
       "[]"
      ]
     },
     "execution_count": 2,
     "metadata": {},
     "output_type": "execute_result"
    }
   ],
   "source": [
    "%sql select * from medalists limit 0"
   ]
  },
  {
   "cell_type": "markdown",
   "metadata": {},
   "source": [
    "**[Q 01] In a2 we saw that though the official Winter Olympic games started in 1924, winter sports in Olympic games started in 1908. In descending order by total medal count, list the countries which won medals in the very first winter sports.**\n",
    "\n",
    "https://en.wikipedia.org/wiki/Figure_skating_at_the_1908_Summer_Olympics \n",
    "\n",
    "**You are not allowed to hard code the value of 1908 in your query.  Rather, you need to write a sub-query that will first determine the year in which winter sports were first part of the olympics (i.e., 1908) and then use this sub-query in your main query to determine the final answer.**"
   ]
  },
  {
   "cell_type": "code",
   "execution_count": 3,
   "metadata": {
    "scrolled": true
   },
   "outputs": [
    {
     "name": "stdout",
     "output_type": "stream",
     "text": [
      " * postgres://isdb@localhost/postgres\n",
      "4 rows affected.\n"
     ]
    },
    {
     "data": {
      "text/html": [
       "<table>\n",
       "    <tr>\n",
       "        <th>noc</th>\n",
       "        <th>count</th>\n",
       "    </tr>\n",
       "    <tr>\n",
       "        <td>GBR</td>\n",
       "        <td>7</td>\n",
       "    </tr>\n",
       "    <tr>\n",
       "        <td>GER</td>\n",
       "        <td>4</td>\n",
       "    </tr>\n",
       "    <tr>\n",
       "        <td>SWE</td>\n",
       "        <td>3</td>\n",
       "    </tr>\n",
       "    <tr>\n",
       "        <td>RU1</td>\n",
       "        <td>1</td>\n",
       "    </tr>\n",
       "</table>"
      ],
      "text/plain": [
       "[('GBR', 7), ('GER', 4), ('SWE', 3), ('RU1', 1)]"
      ]
     },
     "execution_count": 3,
     "metadata": {},
     "output_type": "execute_result"
    }
   ],
   "source": [
    "%%sql\n",
    "--solution\n",
    "SELECT m.noc, count(m.medal)\n",
    "  FROM medalists as m\n",
    " WHERE m.edition = (SELECT min(edition)\n",
    "                      FROM medalists\n",
    "                     WHERE season = 'Winter')\n",
    "   AND season = 'Winter'\n",
    " GROUP BY m.noc\n",
    " ORDER BY count(m.medal) desc; \n",
    "\n",
    "\n",
    "\n",
    "\n"
   ]
  },
  {
   "cell_type": "raw",
   "metadata": {},
   "source": [
    "Answer:\n",
    "\n",
    "+-----+-------+\n",
    "| noc | count |\n",
    "+-----+-------+\n",
    "| GBR |   7   |\n",
    "| GER |   4   |\n",
    "| SWE |   3   |\n",
    "| RU1 |   1   |\n",
    "+-----+-------+"
   ]
  },
  {
   "cell_type": "markdown",
   "metadata": {},
   "source": [
    "In a2 we saw that including 2004, eight men athletes have won medals more than once in the 100m.  Seven women athletes have also won medals more than once with in the 100m, with OTTEY-PAGE, Merlene winning thrice!\n",
    "https://en.wikipedia.org/wiki/Merlene_Ottey \n",
    "```\n",
    "+---------------------------------+-------+---+\n",
    "|             athlete             | event | c |\n",
    "+---------------------------------+-------+---+\n",
    "|       OTTEY-PAGE, Merlene       |  100m | 3 |\n",
    "|     WALASIEWICZ, Stanislawa     |  100m | 2 |\n",
    "|           TYUS, Wyomia          |  100m | 2 |\n",
    "|           DEVERS, Gail          |  100m | 2 |\n",
    "|         ASHFORD, Evelyn         |  100m | 2 |\n",
    "| STRICKLAND-DE LA HUNTY, Shirley |  100m | 2 |\n",
    "|         STECHER, Renate         |  100m | 2 |\n",
    "+---------------------------------+-------+---+\n",
    "```\n",
    "\n",
    "**[Q 02] Using a sub-query, write a query that will chronologically list information about each woman athlete who won a medal in the 100m (year, country, name, medal). **"
   ]
  },
  {
   "cell_type": "code",
   "execution_count": 4,
   "metadata": {
    "scrolled": true
   },
   "outputs": [
    {
     "name": "stdout",
     "output_type": "stream",
     "text": [
      " * postgres://isdb@localhost/postgres\n",
      "15 rows affected.\n"
     ]
    },
    {
     "data": {
      "text/html": [
       "<table>\n",
       "    <tr>\n",
       "        <th>edition</th>\n",
       "        <th>noc</th>\n",
       "        <th>athlete</th>\n",
       "        <th>medal</th>\n",
       "    </tr>\n",
       "    <tr>\n",
       "        <td>1932</td>\n",
       "        <td>POL</td>\n",
       "        <td>WALASIEWICZ, Stanislawa</td>\n",
       "        <td>Gold</td>\n",
       "    </tr>\n",
       "    <tr>\n",
       "        <td>1936</td>\n",
       "        <td>POL</td>\n",
       "        <td>WALASIEWICZ, Stanislawa</td>\n",
       "        <td>Silver</td>\n",
       "    </tr>\n",
       "    <tr>\n",
       "        <td>1948</td>\n",
       "        <td>AUS</td>\n",
       "        <td>STRICKLAND-DE LA HUNTY, Shirley</td>\n",
       "        <td>Bronze</td>\n",
       "    </tr>\n",
       "    <tr>\n",
       "        <td>1952</td>\n",
       "        <td>AUS</td>\n",
       "        <td>STRICKLAND-DE LA HUNTY, Shirley</td>\n",
       "        <td>Bronze</td>\n",
       "    </tr>\n",
       "    <tr>\n",
       "        <td>1964</td>\n",
       "        <td>USA</td>\n",
       "        <td>TYUS, Wyomia</td>\n",
       "        <td>Gold</td>\n",
       "    </tr>\n",
       "    <tr>\n",
       "        <td>1968</td>\n",
       "        <td>USA</td>\n",
       "        <td>TYUS, Wyomia</td>\n",
       "        <td>Gold</td>\n",
       "    </tr>\n",
       "    <tr>\n",
       "        <td>1972</td>\n",
       "        <td>GDR</td>\n",
       "        <td>STECHER, Renate</td>\n",
       "        <td>Gold</td>\n",
       "    </tr>\n",
       "    <tr>\n",
       "        <td>1976</td>\n",
       "        <td>GDR</td>\n",
       "        <td>STECHER, Renate</td>\n",
       "        <td>Silver</td>\n",
       "    </tr>\n",
       "    <tr>\n",
       "        <td>1984</td>\n",
       "        <td>USA</td>\n",
       "        <td>ASHFORD, Evelyn</td>\n",
       "        <td>Gold</td>\n",
       "    </tr>\n",
       "    <tr>\n",
       "        <td>1984</td>\n",
       "        <td>JAM</td>\n",
       "        <td>OTTEY-PAGE, Merlene</td>\n",
       "        <td>Bronze</td>\n",
       "    </tr>\n",
       "    <tr>\n",
       "        <td>1988</td>\n",
       "        <td>USA</td>\n",
       "        <td>ASHFORD, Evelyn</td>\n",
       "        <td>Silver</td>\n",
       "    </tr>\n",
       "    <tr>\n",
       "        <td>1992</td>\n",
       "        <td>USA</td>\n",
       "        <td>DEVERS, Gail</td>\n",
       "        <td>Gold</td>\n",
       "    </tr>\n",
       "    <tr>\n",
       "        <td>1996</td>\n",
       "        <td>USA</td>\n",
       "        <td>DEVERS, Gail</td>\n",
       "        <td>Gold</td>\n",
       "    </tr>\n",
       "    <tr>\n",
       "        <td>1996</td>\n",
       "        <td>JAM</td>\n",
       "        <td>OTTEY-PAGE, Merlene</td>\n",
       "        <td>Silver</td>\n",
       "    </tr>\n",
       "    <tr>\n",
       "        <td>2000</td>\n",
       "        <td>JAM</td>\n",
       "        <td>OTTEY-PAGE, Merlene</td>\n",
       "        <td>Bronze</td>\n",
       "    </tr>\n",
       "</table>"
      ],
      "text/plain": [
       "[(1932, 'POL', 'WALASIEWICZ, Stanislawa', 'Gold'),\n",
       " (1936, 'POL', 'WALASIEWICZ, Stanislawa', 'Silver'),\n",
       " (1948, 'AUS', 'STRICKLAND-DE LA HUNTY, Shirley', 'Bronze'),\n",
       " (1952, 'AUS', 'STRICKLAND-DE LA HUNTY, Shirley', 'Bronze'),\n",
       " (1964, 'USA', 'TYUS, Wyomia', 'Gold'),\n",
       " (1968, 'USA', 'TYUS, Wyomia', 'Gold'),\n",
       " (1972, 'GDR', 'STECHER, Renate', 'Gold'),\n",
       " (1976, 'GDR', 'STECHER, Renate', 'Silver'),\n",
       " (1984, 'USA', 'ASHFORD, Evelyn', 'Gold'),\n",
       " (1984, 'JAM', 'OTTEY-PAGE, Merlene', 'Bronze'),\n",
       " (1988, 'USA', 'ASHFORD, Evelyn', 'Silver'),\n",
       " (1992, 'USA', 'DEVERS, Gail', 'Gold'),\n",
       " (1996, 'USA', 'DEVERS, Gail', 'Gold'),\n",
       " (1996, 'JAM', 'OTTEY-PAGE, Merlene', 'Silver'),\n",
       " (2000, 'JAM', 'OTTEY-PAGE, Merlene', 'Bronze')]"
      ]
     },
     "execution_count": 4,
     "metadata": {},
     "output_type": "execute_result"
    }
   ],
   "source": [
    "%%sql\n",
    "--solution \n",
    "SELECT m.edition, m.noc, m.athlete, m.medal\n",
    "  FROM medalists AS m\n",
    " WHERE m.athlete IN (SELECT athlete\n",
    "                       FROM medalists\n",
    "                      WHERE event = '100m'\n",
    "                        AND gender = 'Women'\n",
    "                      GROUP BY athlete\n",
    "                     HAVING count(medal) >= 2)\n",
    "   AND m.event = '100m'\n",
    " ORDER by m.edition asc;\n",
    "\n",
    "\n",
    "\n",
    "\n",
    "\n",
    "\n",
    "\n",
    "\n",
    "\n"
   ]
  },
  {
   "cell_type": "raw",
   "metadata": {},
   "source": [
    "Answer:\n",
    "\n",
    "+---------+-----+---------------------------------+--------+\n",
    "| edition | noc |             athlete             | medal  |\n",
    "+---------+-----+---------------------------------+--------+\n",
    "|   1932  | POL |     WALASIEWICZ, Stanislawa     |  Gold  |\n",
    "|   1936  | POL |     WALASIEWICZ, Stanislawa     | Silver |\n",
    "|   1948  | AUS | STRICKLAND-DE LA HUNTY, Shirley | Bronze |\n",
    "|   1952  | AUS | STRICKLAND-DE LA HUNTY, Shirley | Bronze |\n",
    "|   1964  | USA |           TYUS, Wyomia          |  Gold  |\n",
    "|   1968  | USA |           TYUS, Wyomia          |  Gold  |\n",
    "|   1972  | GDR |         STECHER, Renate         |  Gold  |\n",
    "|   1976  | GDR |         STECHER, Renate         | Silver |\n",
    "|   1984  | USA |         ASHFORD, Evelyn         |  Gold  |\n",
    "|   1984  | JAM |       OTTEY-PAGE, Merlene       | Bronze |\n",
    "|   1988  | USA |         ASHFORD, Evelyn         | Silver |\n",
    "|   1992  | USA |           DEVERS, Gail          |  Gold  |\n",
    "|   1996  | USA |           DEVERS, Gail          |  Gold  |\n",
    "|   1996  | JAM |       OTTEY-PAGE, Merlene       | Silver |\n",
    "|   2000  | JAM |       OTTEY-PAGE, Merlene       | Bronze |\n",
    "+---------+-----+---------------------------------+--------+"
   ]
  },
  {
   "cell_type": "markdown",
   "metadata": {},
   "source": [
    "**[Q 03] First, write a query to produce a table of unique NOCs**\n",
    "https://en.wikipedia.org/wiki/National_Olympic_Committee\n",
    "Call the table `nocs` if you count its length you should get 139.  \n",
    "\n",
    "As always, for ease of re-execution, precede a `CREATE TABLE ...` with a `DROP TABLE IF EXISTS ...`\n",
    "\n",
    " "
   ]
  },
  {
   "cell_type": "code",
   "execution_count": 5,
   "metadata": {},
   "outputs": [
    {
     "name": "stdout",
     "output_type": "stream",
     "text": [
      " * postgres://isdb@localhost/postgres\n",
      "Done.\n",
      "139 rows affected.\n"
     ]
    },
    {
     "data": {
      "text/plain": [
       "[]"
      ]
     },
     "execution_count": 5,
     "metadata": {},
     "output_type": "execute_result"
    }
   ],
   "source": [
    "%%sql\n",
    "--solution\n",
    "DROP TABLE IF EXISTS nocs;\n",
    "CREATE TABLE nocs AS\n",
    "    SELECT DISTINCT noc\n",
    "      FROM medalists;"
   ]
  },
  {
   "cell_type": "markdown",
   "metadata": {},
   "source": [
    "**[Q 04] Write a query to produce a count of the number of Gold medals each country has won.  Call this table `Gold_Medals`.** \n",
    "\n",
    "The sub-query you will use is placed in the SELECT clause.  The outline of your solution will be\n",
    "\n",
    "```\n",
    "CREATE TABLE Gold_Medals AS\n",
    "   SELECT _______, (SELECT __________) as count\n",
    "   ...\n",
    " ```"
   ]
  },
  {
   "cell_type": "code",
   "execution_count": 6,
   "metadata": {},
   "outputs": [
    {
     "name": "stdout",
     "output_type": "stream",
     "text": [
      " * postgres://isdb@localhost/postgres\n",
      "Done.\n",
      "139 rows affected.\n"
     ]
    },
    {
     "data": {
      "text/plain": [
       "[]"
      ]
     },
     "execution_count": 6,
     "metadata": {},
     "output_type": "execute_result"
    }
   ],
   "source": [
    "%%sql\n",
    "-- solution\n",
    "DROP TABLE IF EXISTS Gold_Medals;\n",
    "CREATE TABLE Gold_Medals AS\n",
    "   SELECT m.noc, (SELECT count(m2.medal)\n",
    "                    FROM Medalists AS m2\n",
    "                   WHERE m2.medal = 'Gold'\n",
    "                     AND m2.noc = m.noc \n",
    "               )AS count\n",
    "     FROM nocs AS m;\n"
   ]
  },
  {
   "cell_type": "code",
   "execution_count": 7,
   "metadata": {},
   "outputs": [
    {
     "name": "stdout",
     "output_type": "stream",
     "text": [
      " * postgres://isdb@localhost/postgres\n",
      "1 rows affected.\n"
     ]
    },
    {
     "data": {
      "text/html": [
       "<table>\n",
       "    <tr>\n",
       "        <th>count</th>\n",
       "    </tr>\n",
       "    <tr>\n",
       "        <td>139</td>\n",
       "    </tr>\n",
       "</table>"
      ],
      "text/plain": [
       "[(139,)]"
      ]
     },
     "execution_count": 7,
     "metadata": {},
     "output_type": "execute_result"
    }
   ],
   "source": [
    "%sql select count(*) from Gold_Medals"
   ]
  },
  {
   "cell_type": "markdown",
   "metadata": {},
   "source": [
    "Your table should mirror the below"
   ]
  },
  {
   "cell_type": "code",
   "execution_count": 8,
   "metadata": {
    "scrolled": true
   },
   "outputs": [
    {
     "name": "stdout",
     "output_type": "stream",
     "text": [
      " * postgres://isdb@localhost/postgres\n",
      "5 rows affected.\n"
     ]
    },
    {
     "data": {
      "text/html": [
       "<table>\n",
       "    <tr>\n",
       "        <th>noc</th>\n",
       "        <th>count</th>\n",
       "    </tr>\n",
       "    <tr>\n",
       "        <td>USA</td>\n",
       "        <td>2187</td>\n",
       "    </tr>\n",
       "    <tr>\n",
       "        <td>URS</td>\n",
       "        <td>1003</td>\n",
       "    </tr>\n",
       "    <tr>\n",
       "        <td>GBR</td>\n",
       "        <td>514</td>\n",
       "    </tr>\n",
       "    <tr>\n",
       "        <td>ITA</td>\n",
       "        <td>509</td>\n",
       "    </tr>\n",
       "    <tr>\n",
       "        <td>GER</td>\n",
       "        <td>480</td>\n",
       "    </tr>\n",
       "</table>"
      ],
      "text/plain": [
       "[('USA', 2187), ('URS', 1003), ('GBR', 514), ('ITA', 509), ('GER', 480)]"
      ]
     },
     "execution_count": 8,
     "metadata": {},
     "output_type": "execute_result"
    }
   ],
   "source": [
    "%%sql\n",
    "SELECT * \n",
    " FROM Gold_Medals\n",
    "ORDER BY count desc\n",
    "LIMIT 5;"
   ]
  },
  {
   "cell_type": "raw",
   "metadata": {},
   "source": [
    "+-----+-------+\n",
    "| noc | count |\n",
    "+-----+-------+\n",
    "| USA |  2187 |\n",
    "| URS |  1003 |\n",
    "| GBR |  514  |\n",
    "| ITA |  509  |\n",
    "| GER |  480  |\n",
    "+-----+-------+"
   ]
  },
  {
   "cell_type": "markdown",
   "metadata": {},
   "source": [
    "**[Q 05] Which countries have not won a gold medal at all? Just give the NOC and count (to verify).  Sort the table alphabetically and list the first 10**"
   ]
  },
  {
   "cell_type": "code",
   "execution_count": 9,
   "metadata": {},
   "outputs": [
    {
     "name": "stdout",
     "output_type": "stream",
     "text": [
      " * postgres://isdb@localhost/postgres\n",
      "10 rows affected.\n"
     ]
    },
    {
     "data": {
      "text/html": [
       "<table>\n",
       "    <tr>\n",
       "        <th>noc</th>\n",
       "        <th>count</th>\n",
       "    </tr>\n",
       "    <tr>\n",
       "        <td>AFG</td>\n",
       "        <td>0</td>\n",
       "    </tr>\n",
       "    <tr>\n",
       "        <td>AHO</td>\n",
       "        <td>0</td>\n",
       "    </tr>\n",
       "    <tr>\n",
       "        <td>BAR</td>\n",
       "        <td>0</td>\n",
       "    </tr>\n",
       "    <tr>\n",
       "        <td>BER</td>\n",
       "        <td>0</td>\n",
       "    </tr>\n",
       "    <tr>\n",
       "        <td>BOH</td>\n",
       "        <td>0</td>\n",
       "    </tr>\n",
       "    <tr>\n",
       "        <td>BWI</td>\n",
       "        <td>0</td>\n",
       "    </tr>\n",
       "    <tr>\n",
       "        <td>CIV</td>\n",
       "        <td>0</td>\n",
       "    </tr>\n",
       "    <tr>\n",
       "        <td>DJI</td>\n",
       "        <td>0</td>\n",
       "    </tr>\n",
       "    <tr>\n",
       "        <td>ERI</td>\n",
       "        <td>0</td>\n",
       "    </tr>\n",
       "    <tr>\n",
       "        <td>GHA</td>\n",
       "        <td>0</td>\n",
       "    </tr>\n",
       "</table>"
      ],
      "text/plain": [
       "[('AFG', 0),\n",
       " ('AHO', 0),\n",
       " ('BAR', 0),\n",
       " ('BER', 0),\n",
       " ('BOH', 0),\n",
       " ('BWI', 0),\n",
       " ('CIV', 0),\n",
       " ('DJI', 0),\n",
       " ('ERI', 0),\n",
       " ('GHA', 0)]"
      ]
     },
     "execution_count": 9,
     "metadata": {},
     "output_type": "execute_result"
    }
   ],
   "source": [
    "%%sql \n",
    "-- solution\n",
    "\n",
    "SELECT noc, count\n",
    "  FROM Gold_Medals\n",
    " WHERE count = '0'\n",
    " ORDER BY noc ASC\n",
    " LIMIT 10;\n",
    "\n",
    "\n",
    "\n",
    "\n",
    "\n",
    "\n"
   ]
  },
  {
   "cell_type": "raw",
   "metadata": {},
   "source": [
    "+-----+-------+\n",
    "| noc | count |\n",
    "+-----+-------+\n",
    "| AFG |   0   |\n",
    "| AHO |   0   |\n",
    "| BAR |   0   |\n",
    "| BER |   0   |\n",
    "| BOH |   0   |\n",
    "| BWI |   0   |\n",
    "| CIV |   0   |\n",
    "| DJI |   0   |\n",
    "| ERI |   0   |\n",
    "| GHA |   0   |\n",
    "+-----+-------+"
   ]
  },
  {
   "cell_type": "markdown",
   "metadata": {},
   "source": [
    "**[Q 06] Which countries have won the most number of medals without winning a gold?**\n",
    "\n",
    "Hint: In the previous query you found all the NOCs which haven't won any gold medal.  Using this as a subquery, filter and group medalists.  You will need to use the 'in' operator.  read about it in https://www.postgresql.org/docs/current/static/functions-subquery.html#FUNCTIONS-SUBQUERY-IN "
   ]
  },
  {
   "cell_type": "code",
   "execution_count": 10,
   "metadata": {},
   "outputs": [
    {
     "name": "stdout",
     "output_type": "stream",
     "text": [
      " * postgres://isdb@localhost/postgres\n",
      "5 rows affected.\n"
     ]
    },
    {
     "data": {
      "text/html": [
       "<table>\n",
       "    <tr>\n",
       "        <th>noc</th>\n",
       "        <th>Total Number of Medals</th>\n",
       "    </tr>\n",
       "    <tr>\n",
       "        <td>PAR</td>\n",
       "        <td>17</td>\n",
       "    </tr>\n",
       "    <tr>\n",
       "        <td>ISL</td>\n",
       "        <td>17</td>\n",
       "    </tr>\n",
       "    <tr>\n",
       "        <td>GHA</td>\n",
       "        <td>16</td>\n",
       "    </tr>\n",
       "    <tr>\n",
       "        <td>SRB</td>\n",
       "        <td>15</td>\n",
       "    </tr>\n",
       "    <tr>\n",
       "        <td>SCG</td>\n",
       "        <td>14</td>\n",
       "    </tr>\n",
       "</table>"
      ],
      "text/plain": [
       "[('PAR', 17), ('ISL', 17), ('GHA', 16), ('SRB', 15), ('SCG', 14)]"
      ]
     },
     "execution_count": 10,
     "metadata": {},
     "output_type": "execute_result"
    }
   ],
   "source": [
    "%%sql\n",
    "-- solution\n",
    "\n",
    "SELECT m.noc, count(m.medal) AS \"Total Number of Medals\"\n",
    "  FROM Medalists AS m\n",
    " WHERE m.noc NOT IN (SELECT noc\n",
    "                       FROM Gold_Medals\n",
    "                      WHERE count >= 1)\n",
    " GROUP BY m.noc\n",
    " ORDER BY count(m.medal) desc\n",
    " LIMIT 5;\n",
    "\n",
    "\n",
    "\n",
    "\n",
    "\n",
    "\n"
   ]
  },
  {
   "cell_type": "raw",
   "metadata": {},
   "source": [
    "+-----+------------------------+\n",
    "| noc | Total Number of Medals |\n",
    "+-----+------------------------+\n",
    "| ISL |           17           |\n",
    "| PAR |           17           |\n",
    "| GHA |           16           |\n",
    "| SRB |           15           |\n",
    "| SCG |           14           |\n",
    "+-----+------------------------+"
   ]
  },
  {
   "cell_type": "markdown",
   "metadata": {},
   "source": [
    "**[Q 07] Which countries have won one and only 1 gold?**"
   ]
  },
  {
   "cell_type": "code",
   "execution_count": 11,
   "metadata": {},
   "outputs": [
    {
     "name": "stdout",
     "output_type": "stream",
     "text": [
      " * postgres://isdb@localhost/postgres\n",
      "2 rows affected.\n"
     ]
    },
    {
     "data": {
      "text/html": [
       "<table>\n",
       "    <tr>\n",
       "        <th>noc</th>\n",
       "    </tr>\n",
       "    <tr>\n",
       "        <td>UAE</td>\n",
       "    </tr>\n",
       "    <tr>\n",
       "        <td>BDI</td>\n",
       "    </tr>\n",
       "</table>"
      ],
      "text/plain": [
       "[('UAE',), ('BDI',)]"
      ]
     },
     "execution_count": 11,
     "metadata": {},
     "output_type": "execute_result"
    }
   ],
   "source": [
    "%%sql\n",
    "-- solution\n",
    "\n",
    "SELECT g.noc\n",
    "  FROM Gold_Medals AS g\n",
    " WHERE g.noc IN (SELECT noc\n",
    "                   FROM Medalists\n",
    "                  GROUP BY noc\n",
    "                 HAVING count(medal) = 1)\n",
    "   AND count = 1;\n",
    "\n",
    "\n",
    "\n",
    "\n",
    "\n",
    "\n",
    "\n",
    "\n"
   ]
  },
  {
   "cell_type": "raw",
   "metadata": {
    "collapsed": true
   },
   "source": [
    "+-----+\n",
    "| noc |\n",
    "+-----+\n",
    "| UAE |\n",
    "| BDI |\n",
    "+-----+"
   ]
  }
 ],
 "metadata": {
  "kernelspec": {
   "display_name": "Python 3",
   "language": "python",
   "name": "python3"
  },
  "language_info": {
   "codemirror_mode": {
    "name": "ipython",
    "version": 3
   },
   "file_extension": ".py",
   "mimetype": "text/x-python",
   "name": "python",
   "nbconvert_exporter": "python",
   "pygments_lexer": "ipython3",
   "version": "3.7.3"
  }
 },
 "nbformat": 4,
 "nbformat_minor": 1
}
