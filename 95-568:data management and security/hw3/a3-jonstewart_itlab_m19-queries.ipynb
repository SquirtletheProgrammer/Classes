{
 "cells": [
  {
   "cell_type": "markdown",
   "metadata": {},
   "source": [
    "# Assignment 3:  Using JOIN / Daily Show Guests"
   ]
  },
  {
   "cell_type": "markdown",
   "metadata": {},
   "source": [
    "## Has the same guest appeared on the Daily Show under more than one job title or profession?"
   ]
  },
  {
   "cell_type": "markdown",
   "metadata": {},
   "source": [
    "From 1999 to 2015 [Jon Stewart](https://en.wikipedia.org/wiki/Jon_Stewart) hosted [The Daily Show](https://en.wikipedia.org/wiki/The_Daily_Show).  The lists of guests that appreared on that show is available in a CSV file\n",
    "\n",
    "Each entry has the form:\n",
    "\n",
    "```2015,actor,4/15/15,Acting,Billy Crystal\n",
    "```\n",
    "\n",
    "The SQL file `jon_load.sql` defines the following table and loads the contents of the file into that table. "
   ]
  },
  {
   "cell_type": "code",
   "execution_count": 1,
   "metadata": {},
   "outputs": [
    {
     "data": {
      "text/plain": [
       "'Connected: isdb@postgres'"
      ]
     },
     "execution_count": 1,
     "metadata": {},
     "output_type": "execute_result"
    }
   ],
   "source": [
    "%load_ext sql\n",
    "%sql postgresql://isdb@localhost/postgres"
   ]
  },
  {
   "cell_type": "markdown",
   "metadata": {},
   "source": [
    "Over the many years of its run under the stewardship of Jon Stewart, the Daily Show, has had a number of guests.  It is easy to determine the number of unique guests with"
   ]
  },
  {
   "cell_type": "code",
   "execution_count": 2,
   "metadata": {},
   "outputs": [
    {
     "name": "stdout",
     "output_type": "stream",
     "text": [
      " * postgresql://isdb@localhost/postgres\n",
      "1 rows affected.\n"
     ]
    },
    {
     "data": {
      "text/html": [
       "<table>\n",
       "    <tr>\n",
       "        <th>count</th>\n",
       "    </tr>\n",
       "    <tr>\n",
       "        <td>1669</td>\n",
       "    </tr>\n",
       "</table>"
      ],
      "text/plain": [
       "[(1669,)]"
      ]
     },
     "execution_count": 2,
     "metadata": {},
     "output_type": "execute_result"
    }
   ],
   "source": [
    "%%sql\n",
    "\n",
    "select count( distinct name)\n",
    "from Daily_Show_Guests"
   ]
  },
  {
   "cell_type": "markdown",
   "metadata": {},
   "source": [
    "Of these 1669 guests, who has appeared the most?  Based on our class and lab discussions this should be straightforward:"
   ]
  },
  {
   "cell_type": "code",
   "execution_count": 3,
   "metadata": {},
   "outputs": [
    {
     "name": "stdout",
     "output_type": "stream",
     "text": [
      " * postgresql://isdb@localhost/postgres\n",
      "5 rows affected.\n"
     ]
    },
    {
     "data": {
      "text/html": [
       "<table>\n",
       "    <tr>\n",
       "        <th>name</th>\n",
       "        <th>count</th>\n",
       "    </tr>\n",
       "    <tr>\n",
       "        <td>Fareed Zakaria</td>\n",
       "        <td>19</td>\n",
       "    </tr>\n",
       "    <tr>\n",
       "        <td>Denis Leary</td>\n",
       "        <td>17</td>\n",
       "    </tr>\n",
       "    <tr>\n",
       "        <td>Brian Williams</td>\n",
       "        <td>16</td>\n",
       "    </tr>\n",
       "    <tr>\n",
       "        <td>Paul Rudd</td>\n",
       "        <td>13</td>\n",
       "    </tr>\n",
       "    <tr>\n",
       "        <td>Ricky Gervais</td>\n",
       "        <td>13</td>\n",
       "    </tr>\n",
       "</table>"
      ],
      "text/plain": [
       "[('Fareed Zakaria', 19),\n",
       " ('Denis Leary', 17),\n",
       " ('Brian Williams', 16),\n",
       " ('Paul Rudd', 13),\n",
       " ('Ricky Gervais', 13)]"
      ]
     },
     "execution_count": 3,
     "metadata": {},
     "output_type": "execute_result"
    }
   ],
   "source": [
    "%%sql\n",
    "\n",
    "  SELECT name, count(name)\n",
    "    FROM Daily_Show_Guests\n",
    "GROUP BY name, job_title\n",
    "ORDER BY count(name) DESC\n",
    "   LIMIT 5;"
   ]
  },
  {
   "cell_type": "markdown",
   "metadata": {},
   "source": [
    "A question I wondered about was \"has anyone appeared on the Daily Show under different titles\"?  For example, has a person who appeared once as a senator re-appeared as a governor or so.\n",
    "\n",
    "If you calculate the number of unique `name`, `job_title` combinations you will get 1696. (You don't need to write the query for this.)"
   ]
  },
  {
   "cell_type": "code",
   "execution_count": 4,
   "metadata": {},
   "outputs": [
    {
     "name": "stdout",
     "output_type": "stream",
     "text": [
      " * postgresql://isdb@localhost/postgres\n",
      "1 rows affected.\n"
     ]
    },
    {
     "data": {
      "text/html": [
       "<table>\n",
       "    <tr>\n",
       "        <th>count</th>\n",
       "    </tr>\n",
       "    <tr>\n",
       "        <td>1696</td>\n",
       "    </tr>\n",
       "</table>"
      ],
      "text/plain": [
       "[(1696,)]"
      ]
     },
     "execution_count": 4,
     "metadata": {},
     "output_type": "execute_result"
    }
   ],
   "source": [
    "%%sql\n",
    "\n",
    "   SELECT count(name) from\n",
    "      (   SELECT DISTINCT name, job_title\n",
    "            FROM Daily_Show_Guests\n",
    "        GROUP BY name, job_title\n",
    "        ORDER BY name) as distinct_name_title"
   ]
  },
  {
   "cell_type": "markdown",
   "metadata": {},
   "source": [
    "So it seems that 1696 - 1669 = 27 people may have appeared on the Daily Show with more than one job title.\n",
    "\n",
    "Is that really the case?\n",
    "\n",
    "Write a pair of queries that will produce the below unique pairing of people who have appeared more than once with their job titles. \n",
    "\n",
    "Unfortunately, these is nobody with the characteristic I searched for. Rather we see dual entries with different job titles when that episode of the DS had two guests from two different professions.\n",
    "\n",
    "The closest to having a guest appear with two different titles is Jon Favreau. But in this case we are refering to two different people all together. https://en.wikipedia.org/wiki/Jon_Favreau https://en.wikipedia.org/wiki/Jon_Favreau_(speechwriter)\n",
    "\n",
    "Still this is an interesting pair of queries to write."
   ]
  },
  {
   "cell_type": "markdown",
   "metadata": {},
   "source": [
    "### The Queries"
   ]
  },
  {
   "cell_type": "markdown",
   "metadata": {},
   "source": [
    "Based on what we've discussed in class draw some diagrams and try to reason a solution.\n",
    "\n",
    "If need be, you can take a look at the guidlines I've provided below, but do give it a sincere try first.\n",
    "\n",
    "To look at my hint, remove the leading `#` mark in the below line and evaluate it with a shift-return"
   ]
  },
  {
   "cell_type": "code",
   "execution_count": 5,
   "metadata": {
    "scrolled": true
   },
   "outputs": [],
   "source": [
    "#print('\\n\\n.tuokrow ot evah lliw uoy sliated wef a era erehT .cigol eht fo ecnesse eht si evoba ehT\\n\\n.elbat SD lanigiro eht htiw siht NIOJ neht dna boB ylliB tsuj teg ew 1 naht erom tnuoc a htiw seirtne rof gniretliF\\n       \\n1   eoD nhoJ             \\n2  boB ylliB             \\nspuorg owt teg ew        \\n puorg hcae fo ezis eht gnitnuoc dna ,eman yb  gnipuorg ,a.1 morf seman eht tsuj gnitceleS b.1    \\n)nwo sti no puorg a wor hcae( spuorg 3 teg dluow ew eltit boj ,eman yb GNIPUORG a.1    \\n\\n ```\\nronrevoG   ,boB ylliB\\nrotcA    ,eoD nhoJ\\nrotaneS   ,boB ylliB\\n```\\n\\n:senil gniwollof eht gnola nwo ruoy fo elpmaxe na tuo krow oD\\n    \\ntsil derised lanif eht teg ot elbat SD lanigiro eht htiw NIOJ dna 1yreuq morf seman fo tsil eht esU .2    \\n        \\nelbat siht ni seirtne 72 teg dluohs uoY        \\nyrtne eno naht erom gnivah sPUORG yb retlif dna eman no elbat siht PUORG woN  .b           \\n  .eman eht tsuj TCELES neht dna eltit_boj + eman yb PUORG  .a           \\n  .seltit boj tnereffid rednu SD eht no deraeppa evah ohw stseug fo seman eht tsuj dniF  .1    \\n    \\nmelborp siht hcaorppa ot yaw a si gniwolloF\\n\\n.cigol dedeen eht erutpac taht selbat / smargaid emos ward ot TOL a pleh lliw ti edoc yna gnitirw erofeB\\n'[::-1])"
   ]
  },
  {
   "cell_type": "code",
   "execution_count": 6,
   "metadata": {},
   "outputs": [
    {
     "name": "stdout",
     "output_type": "stream",
     "text": [
      " * postgresql://isdb@localhost/postgres\n",
      "Done.\n",
      "27 rows affected.\n"
     ]
    },
    {
     "data": {
      "text/plain": [
       "[]"
      ]
     },
     "execution_count": 6,
     "metadata": {},
     "output_type": "execute_result"
    }
   ],
   "source": [
    "%%sql\n",
    "-- Solution\n",
    "-- Query 1 which will be stored in an intermediate table\n",
    "-- Overal query seems to be create a table of guests that have multiple jobs \n",
    "\n",
    "DROP TABLE IF EXISTS Names;  \n",
    "\n",
    "\n",
    "CREATE TABLE Names AS\n",
    "    SELECT DISTINCT name\n",
    "      FROM Daily_Show_Guests\n",
    "     GROUP BY name\n",
    "    HAVING count(DISTINCT job_title) > 1;\n",
    "\n",
    "    \n",
    "    \n",
    "    \n",
    "    \n",
    "    \n",
    "    "
   ]
  },
  {
   "cell_type": "markdown",
   "metadata": {},
   "source": [
    "Joining back to the `Daily_Show_Guests` table you should get 54 rows (2*27)"
   ]
  },
  {
   "cell_type": "code",
   "execution_count": 7,
   "metadata": {
    "scrolled": true
   },
   "outputs": [
    {
     "name": "stdout",
     "output_type": "stream",
     "text": [
      " * postgresql://isdb@localhost/postgres\n",
      "54 rows affected.\n"
     ]
    },
    {
     "data": {
      "text/html": [
       "<table>\n",
       "    <tr>\n",
       "        <th>name</th>\n",
       "        <th>job_title</th>\n",
       "    </tr>\n",
       "    <tr>\n",
       "        <td>Adam Sandler and Chris Rock</td>\n",
       "        <td>Actor</td>\n",
       "    </tr>\n",
       "    <tr>\n",
       "        <td>Adam Sandler and Chris Rock</td>\n",
       "        <td>Comedian</td>\n",
       "    </tr>\n",
       "    <tr>\n",
       "        <td>Amy Yates Wuelfing &amp; Gibby Haynes</td>\n",
       "        <td>Author</td>\n",
       "    </tr>\n",
       "    <tr>\n",
       "        <td>Amy Yates Wuelfing &amp; Gibby Haynes</td>\n",
       "        <td>Musician</td>\n",
       "    </tr>\n",
       "    <tr>\n",
       "        <td>Bethany McLean and Joe Nocera</td>\n",
       "        <td>Editor</td>\n",
       "    </tr>\n",
       "    <tr>\n",
       "        <td>Bethany McLean and Joe Nocera</td>\n",
       "        <td>Journalist</td>\n",
       "    </tr>\n",
       "    <tr>\n",
       "        <td>Bob Odenkirk &amp; David Cross</td>\n",
       "        <td>Actor</td>\n",
       "    </tr>\n",
       "    <tr>\n",
       "        <td>Bob Odenkirk &amp; David Cross</td>\n",
       "        <td>Stand-Up Comedian</td>\n",
       "    </tr>\n",
       "    <tr>\n",
       "        <td>Bruce McCulloch and Mark McKinney</td>\n",
       "        <td>Actor</td>\n",
       "    </tr>\n",
       "    <tr>\n",
       "        <td>Bruce McCulloch and Mark McKinney</td>\n",
       "        <td>Comedian</td>\n",
       "    </tr>\n",
       "    <tr>\n",
       "        <td>Bruce Springsteen &amp; Frank Caruso</td>\n",
       "        <td>Illustrator</td>\n",
       "    </tr>\n",
       "    <tr>\n",
       "        <td>Bruce Springsteen &amp; Frank Caruso</td>\n",
       "        <td>Musician</td>\n",
       "    </tr>\n",
       "    <tr>\n",
       "        <td>David Cross Bob Odenkirk</td>\n",
       "        <td>Actor</td>\n",
       "    </tr>\n",
       "    <tr>\n",
       "        <td>David Cross Bob Odenkirk</td>\n",
       "        <td>Stand-Up Comedian</td>\n",
       "    </tr>\n",
       "    <tr>\n",
       "        <td>Dr. Mustafa Barghouti and Anna Baltzer</td>\n",
       "        <td>Activist</td>\n",
       "    </tr>\n",
       "    <tr>\n",
       "        <td>Dr. Mustafa Barghouti and Anna Baltzer</td>\n",
       "        <td>Public Speaker</td>\n",
       "    </tr>\n",
       "    <tr>\n",
       "        <td>Eduardo Sanchez and Daniel Myrick</td>\n",
       "        <td>Director</td>\n",
       "    </tr>\n",
       "    <tr>\n",
       "        <td>Eduardo Sanchez and Daniel Myrick</td>\n",
       "        <td>Film Director</td>\n",
       "    </tr>\n",
       "    <tr>\n",
       "        <td>Frank DeCaro&#x27;s Oscar Special, John Larroquette</td>\n",
       "        <td>Actor</td>\n",
       "    </tr>\n",
       "    <tr>\n",
       "        <td>Frank DeCaro&#x27;s Oscar Special, John Larroquette</td>\n",
       "        <td>Writer</td>\n",
       "    </tr>\n",
       "    <tr>\n",
       "        <td>Hootie &amp; the Blowfish, Billy Crystal</td>\n",
       "        <td>Actor</td>\n",
       "    </tr>\n",
       "    <tr>\n",
       "        <td>Hootie &amp; the Blowfish, Billy Crystal</td>\n",
       "        <td>Rock Band</td>\n",
       "    </tr>\n",
       "    <tr>\n",
       "        <td>Hugh Hefner and Bentley twins</td>\n",
       "        <td>Model</td>\n",
       "    </tr>\n",
       "    <tr>\n",
       "        <td>Hugh Hefner and Bentley twins</td>\n",
       "        <td>Publisher</td>\n",
       "    </tr>\n",
       "    <tr>\n",
       "        <td>Jimmy Kimmel &amp; Adam Carolla</td>\n",
       "        <td>Comedian</td>\n",
       "    </tr>\n",
       "    <tr>\n",
       "        <td>Jimmy Kimmel &amp; Adam Carolla</td>\n",
       "        <td>Television Host</td>\n",
       "    </tr>\n",
       "    <tr>\n",
       "        <td>Jon Favreau</td>\n",
       "        <td>Actor</td>\n",
       "    </tr>\n",
       "    <tr>\n",
       "        <td>Jon Favreau</td>\n",
       "        <td>Speechwriter</td>\n",
       "    </tr>\n",
       "    <tr>\n",
       "        <td>Kambiz Hosseini and Saman Arbabi</td>\n",
       "        <td>Journalist</td>\n",
       "    </tr>\n",
       "    <tr>\n",
       "        <td>Kambiz Hosseini and Saman Arbabi</td>\n",
       "        <td>Political Satirist</td>\n",
       "    </tr>\n",
       "    <tr>\n",
       "        <td>Kathryn Bigelow &amp; Juan Zarate</td>\n",
       "        <td>Filmmaker</td>\n",
       "    </tr>\n",
       "    <tr>\n",
       "        <td>Kathryn Bigelow &amp; Juan Zarate</td>\n",
       "        <td>White House Official</td>\n",
       "    </tr>\n",
       "    <tr>\n",
       "        <td>Katie Dellamaggiore and Pobo Efekoro</td>\n",
       "        <td>Chess Player</td>\n",
       "    </tr>\n",
       "    <tr>\n",
       "        <td>Katie Dellamaggiore and Pobo Efekoro</td>\n",
       "        <td>Film Director</td>\n",
       "    </tr>\n",
       "    <tr>\n",
       "        <td>Landon Donovan and Bob Bradley</td>\n",
       "        <td>Soccer Manager</td>\n",
       "    </tr>\n",
       "    <tr>\n",
       "        <td>Landon Donovan and Bob Bradley</td>\n",
       "        <td>Soccer Player</td>\n",
       "    </tr>\n",
       "    <tr>\n",
       "        <td>Larry Lawton (skit)[4] and Jeff Sharlet (interview)</td>\n",
       "        <td>Author</td>\n",
       "    </tr>\n",
       "    <tr>\n",
       "        <td>Larry Lawton (skit)[4] and Jeff Sharlet (interview)</td>\n",
       "        <td>Journalist</td>\n",
       "    </tr>\n",
       "    <tr>\n",
       "        <td>Maziar Bahari &amp; Gael Garcí_a Bernal</td>\n",
       "        <td>Film Actor</td>\n",
       "    </tr>\n",
       "    <tr>\n",
       "        <td>Maziar Bahari &amp; Gael Garcí_a Bernal</td>\n",
       "        <td>Journalist</td>\n",
       "    </tr>\n",
       "    <tr>\n",
       "        <td>Paul Teutul Sr. Paul Teutul Jr.</td>\n",
       "        <td>Designer</td>\n",
       "    </tr>\n",
       "    <tr>\n",
       "        <td>Paul Teutul Sr. Paul Teutul Jr.</td>\n",
       "        <td>Television Producer</td>\n",
       "    </tr>\n",
       "    <tr>\n",
       "        <td>Posh Spice &amp; Baby Spice</td>\n",
       "        <td>Businesswoman</td>\n",
       "    </tr>\n",
       "    <tr>\n",
       "        <td>Posh Spice &amp; Baby Spice</td>\n",
       "        <td>Singer</td>\n",
       "    </tr>\n",
       "    <tr>\n",
       "        <td>Ringo Starr and The Ben Harper Band</td>\n",
       "        <td>Musician</td>\n",
       "    </tr>\n",
       "    <tr>\n",
       "        <td>Ringo Starr and The Ben Harper Band</td>\n",
       "        <td>Rock Band</td>\n",
       "    </tr>\n",
       "    <tr>\n",
       "        <td>Robert Reich and Ben Stein</td>\n",
       "        <td>Former United States Secretary of Labor</td>\n",
       "    </tr>\n",
       "    <tr>\n",
       "        <td>Robert Reich and Ben Stein</td>\n",
       "        <td>Writer</td>\n",
       "    </tr>\n",
       "    <tr>\n",
       "        <td>Warren Buffett and Carol Loomis</td>\n",
       "        <td>Business Magnate</td>\n",
       "    </tr>\n",
       "    <tr>\n",
       "        <td>Warren Buffett and Carol Loomis</td>\n",
       "        <td>Journalist</td>\n",
       "    </tr>\n",
       "    <tr>\n",
       "        <td>William Weld &amp; Al Sharpton</td>\n",
       "        <td>Former Govrnor Of Masssachusetts</td>\n",
       "    </tr>\n",
       "    <tr>\n",
       "        <td>William Weld &amp; Al Sharpton</td>\n",
       "        <td>Minister</td>\n",
       "    </tr>\n",
       "    <tr>\n",
       "        <td>Zach the Erect&quot; Galifianakis &amp; Will Ferrell&quot;</td>\n",
       "        <td>Actor</td>\n",
       "    </tr>\n",
       "    <tr>\n",
       "        <td>Zach the Erect&quot; Galifianakis &amp; Will Ferrell&quot;</td>\n",
       "        <td>Stand-up comedian</td>\n",
       "    </tr>\n",
       "</table>"
      ],
      "text/plain": [
       "[('Adam Sandler and Chris Rock', 'Actor'),\n",
       " ('Adam Sandler and Chris Rock', 'Comedian'),\n",
       " ('Amy Yates Wuelfing & Gibby Haynes', 'Author'),\n",
       " ('Amy Yates Wuelfing & Gibby Haynes', 'Musician'),\n",
       " ('Bethany McLean and Joe Nocera', 'Editor'),\n",
       " ('Bethany McLean and Joe Nocera', 'Journalist'),\n",
       " ('Bob Odenkirk & David Cross', 'Actor'),\n",
       " ('Bob Odenkirk & David Cross', 'Stand-Up Comedian'),\n",
       " ('Bruce McCulloch and Mark McKinney', 'Actor'),\n",
       " ('Bruce McCulloch and Mark McKinney', 'Comedian'),\n",
       " ('Bruce Springsteen & Frank Caruso', 'Illustrator'),\n",
       " ('Bruce Springsteen & Frank Caruso', 'Musician'),\n",
       " ('David Cross Bob Odenkirk', 'Actor'),\n",
       " ('David Cross Bob Odenkirk', 'Stand-Up Comedian'),\n",
       " ('Dr. Mustafa Barghouti and Anna Baltzer', 'Activist'),\n",
       " ('Dr. Mustafa Barghouti and Anna Baltzer', 'Public Speaker'),\n",
       " ('Eduardo Sanchez and Daniel Myrick', 'Director'),\n",
       " ('Eduardo Sanchez and Daniel Myrick', 'Film Director'),\n",
       " (\"Frank DeCaro's Oscar Special, John Larroquette\", 'Actor'),\n",
       " (\"Frank DeCaro's Oscar Special, John Larroquette\", 'Writer'),\n",
       " ('Hootie & the Blowfish, Billy Crystal', 'Actor'),\n",
       " ('Hootie & the Blowfish, Billy Crystal', 'Rock Band'),\n",
       " ('Hugh Hefner and Bentley twins', 'Model'),\n",
       " ('Hugh Hefner and Bentley twins', 'Publisher'),\n",
       " ('Jimmy Kimmel & Adam Carolla', 'Comedian'),\n",
       " ('Jimmy Kimmel & Adam Carolla', 'Television Host'),\n",
       " ('Jon Favreau', 'Actor'),\n",
       " ('Jon Favreau', 'Speechwriter'),\n",
       " ('Kambiz Hosseini and Saman Arbabi', 'Journalist'),\n",
       " ('Kambiz Hosseini and Saman Arbabi', 'Political Satirist'),\n",
       " ('Kathryn Bigelow & Juan Zarate', 'Filmmaker'),\n",
       " ('Kathryn Bigelow & Juan Zarate', 'White House Official'),\n",
       " ('Katie Dellamaggiore and Pobo Efekoro', 'Chess Player'),\n",
       " ('Katie Dellamaggiore and Pobo Efekoro', 'Film Director'),\n",
       " ('Landon Donovan and Bob Bradley', 'Soccer Manager'),\n",
       " ('Landon Donovan and Bob Bradley', 'Soccer Player'),\n",
       " ('Larry Lawton (skit)[4] and Jeff Sharlet (interview)', 'Author'),\n",
       " ('Larry Lawton (skit)[4] and Jeff Sharlet (interview)', 'Journalist'),\n",
       " ('Maziar Bahari & Gael Garcí_a Bernal', 'Film Actor'),\n",
       " ('Maziar Bahari & Gael Garcí_a Bernal', 'Journalist'),\n",
       " ('Paul Teutul Sr. Paul Teutul Jr.', 'Designer'),\n",
       " ('Paul Teutul Sr. Paul Teutul Jr.', 'Television Producer'),\n",
       " ('Posh Spice & Baby Spice', 'Businesswoman'),\n",
       " ('Posh Spice & Baby Spice', 'Singer'),\n",
       " ('Ringo Starr and The Ben Harper Band', 'Musician'),\n",
       " ('Ringo Starr and The Ben Harper Band', 'Rock Band'),\n",
       " ('Robert Reich and Ben Stein', 'Former United States Secretary of Labor'),\n",
       " ('Robert Reich and Ben Stein', 'Writer'),\n",
       " ('Warren Buffett and Carol Loomis', 'Business Magnate'),\n",
       " ('Warren Buffett and Carol Loomis', 'Journalist'),\n",
       " ('William Weld & Al Sharpton', 'Former Govrnor Of Masssachusetts'),\n",
       " ('William Weld & Al Sharpton', 'Minister'),\n",
       " ('Zach the Erect\" Galifianakis & Will Ferrell\"', 'Actor'),\n",
       " ('Zach the Erect\" Galifianakis & Will Ferrell\"', 'Stand-up comedian')]"
      ]
     },
     "execution_count": 7,
     "metadata": {},
     "output_type": "execute_result"
    }
   ],
   "source": [
    "%%sql\n",
    "-- Solution\n",
    "\n",
    "SELECT DISTINCT d.name, d.job_title\n",
    "  FROM Daily_Show_Guests AS d\n",
    "  JOIN Names AS n\n",
    "    ON n.name = d.name\n",
    " ORDER BY d.name, d.job_title ASC;\n",
    " \n",
    "\n",
    "  \n",
    "    \n",
    "    \n",
    "    \n",
    "    \n",
    "    \n",
    "    \n",
    "    "
   ]
  },
  {
   "cell_type": "markdown",
   "metadata": {},
   "source": [
    "```\n",
    "+-----------------------------------------------------+-----------------------------------------+\n",
    "|                         name                        |                job_title                |\n",
    "+-----------------------------------------------------+-----------------------------------------+\n",
    "|             Adam Sandler and Chris Rock             |                  Actor                  |\n",
    "|             Adam Sandler and Chris Rock             |                 Comedian                |\n",
    "|          Amy Yates Wuelfing & Gibby Haynes          |                  Author                 |\n",
    "|          Amy Yates Wuelfing & Gibby Haynes          |                 Musician                |\n",
    "|            Bethany McLean and Joe Nocera            |                  Editor                 |\n",
    "|            Bethany McLean and Joe Nocera            |                Journalist               |\n",
    "|              Bob Odenkirk & David Cross             |                  Actor                  |\n",
    "|              Bob Odenkirk & David Cross             |            Stand-Up Comedian            |\n",
    "|          Bruce McCulloch and Mark McKinney          |                  Actor                  |\n",
    "|          Bruce McCulloch and Mark McKinney          |                 Comedian                |\n",
    "|           Bruce Springsteen & Frank Caruso          |               Illustrator               |\n",
    "|           Bruce Springsteen & Frank Caruso          |                 Musician                |\n",
    "|               David Cross Bob Odenkirk              |                  Actor                  |\n",
    "|               David Cross Bob Odenkirk              |            Stand-Up Comedian            |\n",
    "|        Dr. Mustafa Barghouti and Anna Baltzer       |                 Activist                |\n",
    "|        Dr. Mustafa Barghouti and Anna Baltzer       |              Public Speaker             |\n",
    "|          Eduardo Sanchez and Daniel Myrick          |                 Director                |\n",
    "|          Eduardo Sanchez and Daniel Myrick          |              Film Director              |\n",
    "|    Frank DeCaro's Oscar Special, John Larroquette   |                  Actor                  |\n",
    "|    Frank DeCaro's Oscar Special, John Larroquette   |                  Writer                 |\n",
    "|         Hootie & the Blowfish, Billy Crystal        |                  Actor                  |\n",
    "|         Hootie & the Blowfish, Billy Crystal        |                Rock Band                |\n",
    "|            Hugh Hefner and Bentley twins            |                  Model                  |\n",
    "|            Hugh Hefner and Bentley twins            |                Publisher                |\n",
    "|             Jimmy Kimmel & Adam Carolla             |                 Comedian                |\n",
    "|             Jimmy Kimmel & Adam Carolla             |             Television Host             |\n",
    "|                     Jon Favreau                     |                  Actor                  |\n",
    "|                     Jon Favreau                     |               Speechwriter              |\n",
    "|           Kambiz Hosseini and Saman Arbabi          |                Journalist               |\n",
    "|           Kambiz Hosseini and Saman Arbabi          |            Political Satirist           |\n",
    "|            Kathryn Bigelow & Juan Zarate            |                Filmmaker                |\n",
    "|            Kathryn Bigelow & Juan Zarate            |           White House Official          |\n",
    "|         Katie Dellamaggiore and Pobo Efekoro        |               Chess Player              |\n",
    "|         Katie Dellamaggiore and Pobo Efekoro        |              Film Director              |\n",
    "|            Landon Donovan and Bob Bradley           |              Soccer Manager             |\n",
    "|            Landon Donovan and Bob Bradley           |              Soccer Player              |\n",
    "| Larry Lawton (skit)[4] and Jeff Sharlet (interview) |                  Author                 |\n",
    "| Larry Lawton (skit)[4] and Jeff Sharlet (interview) |                Journalist               |\n",
    "|         Maziar Bahari & Gael Garcí_a Bernal         |                Film Actor               |\n",
    "|         Maziar Bahari & Gael Garcí_a Bernal         |                Journalist               |\n",
    "|           Paul Teutul Sr. Paul Teutul Jr.           |                 Designer                |\n",
    "|           Paul Teutul Sr. Paul Teutul Jr.           |           Television Producer           |\n",
    "|               Posh Spice & Baby Spice               |              Businesswoman              |\n",
    "|               Posh Spice & Baby Spice               |                  Singer                 |\n",
    "|         Ringo Starr and The Ben Harper Band         |                 Musician                |\n",
    "|         Ringo Starr and The Ben Harper Band         |                Rock Band                |\n",
    "|              Robert Reich and Ben Stein             | Former United States Secretary of Labor |\n",
    "|              Robert Reich and Ben Stein             |                  Writer                 |\n",
    "|           Warren Buffett and Carol Loomis           |             Business Magnate            |\n",
    "|           Warren Buffett and Carol Loomis           |                Journalist               |\n",
    "|              William Weld & Al Sharpton             |     Former Govrnor Of Masssachusetts    |\n",
    "|              William Weld & Al Sharpton             |                 Minister                |\n",
    "|     Zach the Erect\" Galifianakis & Will Ferrell\"    |                  Actor                  |\n",
    "|     Zach the Erect\" Galifianakis & Will Ferrell\"    |            Stand-up comedian            |\n",
    "+-----------------------------------------------------+-----------------------------------------+\n",
    "```"
   ]
  }
 ],
 "metadata": {
  "kernelspec": {
   "display_name": "Python 3",
   "language": "python",
   "name": "python3"
  },
  "language_info": {
   "codemirror_mode": {
    "name": "ipython",
    "version": 3
   },
   "file_extension": ".py",
   "mimetype": "text/x-python",
   "name": "python",
   "nbconvert_exporter": "python",
   "pygments_lexer": "ipython3",
   "version": "3.7.3"
  }
 },
 "nbformat": 4,
 "nbformat_minor": 1
}
