{
 "cells": [
  {
   "cell_type": "markdown",
   "metadata": {},
   "source": [
    "# Assignment 3:  SQL JOINS"
   ]
  },
  {
   "cell_type": "code",
   "execution_count": 1,
   "metadata": {},
   "outputs": [
    {
     "data": {
      "text/plain": [
       "'Connected: isdb@postgres'"
      ]
     },
     "execution_count": 1,
     "metadata": {},
     "output_type": "execute_result"
    }
   ],
   "source": [
    "%load_ext sql\n",
    "%sql postgres://isdb@localhost/postgres"
   ]
  },
  {
   "cell_type": "markdown",
   "metadata": {},
   "source": [
    "## Baby Names"
   ]
  },
  {
   "cell_type": "markdown",
   "metadata": {},
   "source": [
    "### What are the most popular gender neutral names?"
   ]
  },
  {
   "cell_type": "markdown",
   "metadata": {},
   "source": [
    "This part of the assignment uses the `baby names` data set we looked at the very beginning of the course.  In the assignment folder you will find the file `babynames_load.sql` and `babynames_all.csv`. Copy them both to your assignment folder. You can load the data file with:\n",
    "```\n",
    "% psql -d postgres -U isdb -f babynames_load.sql\n",
    "```\n",
    "\n",
    "First, a few simple warm ups to check that the data is alright"
   ]
  },
  {
   "cell_type": "code",
   "execution_count": 2,
   "metadata": {},
   "outputs": [
    {
     "name": "stdout",
     "output_type": "stream",
     "text": [
      " * postgres://isdb@localhost/postgres\n",
      "0 rows affected.\n"
     ]
    },
    {
     "data": {
      "text/html": [
       "<table>\n",
       "    <tr>\n",
       "        <th>state</th>\n",
       "        <th>gender</th>\n",
       "        <th>year</th>\n",
       "        <th>fname</th>\n",
       "        <th>number</th>\n",
       "    </tr>\n",
       "</table>"
      ],
      "text/plain": [
       "[]"
      ]
     },
     "execution_count": 2,
     "metadata": {},
     "output_type": "execute_result"
    }
   ],
   "source": [
    "%sql select * from baby_names limit 0;"
   ]
  },
  {
   "cell_type": "code",
   "execution_count": 3,
   "metadata": {},
   "outputs": [
    {
     "name": "stdout",
     "output_type": "stream",
     "text": [
      " * postgres://isdb@localhost/postgres\n",
      "1 rows affected.\n"
     ]
    },
    {
     "data": {
      "text/html": [
       "<table>\n",
       "    <tr>\n",
       "        <th>count</th>\n",
       "    </tr>\n",
       "    <tr>\n",
       "        <td>5933561</td>\n",
       "    </tr>\n",
       "</table>"
      ],
      "text/plain": [
       "[(5933561,)]"
      ]
     },
     "execution_count": 3,
     "metadata": {},
     "output_type": "execute_result"
    }
   ],
   "source": [
    "%sql select count(*) from baby_names;"
   ]
  },
  {
   "cell_type": "markdown",
   "metadata": {},
   "source": [
    "Check that you get 5,933,561 rows.  Note that this **not** the total number of babies born.  For that we need to `sum(count)`."
   ]
  },
  {
   "cell_type": "code",
   "execution_count": 4,
   "metadata": {},
   "outputs": [
    {
     "name": "stdout",
     "output_type": "stream",
     "text": [
      " * postgres://isdb@localhost/postgres\n",
      "1 rows affected.\n"
     ]
    },
    {
     "data": {
      "text/html": [
       "<table>\n",
       "    <tr>\n",
       "        <th>sum</th>\n",
       "    </tr>\n",
       "    <tr>\n",
       "        <td>308180519</td>\n",
       "    </tr>\n",
       "</table>"
      ],
      "text/plain": [
       "[(308180519,)]"
      ]
     },
     "execution_count": 4,
     "metadata": {},
     "output_type": "execute_result"
    }
   ],
   "source": [
    "%%sql\n",
    "\n",
    "SELECT sum(number)\n",
    "  FROM Baby_names"
   ]
  },
  {
   "cell_type": "markdown",
   "metadata": {},
   "source": [
    "The total number of babies should be 308,180,519\n",
    "\n",
    "While the number of babies born from 1910 to 2015 is large, how many distinct baby names have been used? \n",
    "\n",
    "The below SQL expression computes this. It may take a little while to compute as there are 5.7 Million rows. (Around a minute.) \n",
    "\n",
    "After you have computed and checked the result, you can **comment out the below query**, to avoid repeatedly calculating it. You can convert the cell to raw mode."
   ]
  },
  {
   "cell_type": "raw",
   "metadata": {},
   "source": [
    "%sql select count(distinct fname) from Baby_Names;"
   ]
  },
  {
   "cell_type": "markdown",
   "metadata": {},
   "source": [
    "You should have received a count of 31314.\n",
    "\n",
    "In a similar way you can count the number of Male names and Female names.  You will find them to be 13656 (male) and 20669 (female).  If we do the arithmetic we get 13656 + 20669 = 34325.  Which means 34325 - 31314 = 3011 names that were used for both males and females.\n",
    "\n",
    "**Of these 3011 names, which are the most common gender neutral names?**"
   ]
  },
  {
   "cell_type": "markdown",
   "metadata": {},
   "source": [
    "First create two tables to keep track of the number of male babies for each baby name.  i.e.,  how many male `Johns` were born?  how many male `Andrews` were born etc.  \n",
    "\n",
    "Do the same for the number of female babies for each baby name."
   ]
  },
  {
   "cell_type": "code",
   "execution_count": 5,
   "metadata": {},
   "outputs": [
    {
     "name": "stdout",
     "output_type": "stream",
     "text": [
      " * postgres://isdb@localhost/postgres\n",
      "Done.\n",
      "13656 rows affected.\n",
      "Done.\n",
      "20669 rows affected.\n"
     ]
    },
    {
     "data": {
      "text/plain": [
       "[]"
      ]
     },
     "execution_count": 5,
     "metadata": {},
     "output_type": "execute_result"
    }
   ],
   "source": [
    "%%sql\n",
    "\n",
    "DROP TABLE IF EXISTS male_names;\n",
    "\n",
    "CREATE TABLE male_names (fname, sum) as\n",
    "    SELECT fname, sum(number) AS sum\n",
    "      FROM Baby_Names\n",
    "     WHERE gender = 'M'\n",
    "     GROUP BY fname;       \n",
    "\n",
    "DROP TABLE IF EXISTS female_names;\n",
    "\n",
    "CREATE TABLE female_names (fname, sum) as\n",
    "    SELECT fname, sum(number) AS sum\n",
    "      FROM Baby_Names\n",
    "     WHERE gender = 'F'\n",
    "     GROUP BY fname;\n"
   ]
  },
  {
   "cell_type": "markdown",
   "metadata": {},
   "source": [
    "As a check, if you count the number of rows in `male_names` and `female_names` you should get 13656 (male) and 20669 (female).  [You don't need to do an explicit count; you should have seen these numbers displayed in terms of the number of rows affected with the intermediate tables were created.]\n",
    "\n",
    "If we do an inner join on `male_names` and `female_names` then we will get a table with names and the number of times the names have been given to males and the number of times the names has been given to females.\n",
    "\n",
    "_We will define a name to be gender neutral if the ratio of the number of times it is used as a female name and a male name lies between 0.25 and 4 i.e., f:m or m:f is 1:4 or 4:1._\n",
    "\n",
    "Using this definition, filter the result of the join and order by the total number of babies with that name.  The first 10 entries of this table are given below"
   ]
  },
  {
   "cell_type": "code",
   "execution_count": 6,
   "metadata": {},
   "outputs": [
    {
     "name": "stdout",
     "output_type": "stream",
     "text": [
      " * postgres://isdb@localhost/postgres\n",
      "Done.\n",
      "642 rows affected.\n",
      "10 rows affected.\n"
     ]
    },
    {
     "data": {
      "text/html": [
       "<table>\n",
       "    <tr>\n",
       "        <th>fname</th>\n",
       "        <th>Female Sum</th>\n",
       "        <th>Male Sum</th>\n",
       "        <th>Total</th>\n",
       "        <th>Ratio</th>\n",
       "    </tr>\n",
       "    <tr>\n",
       "        <td>Willie</td>\n",
       "        <td>121144</td>\n",
       "        <td>412053</td>\n",
       "        <td>533197</td>\n",
       "        <td>0.294001014432609</td>\n",
       "    </tr>\n",
       "    <tr>\n",
       "        <td>Jordan</td>\n",
       "        <td>129236</td>\n",
       "        <td>366264</td>\n",
       "        <td>495500</td>\n",
       "        <td>0.352849310879584</td>\n",
       "    </tr>\n",
       "    <tr>\n",
       "        <td>Taylor</td>\n",
       "        <td>317124</td>\n",
       "        <td>105387</td>\n",
       "        <td>422511</td>\n",
       "        <td>3.00913774943779</td>\n",
       "    </tr>\n",
       "    <tr>\n",
       "        <td>Leslie</td>\n",
       "        <td>263363</td>\n",
       "        <td>103893</td>\n",
       "        <td>367256</td>\n",
       "        <td>2.53494460647012</td>\n",
       "    </tr>\n",
       "    <tr>\n",
       "        <td>Jamie</td>\n",
       "        <td>265301</td>\n",
       "        <td>82135</td>\n",
       "        <td>347436</td>\n",
       "        <td>3.2300602666342</td>\n",
       "    </tr>\n",
       "    <tr>\n",
       "        <td>Angel</td>\n",
       "        <td>92522</td>\n",
       "        <td>224298</td>\n",
       "        <td>316820</td>\n",
       "        <td>0.412495876022078</td>\n",
       "    </tr>\n",
       "    <tr>\n",
       "        <td>Lee</td>\n",
       "        <td>55612</td>\n",
       "        <td>215388</td>\n",
       "        <td>271000</td>\n",
       "        <td>0.258194514086207</td>\n",
       "    </tr>\n",
       "    <tr>\n",
       "        <td>Dana</td>\n",
       "        <td>188381</td>\n",
       "        <td>48697</td>\n",
       "        <td>237078</td>\n",
       "        <td>3.86843132020453</td>\n",
       "    </tr>\n",
       "    <tr>\n",
       "        <td>Jessie</td>\n",
       "        <td>130056</td>\n",
       "        <td>99207</td>\n",
       "        <td>229263</td>\n",
       "        <td>1.31095588012943</td>\n",
       "    </tr>\n",
       "    <tr>\n",
       "        <td>Marion</td>\n",
       "        <td>163362</td>\n",
       "        <td>63342</td>\n",
       "        <td>226704</td>\n",
       "        <td>2.57904707776831</td>\n",
       "    </tr>\n",
       "</table>"
      ],
      "text/plain": [
       "[('Willie', 121144, 412053, 533197, 0.294001014432609),\n",
       " ('Jordan', 129236, 366264, 495500, 0.352849310879584),\n",
       " ('Taylor', 317124, 105387, 422511, 3.00913774943779),\n",
       " ('Leslie', 263363, 103893, 367256, 2.53494460647012),\n",
       " ('Jamie', 265301, 82135, 347436, 3.2300602666342),\n",
       " ('Angel', 92522, 224298, 316820, 0.412495876022078),\n",
       " ('Lee', 55612, 215388, 271000, 0.258194514086207),\n",
       " ('Dana', 188381, 48697, 237078, 3.86843132020453),\n",
       " ('Jessie', 130056, 99207, 229263, 1.31095588012943),\n",
       " ('Marion', 163362, 63342, 226704, 2.57904707776831)]"
      ]
     },
     "execution_count": 6,
     "metadata": {},
     "output_type": "execute_result"
    }
   ],
   "source": [
    "%%sql\n",
    "-- solution\n",
    "-- write your final SQL query here\n",
    "\n",
    "DROP TABLE IF EXISTS Gender_Neutral_Names;\n",
    "\n",
    "CREATE TABLE Gender_Neutral_Names AS\n",
    "    SELECT f.fname, f.sum AS \"Female Sum\", m.sum AS \"Male Sum\", f.sum + m.sum AS \"Total\", \n",
    "           CAST(f.sum AS DOUBLE PRECISION)/m.sum AS \"Ratio\"\n",
    "      FROM male_names AS m\n",
    "      JOIN female_names AS f\n",
    "        ON m.fname = f.fname \n",
    "     WHERE CAST (m.sum AS DOUBLE PRECISION) / f.sum > .25\n",
    "       AND CAST (m.sum AS DOUBLE PRECISION) / f.sum < 4\n",
    "\n",
    "     ORDER BY \"Total\" DESC;\n",
    "        \n",
    "\n",
    "SELECT * FROM Gender_Neutral_Names LIMIT 10;\n"
   ]
  },
  {
   "cell_type": "code",
   "execution_count": 7,
   "metadata": {},
   "outputs": [
    {
     "name": "stdout",
     "output_type": "stream",
     "text": [
      "+--------+------------+----------+--------+-------------------+\n",
      "| fname  | Female Sum | Male Sum | Total  |       Ratio       |\n",
      "+--------+------------+----------+--------+-------------------+\n",
      "| Willie |   121144   |  412053  | 533197 | 0.294001014432609 |\n",
      "| Jordan |   129236   |  366264  | 495500 | 0.352849310879584 |\n",
      "| Taylor |   317124   |  105387  | 422511 |  3.00913774943779 |\n",
      "| Leslie |   263363   |  103893  | 367256 |  2.53494460647012 |\n",
      "| Jamie  |   265301   |  82135   | 347436 |  3.2300602666342  |\n",
      "| Angel  |   92522    |  224298  | 316820 | 0.412495876022078 |\n",
      "|  Lee   |   55612    |  215388  | 271000 | 0.258194514086207 |\n",
      "|  Dana  |   188381   |  48697   | 237078 |  3.86843132020453 |\n",
      "| Jessie |   130056   |  99207   | 229263 |  1.31095588012943 |\n",
      "| Marion |   163362   |  63342   | 226704 |  2.57904707776831 |\n",
      "+--------+------------+----------+--------+-------------------+\n"
     ]
    }
   ],
   "source": [
    "print(_)"
   ]
  },
  {
   "cell_type": "raw",
   "metadata": {},
   "source": [
    "+--------+------------+----------+--------+------------------------+\n",
    "| fname  | Female Sum | Male Sum | Total  |         Ratio          |\n",
    "+--------+------------+----------+--------+------------------------+\n",
    "| Willie |   121144   |  412053  | 533197 | 0.29400101443260939733 |\n",
    "| Jordan |   129236   |  366264  | 495500 | 0.35284931087958412511 |\n",
    "| Taylor |   317124   |  105387  | 422511 |   3.0091377494377864   |\n",
    "| Leslie |   263363   |  103893  | 367256 |   2.5349446064701183   |\n",
    "| Jamie  |   265301   |  82135   | 347436 |   3.2300602666341998   |\n",
    "| Angel  |   92522    |  224298  | 316820 | 0.41249587602207777154 |\n",
    "|  Lee   |   55612    |  215388  | 271000 | 0.25819451408620721674 |\n",
    "|  Dana  |   188381   |  48697   | 237078 |   3.8684313202045301   |\n",
    "| Jessie |   130056   |  99207   | 229263 |   1.3109558801294264   |\n",
    "| Marion |   163362   |  63342   | 226704 |   2.5790470777683054   |\n",
    "+--------+------------+----------+--------+------------------------+"
   ]
  }
 ],
 "metadata": {
  "kernelspec": {
   "display_name": "Python 3",
   "language": "python",
   "name": "python3"
  },
  "language_info": {
   "codemirror_mode": {
    "name": "ipython",
    "version": 3
   },
   "file_extension": ".py",
   "mimetype": "text/x-python",
   "name": "python",
   "nbconvert_exporter": "python",
   "pygments_lexer": "ipython3",
   "version": "3.7.3"
  }
 },
 "nbformat": 4,
 "nbformat_minor": 1
}
