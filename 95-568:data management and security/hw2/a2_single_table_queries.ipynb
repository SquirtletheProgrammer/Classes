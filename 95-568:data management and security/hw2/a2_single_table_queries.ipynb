{
 "cells": [
  {
   "cell_type": "markdown",
   "metadata": {},
   "source": [
    "## A2 Working with a Single Table\n",
    "### ITlab, Summer 2019"
   ]
  },
  {
   "cell_type": "markdown",
   "metadata": {},
   "source": [
    "Review the discussion in the NB Anatomy of Select.  Everything needed for this part of the assignment is discussed.\n",
    "\n",
    "Hints have also been given for each question."
   ]
  },
  {
   "cell_type": "code",
   "execution_count": 1,
   "metadata": {},
   "outputs": [
    {
     "data": {
      "text/plain": [
       "'Connected: isdb@postgres'"
      ]
     },
     "execution_count": 1,
     "metadata": {},
     "output_type": "execute_result"
    }
   ],
   "source": [
    "%load_ext sql\n",
    "\n",
    "%sql postgres://isdb@localhost/postgres"
   ]
  },
  {
   "cell_type": "markdown",
   "metadata": {},
   "source": [
    "**[Q1] What are the first and last years the data has information about the Olympics?**\n",
    "\n",
    "_Hint: `edition` refers to the year of the olympics.  Find the min and max_"
   ]
  },
  {
   "cell_type": "code",
   "execution_count": 2,
   "metadata": {
    "scrolled": true
   },
   "outputs": [
    {
     "name": "stdout",
     "output_type": "stream",
     "text": [
      " * postgres://isdb@localhost/postgres\n",
      "1 rows affected.\n"
     ]
    },
    {
     "data": {
      "text/html": [
       "<table>\n",
       "    <tr>\n",
       "        <th>min</th>\n",
       "        <th>max</th>\n",
       "    </tr>\n",
       "    <tr>\n",
       "        <td>1900</td>\n",
       "        <td>2008</td>\n",
       "    </tr>\n",
       "</table>"
      ],
      "text/plain": [
       "[(1900, 2008)]"
      ]
     },
     "execution_count": 2,
     "metadata": {},
     "output_type": "execute_result"
    }
   ],
   "source": [
    "%%sql\n",
    "select min(edition), max(edition)\n",
    "  from Medalists\n",
    "\n",
    "\n",
    "\n"
   ]
  },
  {
   "cell_type": "raw",
   "metadata": {},
   "source": [
    "Ans:\n",
    "+------+------+\n",
    "| min  | max  |\n",
    "+------+------+\n",
    "| 1900 | 2008 |\n",
    "+------+------+"
   ]
  },
  {
   "cell_type": "markdown",
   "metadata": {},
   "source": [
    "**[Q2] According to the data when were the first EVENTS held in Winter? (The question is NOT about when the Winter Olympics started.)**\n",
    "\n",
    "_Hint: similar to Q1 but with a filter (the predicate in the WHERE clause)_"
   ]
  },
  {
   "cell_type": "code",
   "execution_count": 3,
   "metadata": {},
   "outputs": [
    {
     "name": "stdout",
     "output_type": "stream",
     "text": [
      " * postgres://isdb@localhost/postgres\n",
      "1 rows affected.\n"
     ]
    },
    {
     "data": {
      "text/html": [
       "<table>\n",
       "    <tr>\n",
       "        <th>min</th>\n",
       "    </tr>\n",
       "    <tr>\n",
       "        <td>1908</td>\n",
       "    </tr>\n",
       "</table>"
      ],
      "text/plain": [
       "[(1908,)]"
      ]
     },
     "execution_count": 3,
     "metadata": {},
     "output_type": "execute_result"
    }
   ],
   "source": [
    "%%sql\n",
    "select min(edition)\n",
    "  from Medalists\n",
    " where season = 'Winter'\n",
    "\n",
    "\n",
    "\n",
    "\n"
   ]
  },
  {
   "cell_type": "raw",
   "metadata": {},
   "source": [
    "Ans:\n",
    "+------+\n",
    "| min  |\n",
    "+------+\n",
    "| 1908 |\n",
    "+------+"
   ]
  },
  {
   "cell_type": "markdown",
   "metadata": {},
   "source": [
    "**[Q3] AUT and LIE are two countries that have won more medals in the winter olympics than summer olympics.  Demonstrate this is the case by hard wiring AUT in your query**\n",
    "\n",
    "_Hint: Filter by AUT and group by season_"
   ]
  },
  {
   "cell_type": "code",
   "execution_count": 4,
   "metadata": {
    "scrolled": true
   },
   "outputs": [
    {
     "name": "stdout",
     "output_type": "stream",
     "text": [
      " * postgres://isdb@localhost/postgres\n",
      "2 rows affected.\n"
     ]
    },
    {
     "data": {
      "text/html": [
       "<table>\n",
       "    <tr>\n",
       "        <th>season</th>\n",
       "        <th>count</th>\n",
       "    </tr>\n",
       "    <tr>\n",
       "        <td>Winter</td>\n",
       "        <td>203</td>\n",
       "    </tr>\n",
       "    <tr>\n",
       "        <td>Summer</td>\n",
       "        <td>141</td>\n",
       "    </tr>\n",
       "</table>"
      ],
      "text/plain": [
       "[('Winter', 203), ('Summer', 141)]"
      ]
     },
     "execution_count": 4,
     "metadata": {},
     "output_type": "execute_result"
    }
   ],
   "source": [
    "%%sql\n",
    "\n",
    "select season, count(medal)\n",
    "  from Medalists\n",
    " where noc = 'AUT'\n",
    " group by season\n",
    "\n",
    "\n",
    "\n"
   ]
  },
  {
   "cell_type": "raw",
   "metadata": {},
   "source": [
    "Ans:\n",
    "+--------+-------+\n",
    "| season | count |\n",
    "+--------+-------+\n",
    "| Winter |  203  |\n",
    "| Summer |  141  |\n",
    "+--------+-------+"
   ]
  },
  {
   "cell_type": "markdown",
   "metadata": {},
   "source": [
    "**[Q4] In 2008 list the medal winners (both men and women) in the 100m (the first year Usain Bolt won the gold). Order the result by gender (ascending) and medals (descending).  Note that medals will get sorted alphabetically in descending order as Silver, Gold, Bronze. We will see later how the medals can be sorted as Gold, Silver, Bronze.**\n",
    "\n",
    "_Hint: Hinges on the appropriate filter_"
   ]
  },
  {
   "cell_type": "code",
   "execution_count": 5,
   "metadata": {},
   "outputs": [
    {
     "name": "stdout",
     "output_type": "stream",
     "text": [
      " * postgres://isdb@localhost/postgres\n",
      "6 rows affected.\n"
     ]
    },
    {
     "data": {
      "text/html": [
       "<table>\n",
       "    <tr>\n",
       "        <th>edition</th>\n",
       "        <th>athlete</th>\n",
       "        <th>noc</th>\n",
       "        <th>gender</th>\n",
       "        <th>event</th>\n",
       "        <th>medal</th>\n",
       "        <th>season</th>\n",
       "    </tr>\n",
       "    <tr>\n",
       "        <td>2008</td>\n",
       "        <td>THOMPSON, Richard</td>\n",
       "        <td>TRI</td>\n",
       "        <td>Men</td>\n",
       "        <td>100m</td>\n",
       "        <td>Silver</td>\n",
       "        <td>Summer</td>\n",
       "    </tr>\n",
       "    <tr>\n",
       "        <td>2008</td>\n",
       "        <td>BOLT, Usain</td>\n",
       "        <td>JAM</td>\n",
       "        <td>Men</td>\n",
       "        <td>100m</td>\n",
       "        <td>Gold</td>\n",
       "        <td>Summer</td>\n",
       "    </tr>\n",
       "    <tr>\n",
       "        <td>2008</td>\n",
       "        <td>DIX, Walter</td>\n",
       "        <td>USA</td>\n",
       "        <td>Men</td>\n",
       "        <td>100m</td>\n",
       "        <td>Bronze</td>\n",
       "        <td>Summer</td>\n",
       "    </tr>\n",
       "    <tr>\n",
       "        <td>2008</td>\n",
       "        <td>SIMPSON, Sherone</td>\n",
       "        <td>JAM</td>\n",
       "        <td>Women</td>\n",
       "        <td>100m</td>\n",
       "        <td>Silver</td>\n",
       "        <td>Summer</td>\n",
       "    </tr>\n",
       "    <tr>\n",
       "        <td>2008</td>\n",
       "        <td>STEWART, Kerron</td>\n",
       "        <td>JAM</td>\n",
       "        <td>Women</td>\n",
       "        <td>100m</td>\n",
       "        <td>Silver</td>\n",
       "        <td>Summer</td>\n",
       "    </tr>\n",
       "    <tr>\n",
       "        <td>2008</td>\n",
       "        <td>FRASER, Shelly-ann</td>\n",
       "        <td>JAM</td>\n",
       "        <td>Women</td>\n",
       "        <td>100m</td>\n",
       "        <td>Gold</td>\n",
       "        <td>Summer</td>\n",
       "    </tr>\n",
       "</table>"
      ],
      "text/plain": [
       "[(2008, 'THOMPSON, Richard', 'TRI', 'Men', '100m', 'Silver', 'Summer'),\n",
       " (2008, 'BOLT, Usain', 'JAM', 'Men', '100m', 'Gold', 'Summer'),\n",
       " (2008, 'DIX, Walter', 'USA', 'Men', '100m', 'Bronze', 'Summer'),\n",
       " (2008, 'SIMPSON, Sherone', 'JAM', 'Women', '100m', 'Silver', 'Summer'),\n",
       " (2008, 'STEWART, Kerron', 'JAM', 'Women', '100m', 'Silver', 'Summer'),\n",
       " (2008, 'FRASER, Shelly-ann', 'JAM', 'Women', '100m', 'Gold', 'Summer')]"
      ]
     },
     "execution_count": 5,
     "metadata": {},
     "output_type": "execute_result"
    }
   ],
   "source": [
    "%%sql\n",
    "\n",
    "select *\n",
    "  from Medalists\n",
    " where edition = '2008' and event = '100m'\n",
    " order by gender ASC, medal DESC\n",
    "\n",
    "\n",
    "\n"
   ]
  },
  {
   "cell_type": "raw",
   "metadata": {},
   "source": [
    "Ans:\n",
    "+---------+--------------------+-----+--------+-------+--------+--------+\n",
    "| edition |      athlete       | noc | gender | event | medal  | season |\n",
    "+---------+--------------------+-----+--------+-------+--------+--------+\n",
    "|   2008  | THOMPSON, Richard  | TRI |  Men   |  100m | Silver | Summer |\n",
    "|   2008  |    BOLT, Usain     | JAM |  Men   |  100m |  Gold  | Summer |\n",
    "|   2008  |    DIX, Walter     | USA |  Men   |  100m | Bronze | Summer |\n",
    "|   2008  |  SIMPSON, Sherone  | JAM | Women  |  100m | Silver | Summer |\n",
    "|   2008  |  STEWART, Kerron   | JAM | Women  |  100m | Silver | Summer |\n",
    "|   2008  | FRASER, Shelly-ann | JAM | Women  |  100m |  Gold  | Summer |\n",
    "+---------+--------------------+-----+--------+-------+--------+--------+"
   ]
  },
  {
   "cell_type": "markdown",
   "metadata": {},
   "source": [
    "**[Q5] Working under the assumption that the year the Winter Olympics started, there were at least 50 medals won, which year did the Winter Olympics start?** \n",
    "\n",
    "_Hint: As simple as this query seems it involves all clauses of a SELECT: WHERE / GROUP BY / HAVING / ORDER BY / LIMIT_"
   ]
  },
  {
   "cell_type": "code",
   "execution_count": 6,
   "metadata": {},
   "outputs": [
    {
     "name": "stdout",
     "output_type": "stream",
     "text": [
      " * postgres://isdb@localhost/postgres\n",
      "1 rows affected.\n"
     ]
    },
    {
     "data": {
      "text/html": [
       "<table>\n",
       "    <tr>\n",
       "        <th>edition</th>\n",
       "    </tr>\n",
       "    <tr>\n",
       "        <td>1924</td>\n",
       "    </tr>\n",
       "</table>"
      ],
      "text/plain": [
       "[(1924,)]"
      ]
     },
     "execution_count": 6,
     "metadata": {},
     "output_type": "execute_result"
    }
   ],
   "source": [
    "%%sql\n",
    "select edition\n",
    "  from Medalists\n",
    " where season = 'Winter'\n",
    " group by edition\n",
    "having count(medal) >= 50\n",
    " order by edition asc\n",
    " limit 1\n",
    "\n",
    "\n",
    "\n",
    "\n"
   ]
  },
  {
   "cell_type": "raw",
   "metadata": {},
   "source": [
    "Ans:\n",
    "+---------+\n",
    "| edition |\n",
    "+---------+\n",
    "|   1924  |\n",
    "+---------+"
   ]
  },
  {
   "cell_type": "markdown",
   "metadata": {},
   "source": [
    "** [Q6] Aphabetically list all male athletes who won the 100m more than once **\n",
    "\n",
    "_Hint: The filter and the grouping criterion are critical. Filter by 100m and Men; group by athlete and ???? ; retain groups that have more than one entry_"
   ]
  },
  {
   "cell_type": "code",
   "execution_count": 7,
   "metadata": {
    "scrolled": true
   },
   "outputs": [
    {
     "name": "stdout",
     "output_type": "stream",
     "text": [
      " * postgres://isdb@localhost/postgres\n",
      "8 rows affected.\n"
     ]
    },
    {
     "data": {
      "text/html": [
       "<table>\n",
       "    <tr>\n",
       "        <th>athlete</th>\n",
       "        <th>event</th>\n",
       "        <th>count</th>\n",
       "    </tr>\n",
       "    <tr>\n",
       "        <td>BOLDON, Ato</td>\n",
       "        <td>100m</td>\n",
       "        <td>2</td>\n",
       "    </tr>\n",
       "    <tr>\n",
       "        <td>BORZOV, Valery</td>\n",
       "        <td>100m</td>\n",
       "        <td>2</td>\n",
       "    </tr>\n",
       "    <tr>\n",
       "        <td>CHRISTIE, Linford</td>\n",
       "        <td>100m</td>\n",
       "        <td>2</td>\n",
       "    </tr>\n",
       "    <tr>\n",
       "        <td>FREDERICKS, Frank</td>\n",
       "        <td>100m</td>\n",
       "        <td>2</td>\n",
       "    </tr>\n",
       "    <tr>\n",
       "        <td>GREENE, Maurice</td>\n",
       "        <td>100m</td>\n",
       "        <td>2</td>\n",
       "    </tr>\n",
       "    <tr>\n",
       "        <td>LEWIS, Carl</td>\n",
       "        <td>100m</td>\n",
       "        <td>2</td>\n",
       "    </tr>\n",
       "    <tr>\n",
       "        <td>METCALFE, Ralph</td>\n",
       "        <td>100m</td>\n",
       "        <td>2</td>\n",
       "    </tr>\n",
       "    <tr>\n",
       "        <td>MILLER, Lennox</td>\n",
       "        <td>100m</td>\n",
       "        <td>2</td>\n",
       "    </tr>\n",
       "</table>"
      ],
      "text/plain": [
       "[('BOLDON, Ato', '100m', 2),\n",
       " ('BORZOV, Valery', '100m', 2),\n",
       " ('CHRISTIE, Linford', '100m', 2),\n",
       " ('FREDERICKS, Frank', '100m', 2),\n",
       " ('GREENE, Maurice', '100m', 2),\n",
       " ('LEWIS, Carl', '100m', 2),\n",
       " ('METCALFE, Ralph', '100m', 2),\n",
       " ('MILLER, Lennox', '100m', 2)]"
      ]
     },
     "execution_count": 7,
     "metadata": {},
     "output_type": "execute_result"
    }
   ],
   "source": [
    "%%sql\n",
    "\n",
    "select athlete, event, count(medal)\n",
    "  from Medalists\n",
    " where gender = 'Men'\n",
    " group by athlete, event\n",
    "having event = '100m'and count(medal) > 1\n",
    " order by athlete asc\n",
    "\n",
    "\n",
    "\n"
   ]
  },
  {
   "cell_type": "raw",
   "metadata": {},
   "source": [
    "Ans:\n",
    "+-------------------+-------+-------+\n",
    "|      athlete      | event | count |\n",
    "+-------------------+-------+-------+\n",
    "|    BOLDON, Ato    |  100m |   2   |\n",
    "|   BORZOV, Valery  |  100m |   2   |\n",
    "| CHRISTIE, Linford |  100m |   2   |\n",
    "| FREDERICKS, Frank |  100m |   2   |\n",
    "|  GREENE, Maurice  |  100m |   2   |\n",
    "|    LEWIS, Carl    |  100m |   2   |\n",
    "|  METCALFE, Ralph  |  100m |   2   |\n",
    "|   MILLER, Lennox  |  100m |   2   |\n",
    "+-------------------+-------+-------+"
   ]
  }
 ],
 "metadata": {
  "kernelspec": {
   "display_name": "Python 3",
   "language": "python",
   "name": "python3"
  },
  "language_info": {
   "codemirror_mode": {
    "name": "ipython",
    "version": 3
   },
   "file_extension": ".py",
   "mimetype": "text/x-python",
   "name": "python",
   "nbconvert_exporter": "python",
   "pygments_lexer": "ipython3",
   "version": "3.7.3"
  }
 },
 "nbformat": 4,
 "nbformat_minor": 1
}
