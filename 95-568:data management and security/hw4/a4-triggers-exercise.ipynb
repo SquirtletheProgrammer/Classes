{
 "cells": [
  {
   "cell_type": "markdown",
   "metadata": {},
   "source": [
    "**Important:** Be sure to use the specified names for the trigger functions and triggers. \n",
    "\n",
    "- fn_update_gpa\n",
    "- tr_update_gpa\n",
    "\n",
    "- assign_grade\n",
    "\n",
    "- fn_update_deans_list\n",
    "- tr_update_deans_list\n",
    "\n",
    "Grading will assume the specified names have been used."
   ]
  },
  {
   "cell_type": "markdown",
   "metadata": {},
   "source": [
    "## Assignment 4 /  Triggers\n",
    "### 95-568 Data Management and Security, Summer 2019"
   ]
  },
  {
   "cell_type": "code",
   "execution_count": 3,
   "metadata": {},
   "outputs": [
    {
     "name": "stdout",
     "output_type": "stream",
     "text": [
      "The sql extension is already loaded. To reload it, use:\n",
      "  %reload_ext sql\n"
     ]
    },
    {
     "data": {
      "text/plain": [
       "'Connected: isdb@postgres'"
      ]
     },
     "execution_count": 3,
     "metadata": {},
     "output_type": "execute_result"
    }
   ],
   "source": [
    "%load_ext sql\n",
    "%sql postgresql://isdb@localhost/postgres"
   ]
  },
  {
   "cell_type": "markdown",
   "metadata": {},
   "source": [
    "## Question 1: Trigger for Calculating GPA"
   ]
  },
  {
   "cell_type": "code",
   "execution_count": 4,
   "metadata": {},
   "outputs": [
    {
     "name": "stdout",
     "output_type": "stream",
     "text": [
      " * postgresql://isdb@localhost/postgres\n",
      "Done.\n",
      "Done.\n",
      "Done.\n",
      "Done.\n",
      "Done.\n",
      "Done.\n",
      "3 rows affected.\n",
      "6 rows affected.\n",
      "3 rows affected.\n"
     ]
    },
    {
     "data": {
      "text/plain": [
       "[]"
      ]
     },
     "execution_count": 4,
     "metadata": {},
     "output_type": "execute_result"
    }
   ],
   "source": [
    "%%sql\n",
    "\n",
    "drop table if exists Students CASCADE;\n",
    "drop table if exists Courses CASCADE;\n",
    "drop table if exists Grades CASCADE;\n",
    "\n",
    "create table Students(\n",
    "    primary key (sId),\n",
    "    sId int,\n",
    "    name text,\n",
    "    gpa numeric(3,2) default 0.0\n",
    ");\n",
    "\n",
    "create table Courses(\n",
    "    primary key (cId),\n",
    "    cId int,  \n",
    "    name text,\n",
    "    units int\n",
    ");\n",
    "\n",
    "create table Grades(\n",
    "    primary key(sId, cId),\n",
    "    sId int references Students(sId),\n",
    "    cId int references Courses(cId),  \n",
    "    grade numeric(2,1) \n",
    ");\n",
    "\n",
    " \n",
    "INSERT INTO Students (sid, name) -- <-- gpa not entered\n",
    "     VALUES (1, 'Jack'),\n",
    "            (2, 'Jill'),\n",
    "            (3, 'Pat');\n",
    "            \n",
    "INSERT INTO Courses (cId, name, units)\n",
    "     VALUES (1, 'Database Design and Development', 12),\n",
    "            (2, 'Practical Data Science', 9),\n",
    "            (3, 'Big Data Analytics', 6),\n",
    "            (4, 'Machine Learning', 9),\n",
    "            (5, 'Decision Support Systems', 9),\n",
    "            (6, 'Business applications of AI', 9)\n",
    "            ;\n",
    "            \n",
    "INSERT INTO Grades( sId, cId, grade)\n",
    "     VALUES (1, 1, 4.0),\n",
    "            (1, 2, 3.3),\n",
    "            (2, 1, 3.7);\n",
    "            "
   ]
  },
  {
   "cell_type": "markdown",
   "metadata": {},
   "source": [
    "#### A handy python function that prints all three tables at the same time"
   ]
  },
  {
   "cell_type": "code",
   "execution_count": 5,
   "metadata": {},
   "outputs": [],
   "source": [
    "# Note the use of %sql to capture outuput of an SQL statement as a Python list\n",
    "\n",
    "def print_all_tables():\n",
    "    s = %sql select * from Students; \n",
    "    c = %sql select * from Courses;\n",
    "    g = %sql select * from Grades;\n",
    "    print(\"\\nStudents:\\n%s\" % s)\n",
    "    print(\"\\nCourses:\\n%s\" % c)\n",
    "    print(\"\\nGrades:\\n%s\" % g)"
   ]
  },
  {
   "cell_type": "code",
   "execution_count": 6,
   "metadata": {},
   "outputs": [
    {
     "name": "stdout",
     "output_type": "stream",
     "text": [
      " * postgresql://isdb@localhost/postgres\n",
      "3 rows affected.\n",
      " * postgresql://isdb@localhost/postgres\n",
      "6 rows affected.\n",
      " * postgresql://isdb@localhost/postgres\n",
      "3 rows affected.\n",
      "\n",
      "Students:\n",
      "+-----+------+------+\n",
      "| sid | name | gpa  |\n",
      "+-----+------+------+\n",
      "|  1  | Jack | 0.00 |\n",
      "|  2  | Jill | 0.00 |\n",
      "|  3  | Pat  | 0.00 |\n",
      "+-----+------+------+\n",
      "\n",
      "Courses:\n",
      "+-----+---------------------------------+-------+\n",
      "| cid |               name              | units |\n",
      "+-----+---------------------------------+-------+\n",
      "|  1  | Database Design and Development |   12  |\n",
      "|  2  |      Practical Data Science     |   9   |\n",
      "|  3  |        Big Data Analytics       |   6   |\n",
      "|  4  |         Machine Learning        |   9   |\n",
      "|  5  |     Decision Support Systems    |   9   |\n",
      "|  6  |   Business applications of AI   |   9   |\n",
      "+-----+---------------------------------+-------+\n",
      "\n",
      "Grades:\n",
      "+-----+-----+-------+\n",
      "| sid | cid | grade |\n",
      "+-----+-----+-------+\n",
      "|  1  |  1  |  4.0  |\n",
      "|  1  |  2  |  3.3  |\n",
      "|  2  |  1  |  3.7  |\n",
      "+-----+-----+-------+\n"
     ]
    }
   ],
   "source": [
    "print_all_tables()"
   ]
  },
  {
   "cell_type": "markdown",
   "metadata": {},
   "source": [
    "## TODO 1: Write a trigger function `fn_update_gpa` that will recalculate the GPA of a student when ever a new row is inserted into the Grades table i.e., a student is assigned a grade for a course"
   ]
  },
  {
   "cell_type": "markdown",
   "metadata": {},
   "source": [
    "\n",
    "SELECT (SELECT sum(G.grade * C.units)\n",
    "                    FROM Students AS S \n",
    "                    JOIN Grades AS G \n",
    "                      ON S.sid=G.sid\n",
    "                    JOIN Courses AS C\n",
    "                      ON G.cid=C.cid\n",
    "                    WHERE S.sid=new.sid)/\n",
    "                    \n",
    "                    (SELECT sum(C.units)\n",
    "                       FROM Students AS S \n",
    "                    JOIN Grades AS G \n",
    "                      ON S.sid=G.sid\n",
    "                    JOIN Courses AS C\n",
    "                      ON G.cid=C.cid\n",
    "                    WHERE S.sid=new.sid)"
   ]
  },
  {
   "cell_type": "code",
   "execution_count": 7,
   "metadata": {},
   "outputs": [
    {
     "name": "stdout",
     "output_type": "stream",
     "text": [
      " * postgresql://isdb@localhost/postgres\n",
      "Done.\n",
      "Done.\n"
     ]
    },
    {
     "data": {
      "text/plain": [
       "[]"
      ]
     },
     "execution_count": 7,
     "metadata": {},
     "output_type": "execute_result"
    }
   ],
   "source": [
    "%%sql\n",
    "\n",
    "DROP FUNCTION IF EXISTS fn_update_gpa(); \n",
    "\n",
    "CREATE FUNCTION fn_update_gpa() RETURNS trigger \n",
    "LANGUAGE plpgsql AS\n",
    "$$\n",
    "BEGIN \n",
    "    UPDATE Students \n",
    "       SET gpa = (SELECT sum(G.grade * C.units) / sum(C.units) test\n",
    "                    FROM Students AS S \n",
    "                    JOIN Grades AS G \n",
    "                      ON S.sid=G.sid\n",
    "                    JOIN Courses AS C\n",
    "                      ON G.cid=C.cid\n",
    "                   WHERE S.sid = new.sid)\n",
    "                    \n",
    "     WHERE sid = new.sid;\n",
    "    RETURN NULL;\n",
    "END \n",
    "$$;"
   ]
  },
  {
   "cell_type": "markdown",
   "metadata": {},
   "source": [
    "## TODO 2: Write the Trigger `tr_update_gpa`\n",
    "Use the event:\n",
    "AFTER INSERT OR UPDATE "
   ]
  },
  {
   "cell_type": "code",
   "execution_count": 8,
   "metadata": {},
   "outputs": [
    {
     "name": "stdout",
     "output_type": "stream",
     "text": [
      " * postgresql://isdb@localhost/postgres\n",
      "Done.\n",
      "Done.\n"
     ]
    },
    {
     "data": {
      "text/plain": [
       "[]"
      ]
     },
     "execution_count": 8,
     "metadata": {},
     "output_type": "execute_result"
    }
   ],
   "source": [
    "%%sql\n",
    "\n",
    "DROP TRIGGER IF EXISTS tr_update_gpa ON Grades;\n",
    "\n",
    "CREATE TRIGGER tr_update_gpa \n",
    "AFTER INSERT ON Grades\n",
    "FOR EACH ROW \n",
    "    EXECUTE PROCEDURE fn_update_gpa();"
   ]
  },
  {
   "cell_type": "markdown",
   "metadata": {},
   "source": [
    "## TODO 3: Complete the function `assign_grade` \n",
    "\n",
    "`assign_grade(2, 3, 4.0)` creates an abstraction around the process of assigning a grade to a student.\n",
    "\n",
    "The grades table has rows of `(sid, cid, grade)`.  Your function needs to determine if the `sid` `cid` combination already exists in the table, and if so it updates an existing grade.  Otherwise it will insert the new grade.\n",
    "\n",
    "Use the boolean functino `EXISTS(SELECT _____ )` to determine if a row exists or not."
   ]
  },
  {
   "cell_type": "code",
   "execution_count": 9,
   "metadata": {},
   "outputs": [
    {
     "name": "stdout",
     "output_type": "stream",
     "text": [
      " * postgresql://isdb@localhost/postgres\n",
      "Done.\n",
      "Done.\n"
     ]
    },
    {
     "data": {
      "text/plain": [
       "[]"
      ]
     },
     "execution_count": 9,
     "metadata": {},
     "output_type": "execute_result"
    }
   ],
   "source": [
    "%%sql\n",
    "\n",
    "DROP FUNCTION IF EXISTS assign_grade(int, int, numeric(2,1));\n",
    "\n",
    "create function assign_grade(p_sid int, p_cid int, p_grade numeric(2,1)) \n",
    "returns void\n",
    "language plpgsql as\n",
    "$$\n",
    "begin\n",
    "    IF (EXISTS (SELECT G.sid, G.cid \n",
    "                  FROM Grades AS G\n",
    "                 WHERE G.sid=p_sid \n",
    "                   AND G.cid=p_cid))\n",
    "  THEN UPDATE Grades\n",
    "          SET grade=p_grade\n",
    "        WHERE sid=p_sid\n",
    "          AND cid=p_cid;\n",
    "  ELSE INSERT INTO Grades(sid, cid, grade)\n",
    "          VALUES (p_sid, p_cid, p_grade);\n",
    "END IF;\n",
    "end\n",
    "$$;"
   ]
  },
  {
   "cell_type": "code",
   "execution_count": 10,
   "metadata": {},
   "outputs": [
    {
     "name": "stdout",
     "output_type": "stream",
     "text": [
      " * postgresql://isdb@localhost/postgres\n",
      "1 rows affected.\n"
     ]
    },
    {
     "data": {
      "text/html": [
       "<table>\n",
       "    <tr>\n",
       "        <th>assign_grade</th>\n",
       "    </tr>\n",
       "    <tr>\n",
       "        <td></td>\n",
       "    </tr>\n",
       "</table>"
      ],
      "text/plain": [
       "[('',)]"
      ]
     },
     "execution_count": 10,
     "metadata": {},
     "output_type": "execute_result"
    }
   ],
   "source": [
    "%%sql \n",
    "\n",
    "-- Assign Jill((sid=2) the grade of 3.0 for course cid=3\n",
    "select assign_grade(2, 3, 3.0)"
   ]
  },
  {
   "cell_type": "markdown",
   "metadata": {},
   "source": [
    "### You should now see the GPA calculated for Jill"
   ]
  },
  {
   "cell_type": "code",
   "execution_count": 11,
   "metadata": {},
   "outputs": [
    {
     "name": "stdout",
     "output_type": "stream",
     "text": [
      " * postgresql://isdb@localhost/postgres\n",
      "3 rows affected.\n",
      " * postgresql://isdb@localhost/postgres\n",
      "6 rows affected.\n",
      " * postgresql://isdb@localhost/postgres\n",
      "4 rows affected.\n",
      "\n",
      "Students:\n",
      "+-----+------+------+\n",
      "| sid | name | gpa  |\n",
      "+-----+------+------+\n",
      "|  1  | Jack | 0.00 |\n",
      "|  3  | Pat  | 0.00 |\n",
      "|  2  | Jill | 3.47 |\n",
      "+-----+------+------+\n",
      "\n",
      "Courses:\n",
      "+-----+---------------------------------+-------+\n",
      "| cid |               name              | units |\n",
      "+-----+---------------------------------+-------+\n",
      "|  1  | Database Design and Development |   12  |\n",
      "|  2  |      Practical Data Science     |   9   |\n",
      "|  3  |        Big Data Analytics       |   6   |\n",
      "|  4  |         Machine Learning        |   9   |\n",
      "|  5  |     Decision Support Systems    |   9   |\n",
      "|  6  |   Business applications of AI   |   9   |\n",
      "+-----+---------------------------------+-------+\n",
      "\n",
      "Grades:\n",
      "+-----+-----+-------+\n",
      "| sid | cid | grade |\n",
      "+-----+-----+-------+\n",
      "|  1  |  1  |  4.0  |\n",
      "|  1  |  2  |  3.3  |\n",
      "|  2  |  1  |  3.7  |\n",
      "|  2  |  3  |  3.0  |\n",
      "+-----+-----+-------+\n"
     ]
    }
   ],
   "source": [
    "print_all_tables()"
   ]
  },
  {
   "cell_type": "code",
   "execution_count": 10,
   "metadata": {},
   "outputs": [
    {
     "name": "stdout",
     "output_type": "stream",
     "text": [
      " * postgresql://isdb@localhost/postgres\n",
      "1 rows affected.\n"
     ]
    },
    {
     "data": {
      "text/html": [
       "<table>\n",
       "    <tr>\n",
       "        <th>gpa</th>\n",
       "    </tr>\n",
       "    <tr>\n",
       "        <td>3.4666666666666667</td>\n",
       "    </tr>\n",
       "</table>"
      ],
      "text/plain": [
       "[(Decimal('3.4666666666666667'),)]"
      ]
     },
     "execution_count": 10,
     "metadata": {},
     "output_type": "execute_result"
    }
   ],
   "source": [
    "# Calculating by hand we see\n",
    "# cid 3 / 6 units / 3.0\n",
    "# cid 1 / 12 units / 3.7\n",
    "%sql select ((6*3.0 + 12*3.7) / (6.0+12.0)) as \"gpa\";"
   ]
  },
  {
   "cell_type": "markdown",
   "metadata": {
    "collapsed": true
   },
   "source": [
    "##  Question 2:  Write a trigger such that if a person's GPA is >= 3.5 then they are inserted into a Dean's honors table"
   ]
  },
  {
   "cell_type": "code",
   "execution_count": 11,
   "metadata": {},
   "outputs": [
    {
     "name": "stdout",
     "output_type": "stream",
     "text": [
      " * postgresql://isdb@localhost/postgres\n",
      "Done.\n",
      "Done.\n"
     ]
    },
    {
     "data": {
      "text/plain": [
       "[]"
      ]
     },
     "execution_count": 11,
     "metadata": {},
     "output_type": "execute_result"
    }
   ],
   "source": [
    "%%sql\n",
    "\n",
    "drop table if exists Deans_List;\n",
    "\n",
    "create table Deans_List (\n",
    "     sid   int,\n",
    "     name  text,\n",
    "     gpa   numeric(3,2)\n",
    ");"
   ]
  },
  {
   "cell_type": "markdown",
   "metadata": {},
   "source": [
    "### TODO 4 : Write the `fn_update_deans_list` trigger function\n",
    "\n",
    "Insert into the Dean's List table only if the gpa >= 3.5"
   ]
  },
  {
   "cell_type": "code",
   "execution_count": 12,
   "metadata": {},
   "outputs": [
    {
     "name": "stdout",
     "output_type": "stream",
     "text": [
      " * postgresql://isdb@localhost/postgres\n",
      "Done.\n",
      "Done.\n"
     ]
    },
    {
     "data": {
      "text/plain": [
       "[]"
      ]
     },
     "execution_count": 12,
     "metadata": {},
     "output_type": "execute_result"
    }
   ],
   "source": [
    "%%sql\n",
    "\n",
    "DROP FUNCTION IF EXISTS fn_update_deans_list() cascade;\n",
    "\n",
    "-- To update a students inclusion in the Dean's list you will find\n",
    "-- it easier to (i) drop the student first (whether they \n",
    "-- are included already or not) and (ii) insert them if their GPA is\n",
    "-- >= 3.5\n",
    "\n",
    "CREATE FUNCTION fn_update_deans_list() RETURNS trigger \n",
    "LANGUAGE plpgsql AS \n",
    "$$\n",
    "BEGIN \n",
    "   DELETE FROM Deans_List\n",
    "    WHERE sid=old.sid\n",
    "      AND name=old.name\n",
    "      AND new.gpa < 3.5;\n",
    "       IF (new.gpa >= 3.5) \n",
    "     THEN INSERT INTO Deans_List (sid, name, gpa)\n",
    "              VALUES (old.sid, old.name, new.gpa);\n",
    "      END IF;\n",
    "   return null;    \n",
    "END $$ ;"
   ]
  },
  {
   "cell_type": "markdown",
   "metadata": {},
   "source": [
    "### TODO 5 : Write the trigger `tr_update_deans_list`"
   ]
  },
  {
   "cell_type": "code",
   "execution_count": 13,
   "metadata": {},
   "outputs": [
    {
     "name": "stdout",
     "output_type": "stream",
     "text": [
      " * postgresql://isdb@localhost/postgres\n",
      "Done.\n",
      "Done.\n"
     ]
    },
    {
     "data": {
      "text/plain": [
       "[]"
      ]
     },
     "execution_count": 13,
     "metadata": {},
     "output_type": "execute_result"
    }
   ],
   "source": [
    "%%sql \n",
    "DROP TRIGGER IF EXISTS tr_update_deans_list ON Students;\n",
    "\n",
    "CREATE TRIGGER tr_update_deans_list \n",
    "AFTER UPDATE ON Students \n",
    "FOR EACH ROW\n",
    "    EXECUTE PROCEDURE fn_update_deans_list();"
   ]
  },
  {
   "cell_type": "code",
   "execution_count": 14,
   "metadata": {},
   "outputs": [
    {
     "name": "stdout",
     "output_type": "stream",
     "text": [
      " * postgresql://isdb@localhost/postgres\n",
      "0 rows affected.\n"
     ]
    },
    {
     "data": {
      "text/html": [
       "<table>\n",
       "    <tr>\n",
       "        <th>sid</th>\n",
       "        <th>name</th>\n",
       "        <th>gpa</th>\n",
       "    </tr>\n",
       "</table>"
      ],
      "text/plain": [
       "[]"
      ]
     },
     "execution_count": 14,
     "metadata": {},
     "output_type": "execute_result"
    }
   ],
   "source": [
    "%%sql \n",
    "\n",
    "-- initially the dean's list is empty\n",
    "select * from Deans_List;"
   ]
  },
  {
   "cell_type": "code",
   "execution_count": 15,
   "metadata": {},
   "outputs": [
    {
     "name": "stdout",
     "output_type": "stream",
     "text": [
      " * postgresql://isdb@localhost/postgres\n",
      "1 rows affected.\n"
     ]
    },
    {
     "data": {
      "text/html": [
       "<table>\n",
       "    <tr>\n",
       "        <th>assign_grade</th>\n",
       "    </tr>\n",
       "    <tr>\n",
       "        <td></td>\n",
       "    </tr>\n",
       "</table>"
      ],
      "text/plain": [
       "[('',)]"
      ]
     },
     "execution_count": 15,
     "metadata": {},
     "output_type": "execute_result"
    }
   ],
   "source": [
    "%%sql\n",
    "-- Jill gets a 4.0 in cid=2 'Practical Data Science'\n",
    "\n",
    "select assign_grade(2, 2, 4.0)"
   ]
  },
  {
   "cell_type": "markdown",
   "metadata": {},
   "source": [
    "### Jill's GPA should now be 3.64"
   ]
  },
  {
   "cell_type": "code",
   "execution_count": 16,
   "metadata": {},
   "outputs": [
    {
     "name": "stdout",
     "output_type": "stream",
     "text": [
      " * postgresql://isdb@localhost/postgres\n",
      "1 rows affected.\n"
     ]
    },
    {
     "data": {
      "text/html": [
       "<table>\n",
       "    <tr>\n",
       "        <th>gpa</th>\n",
       "    </tr>\n",
       "    <tr>\n",
       "        <td>3.6444444444444444</td>\n",
       "    </tr>\n",
       "</table>"
      ],
      "text/plain": [
       "[(Decimal('3.6444444444444444'),)]"
      ]
     },
     "execution_count": 16,
     "metadata": {},
     "output_type": "execute_result"
    }
   ],
   "source": [
    "%sql select ((6*3.0 + 12*3.7 + 9*4.0) / (6.0+12.0+9.0)) as \"gpa\";"
   ]
  },
  {
   "cell_type": "markdown",
   "metadata": {},
   "source": [
    "### Lets check the tables"
   ]
  },
  {
   "cell_type": "code",
   "execution_count": 17,
   "metadata": {
    "scrolled": true
   },
   "outputs": [
    {
     "name": "stdout",
     "output_type": "stream",
     "text": [
      " * postgresql://isdb@localhost/postgres\n",
      "3 rows affected.\n",
      " * postgresql://isdb@localhost/postgres\n",
      "6 rows affected.\n",
      " * postgresql://isdb@localhost/postgres\n",
      "5 rows affected.\n",
      "\n",
      "Students:\n",
      "+-----+------+------+\n",
      "| sid | name | gpa  |\n",
      "+-----+------+------+\n",
      "|  1  | Jack | 0.00 |\n",
      "|  3  | Pat  | 0.00 |\n",
      "|  2  | Jill | 3.64 |\n",
      "+-----+------+------+\n",
      "\n",
      "Courses:\n",
      "+-----+---------------------------------+-------+\n",
      "| cid |               name              | units |\n",
      "+-----+---------------------------------+-------+\n",
      "|  1  | Database Design and Development |   12  |\n",
      "|  2  |      Practical Data Science     |   9   |\n",
      "|  3  |        Big Data Analytics       |   6   |\n",
      "|  4  |         Machine Learning        |   9   |\n",
      "|  5  |     Decision Support Systems    |   9   |\n",
      "|  6  |   Business applications of AI   |   9   |\n",
      "+-----+---------------------------------+-------+\n",
      "\n",
      "Grades:\n",
      "+-----+-----+-------+\n",
      "| sid | cid | grade |\n",
      "+-----+-----+-------+\n",
      "|  1  |  1  |  4.0  |\n",
      "|  1  |  2  |  3.3  |\n",
      "|  2  |  1  |  3.7  |\n",
      "|  2  |  3  |  3.0  |\n",
      "|  2  |  2  |  4.0  |\n",
      "+-----+-----+-------+\n"
     ]
    }
   ],
   "source": [
    "print_all_tables()"
   ]
  },
  {
   "cell_type": "markdown",
   "metadata": {},
   "source": [
    "## Jill should now be inserted in the Deans_List table"
   ]
  },
  {
   "cell_type": "code",
   "execution_count": 18,
   "metadata": {
    "scrolled": true
   },
   "outputs": [
    {
     "name": "stdout",
     "output_type": "stream",
     "text": [
      " * postgresql://isdb@localhost/postgres\n",
      "1 rows affected.\n"
     ]
    },
    {
     "data": {
      "text/html": [
       "<table>\n",
       "    <tr>\n",
       "        <th>sid</th>\n",
       "        <th>name</th>\n",
       "        <th>gpa</th>\n",
       "    </tr>\n",
       "    <tr>\n",
       "        <td>2</td>\n",
       "        <td>Jill</td>\n",
       "        <td>3.64</td>\n",
       "    </tr>\n",
       "</table>"
      ],
      "text/plain": [
       "[(2, 'Jill', Decimal('3.64'))]"
      ]
     },
     "execution_count": 18,
     "metadata": {},
     "output_type": "execute_result"
    }
   ],
   "source": [
    "%sql select * from deans_list;"
   ]
  },
  {
   "cell_type": "markdown",
   "metadata": {},
   "source": [
    "### Suppose Jill doesn't do well in cid=4"
   ]
  },
  {
   "cell_type": "code",
   "execution_count": 19,
   "metadata": {},
   "outputs": [
    {
     "name": "stdout",
     "output_type": "stream",
     "text": [
      " * postgresql://isdb@localhost/postgres\n",
      "1 rows affected.\n"
     ]
    },
    {
     "data": {
      "text/html": [
       "<table>\n",
       "    <tr>\n",
       "        <th>assign_grade</th>\n",
       "    </tr>\n",
       "    <tr>\n",
       "        <td></td>\n",
       "    </tr>\n",
       "</table>"
      ],
      "text/plain": [
       "[('',)]"
      ]
     },
     "execution_count": 19,
     "metadata": {},
     "output_type": "execute_result"
    }
   ],
   "source": [
    "%sql select assign_grade(2, 4, 2.0)"
   ]
  },
  {
   "cell_type": "code",
   "execution_count": 20,
   "metadata": {},
   "outputs": [
    {
     "name": "stdout",
     "output_type": "stream",
     "text": [
      " * postgresql://isdb@localhost/postgres\n",
      "3 rows affected.\n",
      " * postgresql://isdb@localhost/postgres\n",
      "6 rows affected.\n",
      " * postgresql://isdb@localhost/postgres\n",
      "6 rows affected.\n",
      "\n",
      "Students:\n",
      "+-----+------+------+\n",
      "| sid | name | gpa  |\n",
      "+-----+------+------+\n",
      "|  1  | Jack | 0.00 |\n",
      "|  3  | Pat  | 0.00 |\n",
      "|  2  | Jill | 3.23 |\n",
      "+-----+------+------+\n",
      "\n",
      "Courses:\n",
      "+-----+---------------------------------+-------+\n",
      "| cid |               name              | units |\n",
      "+-----+---------------------------------+-------+\n",
      "|  1  | Database Design and Development |   12  |\n",
      "|  2  |      Practical Data Science     |   9   |\n",
      "|  3  |        Big Data Analytics       |   6   |\n",
      "|  4  |         Machine Learning        |   9   |\n",
      "|  5  |     Decision Support Systems    |   9   |\n",
      "|  6  |   Business applications of AI   |   9   |\n",
      "+-----+---------------------------------+-------+\n",
      "\n",
      "Grades:\n",
      "+-----+-----+-------+\n",
      "| sid | cid | grade |\n",
      "+-----+-----+-------+\n",
      "|  1  |  1  |  4.0  |\n",
      "|  1  |  2  |  3.3  |\n",
      "|  2  |  1  |  3.7  |\n",
      "|  2  |  3  |  3.0  |\n",
      "|  2  |  2  |  4.0  |\n",
      "|  2  |  4  |  2.0  |\n",
      "+-----+-----+-------+\n"
     ]
    }
   ],
   "source": [
    "print_all_tables()"
   ]
  },
  {
   "cell_type": "markdown",
   "metadata": {},
   "source": [
    "### Since her GPA has now dropped Jill should no longer be on the Dean's list"
   ]
  },
  {
   "cell_type": "code",
   "execution_count": 21,
   "metadata": {},
   "outputs": [
    {
     "name": "stdout",
     "output_type": "stream",
     "text": [
      " * postgresql://isdb@localhost/postgres\n",
      "0 rows affected.\n"
     ]
    },
    {
     "data": {
      "text/html": [
       "<table>\n",
       "    <tr>\n",
       "        <th>sid</th>\n",
       "        <th>name</th>\n",
       "        <th>gpa</th>\n",
       "    </tr>\n",
       "</table>"
      ],
      "text/plain": [
       "[]"
      ]
     },
     "execution_count": 21,
     "metadata": {},
     "output_type": "execute_result"
    }
   ],
   "source": [
    "%sql select * from deans_list;"
   ]
  },
  {
   "cell_type": "code",
   "execution_count": null,
   "metadata": {},
   "outputs": [],
   "source": []
  }
 ],
 "metadata": {
  "kernelspec": {
   "display_name": "Python 3",
   "language": "python",
   "name": "python3"
  },
  "language_info": {
   "codemirror_mode": {
    "name": "ipython",
    "version": 3
   },
   "file_extension": ".py",
   "mimetype": "text/x-python",
   "name": "python",
   "nbconvert_exporter": "python",
   "pygments_lexer": "ipython3",
   "version": "3.7.3"
  }
 },
 "nbformat": 4,
 "nbformat_minor": 1
}
