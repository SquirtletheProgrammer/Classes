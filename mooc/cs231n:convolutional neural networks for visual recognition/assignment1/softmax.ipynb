{
 "cells": [
  {
   "cell_type": "markdown",
   "metadata": {
    "tags": [
     "pdf-title"
    ]
   },
   "source": [
    "# Softmax exercise\n",
    "\n",
    "*Complete and hand in this completed worksheet (including its outputs and any supporting code outside of the worksheet) with your assignment submission. For more details see the [assignments page](http://vision.stanford.edu/teaching/cs231n/assignments.html) on the course website.*\n",
    "\n",
    "This exercise is analogous to the SVM exercise. You will:\n",
    "\n",
    "- implement a fully-vectorized **loss function** for the Softmax classifier\n",
    "- implement the fully-vectorized expression for its **analytic gradient**\n",
    "- **check your implementation** with numerical gradient\n",
    "- use a validation set to **tune the learning rate and regularization** strength\n",
    "- **optimize** the loss function with **SGD**\n",
    "- **visualize** the final learned weights\n"
   ]
  },
  {
   "cell_type": "code",
   "execution_count": 1,
   "metadata": {
    "tags": [
     "pdf-ignore"
    ]
   },
   "outputs": [],
   "source": [
    "import random\n",
    "import numpy as np\n",
    "from cs231n.data_utils import load_CIFAR10\n",
    "import matplotlib.pyplot as plt\n",
    "\n",
    "%matplotlib inline\n",
    "plt.rcParams['figure.figsize'] = (10.0, 8.0) # set default size of plots\n",
    "plt.rcParams['image.interpolation'] = 'nearest'\n",
    "plt.rcParams['image.cmap'] = 'gray'\n",
    "\n",
    "# for auto-reloading extenrnal modules\n",
    "# see http://stackoverflow.com/questions/1907993/autoreload-of-modules-in-ipython\n",
    "%load_ext autoreload\n",
    "%autoreload 2"
   ]
  },
  {
   "cell_type": "code",
   "execution_count": 2,
   "metadata": {
    "tags": [
     "pdf-ignore"
    ]
   },
   "outputs": [
    {
     "name": "stdout",
     "output_type": "stream",
     "text": [
      "Train data shape:  (49000, 3073)\n",
      "Train labels shape:  (49000,)\n",
      "Validation data shape:  (1000, 3073)\n",
      "Validation labels shape:  (1000,)\n",
      "Test data shape:  (1000, 3073)\n",
      "Test labels shape:  (1000,)\n",
      "dev data shape:  (500, 3073)\n",
      "dev labels shape:  (500,)\n"
     ]
    }
   ],
   "source": [
    "def get_CIFAR10_data(num_training=49000, num_validation=1000, num_test=1000, num_dev=500):\n",
    "    \"\"\"\n",
    "    Load the CIFAR-10 dataset from disk and perform preprocessing to prepare\n",
    "    it for the linear classifier. These are the same steps as we used for the\n",
    "    SVM, but condensed to a single function.  \n",
    "    \"\"\"\n",
    "    # Load the raw CIFAR-10 data\n",
    "    cifar10_dir = 'cs231n/datasets/cifar-10-batches-py'\n",
    "    \n",
    "    # Cleaning up variables to prevent loading data multiple times (which may cause memory issue)\n",
    "    try:\n",
    "       del X_train, y_train\n",
    "       del X_test, y_test\n",
    "       print('Clear previously loaded data.')\n",
    "    except:\n",
    "       pass\n",
    "\n",
    "    X_train, y_train, X_test, y_test = load_CIFAR10(cifar10_dir)\n",
    "    \n",
    "    # subsample the data\n",
    "    mask = list(range(num_training, num_training + num_validation))\n",
    "    X_val = X_train[mask]\n",
    "    y_val = y_train[mask]\n",
    "    mask = list(range(num_training))\n",
    "    X_train = X_train[mask]\n",
    "    y_train = y_train[mask]\n",
    "    mask = list(range(num_test))\n",
    "    X_test = X_test[mask]\n",
    "    y_test = y_test[mask]\n",
    "    mask = np.random.choice(num_training, num_dev, replace=False)\n",
    "    X_dev = X_train[mask]\n",
    "    y_dev = y_train[mask]\n",
    "    \n",
    "    # Preprocessing: reshape the image data into rows\n",
    "    X_train = np.reshape(X_train, (X_train.shape[0], -1))\n",
    "    X_val = np.reshape(X_val, (X_val.shape[0], -1))\n",
    "    X_test = np.reshape(X_test, (X_test.shape[0], -1))\n",
    "    X_dev = np.reshape(X_dev, (X_dev.shape[0], -1))\n",
    "    \n",
    "    # Normalize the data: subtract the mean image\n",
    "    mean_image = np.mean(X_train, axis = 0)\n",
    "    X_train -= mean_image\n",
    "    X_val -= mean_image\n",
    "    X_test -= mean_image\n",
    "    X_dev -= mean_image\n",
    "    \n",
    "    # add bias dimension and transform into columns\n",
    "    X_train = np.hstack([X_train, np.ones((X_train.shape[0], 1))])\n",
    "    X_val = np.hstack([X_val, np.ones((X_val.shape[0], 1))])\n",
    "    X_test = np.hstack([X_test, np.ones((X_test.shape[0], 1))])\n",
    "    X_dev = np.hstack([X_dev, np.ones((X_dev.shape[0], 1))])\n",
    "    \n",
    "    return X_train, y_train, X_val, y_val, X_test, y_test, X_dev, y_dev\n",
    "\n",
    "\n",
    "# Invoke the above function to get our data.\n",
    "X_train, y_train, X_val, y_val, X_test, y_test, X_dev, y_dev = get_CIFAR10_data()\n",
    "print('Train data shape: ', X_train.shape)\n",
    "print('Train labels shape: ', y_train.shape)\n",
    "print('Validation data shape: ', X_val.shape)\n",
    "print('Validation labels shape: ', y_val.shape)\n",
    "print('Test data shape: ', X_test.shape)\n",
    "print('Test labels shape: ', y_test.shape)\n",
    "print('dev data shape: ', X_dev.shape)\n",
    "print('dev labels shape: ', y_dev.shape)"
   ]
  },
  {
   "cell_type": "markdown",
   "metadata": {},
   "source": [
    "## Softmax Classifier\n",
    "\n",
    "Your code for this section will all be written inside **cs231n/classifiers/softmax.py**. \n"
   ]
  },
  {
   "cell_type": "code",
   "execution_count": 3,
   "metadata": {},
   "outputs": [
    {
     "name": "stdout",
     "output_type": "stream",
     "text": [
      "loss: 2.378261\n",
      "sanity check: 2.302585\n"
     ]
    }
   ],
   "source": [
    "# First implement the naive softmax loss function with nested loops.\n",
    "# Open the file cs231n/classifiers/softmax.py and implement the\n",
    "# softmax_loss_naive function.\n",
    "\n",
    "from cs231n.classifiers.softmax import softmax_loss_naive\n",
    "import time\n",
    "\n",
    "# Generate a random softmax weight matrix and use it to compute the loss.\n",
    "W = np.random.randn(3073, 10) * 0.0001\n",
    "loss, grad = softmax_loss_naive(W, X_dev, y_dev, 0.0)\n",
    "\n",
    "# As a rough sanity check, our loss should be something close to -log(0.1).\n",
    "print('loss: %f' % loss)\n",
    "print('sanity check: %f' % (-np.log(0.1)))"
   ]
  },
  {
   "cell_type": "markdown",
   "metadata": {
    "tags": [
     "pdf-inline"
    ]
   },
   "source": [
    "**Inline Question 1**\n",
    "\n",
    "Why do we expect our loss to be close to -log(0.1)? Explain briefly.**\n",
    "\n",
    "$\\color{blue}{\\textit Your Answer:}$ *Fill this in* \n",
    "\n"
   ]
  },
  {
   "cell_type": "code",
   "execution_count": 9,
   "metadata": {},
   "outputs": [
    {
     "name": "stdout",
     "output_type": "stream",
     "text": [
      "numerical: 0.663788 analytic: 0.663787, relative error: 9.516067e-08\n",
      "numerical: -2.115818 analytic: -2.115818, relative error: 3.434309e-08\n",
      "numerical: -0.233251 analytic: -0.233252, relative error: 2.901259e-07\n",
      "numerical: -1.561400 analytic: -1.561400, relative error: 2.486300e-08\n",
      "numerical: -0.853694 analytic: -0.853694, relative error: 9.653423e-08\n",
      "numerical: -2.096624 analytic: -2.096625, relative error: 4.633391e-08\n",
      "numerical: -1.281695 analytic: -1.281695, relative error: 1.196754e-08\n",
      "numerical: 1.908945 analytic: 1.908945, relative error: 3.827948e-08\n",
      "numerical: 1.095600 analytic: 1.095600, relative error: 8.222104e-08\n",
      "numerical: -1.484853 analytic: -1.484853, relative error: 2.538554e-09\n",
      "numerical: 1.544414 analytic: 1.544440, relative error: 8.396063e-06\n",
      "numerical: -2.980705 analytic: -2.988464, relative error: 1.299866e-03\n",
      "numerical: -2.929098 analytic: -2.928684, relative error: 7.071463e-05\n",
      "numerical: -1.533469 analytic: -1.531138, relative error: 7.606112e-04\n",
      "numerical: -2.006990 analytic: -2.000289, relative error: 1.672013e-03\n",
      "numerical: 1.966166 analytic: 1.964154, relative error: 5.119338e-04\n",
      "numerical: 1.264680 analytic: 1.267463, relative error: 1.099029e-03\n",
      "numerical: 2.714802 analytic: 2.706748, relative error: 1.485670e-03\n",
      "numerical: -2.911744 analytic: -2.908728, relative error: 5.181773e-04\n",
      "numerical: 0.514353 analytic: 0.498382, relative error: 1.576965e-02\n"
     ]
    }
   ],
   "source": [
    "# Complete the implementation of softmax_loss_naive and implement a (naive)\n",
    "# version of the gradient that uses nested loops.\n",
    "loss, grad = softmax_loss_naive(W, X_dev, y_dev, 0.0)\n",
    "\n",
    "# As we did for the SVM, use numeric gradient checking as a debugging tool.\n",
    "# The numeric gradient should be close to the analytic gradient.\n",
    "from cs231n.gradient_check import grad_check_sparse\n",
    "f = lambda w: softmax_loss_naive(w, X_dev, y_dev, 0.0)[0]\n",
    "grad_numerical = grad_check_sparse(f, W, grad, 10)\n",
    "\n",
    "# similar to SVM case, do another gradient check with regularization\n",
    "loss, grad = softmax_loss_naive(W, X_dev, y_dev, 5e1)\n",
    "f = lambda w: softmax_loss_naive(w, X_dev, y_dev, 5e1)[0]\n",
    "grad_numerical = grad_check_sparse(f, W, grad, 10)"
   ]
  },
  {
   "cell_type": "code",
   "execution_count": 10,
   "metadata": {},
   "outputs": [
    {
     "name": "stdout",
     "output_type": "stream",
     "text": [
      "naive loss: 2.378261e+00 computed in 0.096702s\n",
      "vectorized loss: 2.378261e+00 computed in 0.002122s\n",
      "Loss difference: 0.000000\n",
      "Gradient difference: 0.000000\n"
     ]
    }
   ],
   "source": [
    "# Now that we have a naive implementation of the softmax loss function and its gradient,\n",
    "# implement a vectorized version in softmax_loss_vectorized.\n",
    "# The two versions should compute the same results, but the vectorized version should be\n",
    "# much faster.\n",
    "tic = time.time()\n",
    "loss_naive, grad_naive = softmax_loss_naive(W, X_dev, y_dev, 0.000005)\n",
    "toc = time.time()\n",
    "print('naive loss: %e computed in %fs' % (loss_naive, toc - tic))\n",
    "\n",
    "from cs231n.classifiers.softmax import softmax_loss_vectorized\n",
    "tic = time.time()\n",
    "loss_vectorized, grad_vectorized = softmax_loss_vectorized(W, X_dev, y_dev, 0.000005)\n",
    "toc = time.time()\n",
    "print('vectorized loss: %e computed in %fs' % (loss_vectorized, toc - tic))\n",
    "# print(\"gn \", grad_naive)\n",
    "# print(\"gv \", grad_vectorized)\n",
    "# As we did for the SVM, we use the Frobenius norm to compare the two versions\n",
    "# of the gradient.\n",
    "grad_difference = np.linalg.norm(grad_naive - grad_vectorized, ord='fro')\n",
    "print('Loss difference: %f' % np.abs(loss_naive - loss_vectorized))\n",
    "print('Gradient difference: %f' % grad_difference)"
   ]
  },
  {
   "cell_type": "code",
   "execution_count": 28,
   "metadata": {
    "tags": [
     "code"
    ]
   },
   "outputs": [
    {
     "name": "stdout",
     "output_type": "stream",
     "text": [
      "lr 4.527945e-08 reg 2.046869e+04 train accuracy: 0.342367 val accuracy: 0.359000\n",
      "lr 4.527945e-08 reg 2.249913e+04 train accuracy: 0.346510 val accuracy: 0.360000\n",
      "lr 4.527945e-08 reg 3.115543e+04 train accuracy: 0.339224 val accuracy: 0.351000\n",
      "lr 4.527945e-08 reg 3.312824e+04 train accuracy: 0.337327 val accuracy: 0.349000\n",
      "lr 4.527945e-08 reg 3.684770e+04 train accuracy: 0.342306 val accuracy: 0.355000\n",
      "lr 4.527945e-08 reg 3.743950e+04 train accuracy: 0.340673 val accuracy: 0.354000\n",
      "lr 4.527945e-08 reg 4.030792e+04 train accuracy: 0.339429 val accuracy: 0.353000\n",
      "lr 4.527945e-08 reg 4.079994e+04 train accuracy: 0.341204 val accuracy: 0.354000\n",
      "lr 4.527945e-08 reg 4.377195e+04 train accuracy: 0.340510 val accuracy: 0.350000\n",
      "lr 4.527945e-08 reg 4.561695e+04 train accuracy: 0.332776 val accuracy: 0.351000\n",
      "lr 4.527945e-08 reg 4.892676e+04 train accuracy: 0.331000 val accuracy: 0.341000\n",
      "lr 4.527945e-08 reg 5.109327e+04 train accuracy: 0.335490 val accuracy: 0.347000\n",
      "lr 1.741803e-07 reg 2.046869e+04 train accuracy: 0.353551 val accuracy: 0.372000\n",
      "lr 1.741803e-07 reg 2.249913e+04 train accuracy: 0.350041 val accuracy: 0.364000\n",
      "lr 1.741803e-07 reg 3.115543e+04 train accuracy: 0.346408 val accuracy: 0.358000\n",
      "lr 1.741803e-07 reg 3.312824e+04 train accuracy: 0.338449 val accuracy: 0.355000\n",
      "lr 1.741803e-07 reg 3.684770e+04 train accuracy: 0.341592 val accuracy: 0.350000\n",
      "lr 1.741803e-07 reg 3.743950e+04 train accuracy: 0.337102 val accuracy: 0.350000\n",
      "lr 1.741803e-07 reg 4.030792e+04 train accuracy: 0.336510 val accuracy: 0.345000\n",
      "lr 1.741803e-07 reg 4.079994e+04 train accuracy: 0.332000 val accuracy: 0.350000\n",
      "lr 1.741803e-07 reg 4.377195e+04 train accuracy: 0.333959 val accuracy: 0.345000\n",
      "lr 1.741803e-07 reg 4.561695e+04 train accuracy: 0.336327 val accuracy: 0.349000\n",
      "lr 1.741803e-07 reg 4.892676e+04 train accuracy: 0.325898 val accuracy: 0.343000\n",
      "lr 1.741803e-07 reg 5.109327e+04 train accuracy: 0.327245 val accuracy: 0.341000\n",
      "lr 1.881733e-07 reg 2.046869e+04 train accuracy: 0.352735 val accuracy: 0.374000\n",
      "lr 1.881733e-07 reg 2.249913e+04 train accuracy: 0.354469 val accuracy: 0.371000\n",
      "lr 1.881733e-07 reg 3.115543e+04 train accuracy: 0.340449 val accuracy: 0.349000\n",
      "lr 1.881733e-07 reg 3.312824e+04 train accuracy: 0.339816 val accuracy: 0.356000\n",
      "lr 1.881733e-07 reg 3.684770e+04 train accuracy: 0.333265 val accuracy: 0.352000\n",
      "lr 1.881733e-07 reg 3.743950e+04 train accuracy: 0.335204 val accuracy: 0.349000\n",
      "lr 1.881733e-07 reg 4.030792e+04 train accuracy: 0.334245 val accuracy: 0.345000\n",
      "lr 1.881733e-07 reg 4.079994e+04 train accuracy: 0.333918 val accuracy: 0.352000\n",
      "lr 1.881733e-07 reg 4.377195e+04 train accuracy: 0.327898 val accuracy: 0.339000\n",
      "lr 1.881733e-07 reg 4.561695e+04 train accuracy: 0.339633 val accuracy: 0.359000\n",
      "lr 1.881733e-07 reg 4.892676e+04 train accuracy: 0.332245 val accuracy: 0.344000\n",
      "lr 1.881733e-07 reg 5.109327e+04 train accuracy: 0.331388 val accuracy: 0.347000\n",
      "lr 2.529528e-07 reg 2.046869e+04 train accuracy: 0.348939 val accuracy: 0.366000\n",
      "lr 2.529528e-07 reg 2.249913e+04 train accuracy: 0.351857 val accuracy: 0.369000\n",
      "lr 2.529528e-07 reg 3.115543e+04 train accuracy: 0.350837 val accuracy: 0.367000\n",
      "lr 2.529528e-07 reg 3.312824e+04 train accuracy: 0.339061 val accuracy: 0.354000\n",
      "lr 2.529528e-07 reg 3.684770e+04 train accuracy: 0.332653 val accuracy: 0.340000\n",
      "lr 2.529528e-07 reg 3.743950e+04 train accuracy: 0.334878 val accuracy: 0.346000\n",
      "lr 2.529528e-07 reg 4.030792e+04 train accuracy: 0.338816 val accuracy: 0.356000\n",
      "lr 2.529528e-07 reg 4.079994e+04 train accuracy: 0.333184 val accuracy: 0.347000\n",
      "lr 2.529528e-07 reg 4.377195e+04 train accuracy: 0.334939 val accuracy: 0.348000\n",
      "lr 2.529528e-07 reg 4.561695e+04 train accuracy: 0.324633 val accuracy: 0.341000\n",
      "lr 2.529528e-07 reg 4.892676e+04 train accuracy: 0.326000 val accuracy: 0.344000\n",
      "lr 2.529528e-07 reg 5.109327e+04 train accuracy: 0.325796 val accuracy: 0.336000\n",
      "lr 3.198147e-07 reg 2.046869e+04 train accuracy: 0.349898 val accuracy: 0.364000\n",
      "lr 3.198147e-07 reg 2.249913e+04 train accuracy: 0.354245 val accuracy: 0.357000\n",
      "lr 3.198147e-07 reg 3.115543e+04 train accuracy: 0.345245 val accuracy: 0.358000\n",
      "lr 3.198147e-07 reg 3.312824e+04 train accuracy: 0.339000 val accuracy: 0.352000\n",
      "lr 3.198147e-07 reg 3.684770e+04 train accuracy: 0.338980 val accuracy: 0.348000\n",
      "lr 3.198147e-07 reg 3.743950e+04 train accuracy: 0.337980 val accuracy: 0.350000\n",
      "lr 3.198147e-07 reg 4.030792e+04 train accuracy: 0.337510 val accuracy: 0.354000\n",
      "lr 3.198147e-07 reg 4.079994e+04 train accuracy: 0.332388 val accuracy: 0.360000\n",
      "lr 3.198147e-07 reg 4.377195e+04 train accuracy: 0.331224 val accuracy: 0.349000\n",
      "lr 3.198147e-07 reg 4.561695e+04 train accuracy: 0.331633 val accuracy: 0.346000\n",
      "lr 3.198147e-07 reg 4.892676e+04 train accuracy: 0.333755 val accuracy: 0.347000\n",
      "lr 3.198147e-07 reg 5.109327e+04 train accuracy: 0.322286 val accuracy: 0.340000\n",
      "lr 4.836134e-07 reg 2.046869e+04 train accuracy: 0.355082 val accuracy: 0.377000\n",
      "lr 4.836134e-07 reg 2.249913e+04 train accuracy: 0.351469 val accuracy: 0.361000\n",
      "lr 4.836134e-07 reg 3.115543e+04 train accuracy: 0.339102 val accuracy: 0.349000\n",
      "lr 4.836134e-07 reg 3.312824e+04 train accuracy: 0.330327 val accuracy: 0.348000\n",
      "lr 4.836134e-07 reg 3.684770e+04 train accuracy: 0.338531 val accuracy: 0.360000\n",
      "lr 4.836134e-07 reg 3.743950e+04 train accuracy: 0.331714 val accuracy: 0.343000\n",
      "lr 4.836134e-07 reg 4.030792e+04 train accuracy: 0.324082 val accuracy: 0.351000\n",
      "lr 4.836134e-07 reg 4.079994e+04 train accuracy: 0.333633 val accuracy: 0.339000\n",
      "lr 4.836134e-07 reg 4.377195e+04 train accuracy: 0.334816 val accuracy: 0.340000\n",
      "lr 4.836134e-07 reg 4.561695e+04 train accuracy: 0.328490 val accuracy: 0.349000\n",
      "lr 4.836134e-07 reg 4.892676e+04 train accuracy: 0.336265 val accuracy: 0.345000\n",
      "lr 4.836134e-07 reg 5.109327e+04 train accuracy: 0.323469 val accuracy: 0.336000\n",
      "lr 5.647220e-07 reg 2.046869e+04 train accuracy: 0.352673 val accuracy: 0.364000\n",
      "lr 5.647220e-07 reg 2.249913e+04 train accuracy: 0.354469 val accuracy: 0.360000\n",
      "lr 5.647220e-07 reg 3.115543e+04 train accuracy: 0.346796 val accuracy: 0.361000\n",
      "lr 5.647220e-07 reg 3.312824e+04 train accuracy: 0.333551 val accuracy: 0.343000\n",
      "lr 5.647220e-07 reg 3.684770e+04 train accuracy: 0.337306 val accuracy: 0.360000\n",
      "lr 5.647220e-07 reg 3.743950e+04 train accuracy: 0.331224 val accuracy: 0.331000\n",
      "lr 5.647220e-07 reg 4.030792e+04 train accuracy: 0.335408 val accuracy: 0.346000\n",
      "lr 5.647220e-07 reg 4.079994e+04 train accuracy: 0.324653 val accuracy: 0.344000\n",
      "lr 5.647220e-07 reg 4.377195e+04 train accuracy: 0.333224 val accuracy: 0.353000\n",
      "lr 5.647220e-07 reg 4.561695e+04 train accuracy: 0.328449 val accuracy: 0.337000\n",
      "lr 5.647220e-07 reg 4.892676e+04 train accuracy: 0.322143 val accuracy: 0.336000\n",
      "lr 5.647220e-07 reg 5.109327e+04 train accuracy: 0.332102 val accuracy: 0.346000\n",
      "lr 5.742676e-07 reg 2.046869e+04 train accuracy: 0.346714 val accuracy: 0.358000\n",
      "lr 5.742676e-07 reg 2.249913e+04 train accuracy: 0.354735 val accuracy: 0.373000\n",
      "lr 5.742676e-07 reg 3.115543e+04 train accuracy: 0.338612 val accuracy: 0.345000\n",
      "lr 5.742676e-07 reg 3.312824e+04 train accuracy: 0.336612 val accuracy: 0.351000\n",
      "lr 5.742676e-07 reg 3.684770e+04 train accuracy: 0.326388 val accuracy: 0.344000\n",
      "lr 5.742676e-07 reg 3.743950e+04 train accuracy: 0.330918 val accuracy: 0.347000\n",
      "lr 5.742676e-07 reg 4.030792e+04 train accuracy: 0.338143 val accuracy: 0.342000\n",
      "lr 5.742676e-07 reg 4.079994e+04 train accuracy: 0.324367 val accuracy: 0.342000\n",
      "lr 5.742676e-07 reg 4.377195e+04 train accuracy: 0.329041 val accuracy: 0.341000\n",
      "lr 5.742676e-07 reg 4.561695e+04 train accuracy: 0.339694 val accuracy: 0.348000\n",
      "lr 5.742676e-07 reg 4.892676e+04 train accuracy: 0.321571 val accuracy: 0.324000\n",
      "lr 5.742676e-07 reg 5.109327e+04 train accuracy: 0.327857 val accuracy: 0.343000\n",
      "lr 7.232462e-07 reg 2.046869e+04 train accuracy: 0.355571 val accuracy: 0.355000\n",
      "lr 7.232462e-07 reg 2.249913e+04 train accuracy: 0.343306 val accuracy: 0.356000\n",
      "lr 7.232462e-07 reg 3.115543e+04 train accuracy: 0.330143 val accuracy: 0.338000\n",
      "lr 7.232462e-07 reg 3.312824e+04 train accuracy: 0.345143 val accuracy: 0.367000\n",
      "lr 7.232462e-07 reg 3.684770e+04 train accuracy: 0.334796 val accuracy: 0.348000\n",
      "lr 7.232462e-07 reg 3.743950e+04 train accuracy: 0.313306 val accuracy: 0.335000\n",
      "lr 7.232462e-07 reg 4.030792e+04 train accuracy: 0.329429 val accuracy: 0.342000\n",
      "lr 7.232462e-07 reg 4.079994e+04 train accuracy: 0.329347 val accuracy: 0.342000\n",
      "lr 7.232462e-07 reg 4.377195e+04 train accuracy: 0.312735 val accuracy: 0.323000\n",
      "lr 7.232462e-07 reg 4.561695e+04 train accuracy: 0.310245 val accuracy: 0.325000\n",
      "lr 7.232462e-07 reg 4.892676e+04 train accuracy: 0.318082 val accuracy: 0.334000\n",
      "lr 7.232462e-07 reg 5.109327e+04 train accuracy: 0.311510 val accuracy: 0.325000\n",
      "lr 7.453195e-07 reg 2.046869e+04 train accuracy: 0.347449 val accuracy: 0.346000\n",
      "lr 7.453195e-07 reg 2.249913e+04 train accuracy: 0.346531 val accuracy: 0.369000\n",
      "lr 7.453195e-07 reg 3.115543e+04 train accuracy: 0.339429 val accuracy: 0.354000\n",
      "lr 7.453195e-07 reg 3.312824e+04 train accuracy: 0.336245 val accuracy: 0.360000\n",
      "lr 7.453195e-07 reg 3.684770e+04 train accuracy: 0.333673 val accuracy: 0.361000\n",
      "lr 7.453195e-07 reg 3.743950e+04 train accuracy: 0.334837 val accuracy: 0.347000\n",
      "lr 7.453195e-07 reg 4.030792e+04 train accuracy: 0.318714 val accuracy: 0.333000\n",
      "lr 7.453195e-07 reg 4.079994e+04 train accuracy: 0.332878 val accuracy: 0.360000\n",
      "lr 7.453195e-07 reg 4.377195e+04 train accuracy: 0.319327 val accuracy: 0.337000\n",
      "lr 7.453195e-07 reg 4.561695e+04 train accuracy: 0.317347 val accuracy: 0.338000\n",
      "lr 7.453195e-07 reg 4.892676e+04 train accuracy: 0.322388 val accuracy: 0.331000\n",
      "lr 7.453195e-07 reg 5.109327e+04 train accuracy: 0.321102 val accuracy: 0.340000\n",
      "lr 8.007918e-07 reg 2.046869e+04 train accuracy: 0.354898 val accuracy: 0.373000\n",
      "lr 8.007918e-07 reg 2.249913e+04 train accuracy: 0.356367 val accuracy: 0.361000\n",
      "lr 8.007918e-07 reg 3.115543e+04 train accuracy: 0.327857 val accuracy: 0.351000\n",
      "lr 8.007918e-07 reg 3.312824e+04 train accuracy: 0.342327 val accuracy: 0.342000\n",
      "lr 8.007918e-07 reg 3.684770e+04 train accuracy: 0.322082 val accuracy: 0.329000\n",
      "lr 8.007918e-07 reg 3.743950e+04 train accuracy: 0.335265 val accuracy: 0.348000\n",
      "lr 8.007918e-07 reg 4.030792e+04 train accuracy: 0.325571 val accuracy: 0.335000\n",
      "lr 8.007918e-07 reg 4.079994e+04 train accuracy: 0.329490 val accuracy: 0.345000\n",
      "lr 8.007918e-07 reg 4.377195e+04 train accuracy: 0.316143 val accuracy: 0.330000\n",
      "lr 8.007918e-07 reg 4.561695e+04 train accuracy: 0.319367 val accuracy: 0.332000\n",
      "lr 8.007918e-07 reg 4.892676e+04 train accuracy: 0.319163 val accuracy: 0.319000\n",
      "lr 8.007918e-07 reg 5.109327e+04 train accuracy: 0.324592 val accuracy: 0.322000\n",
      "lr 8.831457e-07 reg 2.046869e+04 train accuracy: 0.348959 val accuracy: 0.362000\n",
      "lr 8.831457e-07 reg 2.249913e+04 train accuracy: 0.347673 val accuracy: 0.364000\n",
      "lr 8.831457e-07 reg 3.115543e+04 train accuracy: 0.334265 val accuracy: 0.352000\n",
      "lr 8.831457e-07 reg 3.312824e+04 train accuracy: 0.336918 val accuracy: 0.338000\n",
      "lr 8.831457e-07 reg 3.684770e+04 train accuracy: 0.327551 val accuracy: 0.344000\n",
      "lr 8.831457e-07 reg 3.743950e+04 train accuracy: 0.338327 val accuracy: 0.356000\n",
      "lr 8.831457e-07 reg 4.030792e+04 train accuracy: 0.333122 val accuracy: 0.352000\n",
      "lr 8.831457e-07 reg 4.079994e+04 train accuracy: 0.337224 val accuracy: 0.341000\n",
      "lr 8.831457e-07 reg 4.377195e+04 train accuracy: 0.323388 val accuracy: 0.342000\n",
      "lr 8.831457e-07 reg 4.561695e+04 train accuracy: 0.320571 val accuracy: 0.336000\n",
      "lr 8.831457e-07 reg 4.892676e+04 train accuracy: 0.321163 val accuracy: 0.337000\n",
      "lr 8.831457e-07 reg 5.109327e+04 train accuracy: 0.319918 val accuracy: 0.330000\n",
      "best validation accuracy achieved during cross-validation: 0.377000\n"
     ]
    }
   ],
   "source": [
    "# Use the validation set to tune hyperparameters (regularization strength and\n",
    "# learning rate). You should experiment with different ranges for the learning\n",
    "# rates and regularization strengths; if you are careful you should be able to\n",
    "# get a classification accuracy of over 0.35 on the validation set.\n",
    "from cs231n.classifiers import Softmax\n",
    "results = {}\n",
    "best_val = -1\n",
    "best_softmax = None\n",
    "learning_rates = [1e-7, 5e-7]\n",
    "regularization_strengths = [2.5e4, 5e4]\n",
    "\n",
    "################################################################################\n",
    "# TODO:                                                                        #\n",
    "# Use the validation set to set the learning rate and regularization strength. #\n",
    "# This should be identical to the validation that you did for the SVM; save    #\n",
    "# the best trained softmax classifer in best_softmax.                          #\n",
    "################################################################################\n",
    "# *****START OF YOUR CODE (DO NOT DELETE/MODIFY THIS LINE)*****\n",
    "\n",
    "softmax2 = Softmax()\n",
    "learning_rates = np.random.uniform(.000001, .00000001, 12)\n",
    "regularization_strengths = np.random.uniform (20000, 55000, 12)\n",
    "for i in learning_rates:\n",
    "    for j in regularization_strengths:\n",
    "        softmax2.train(X_train, y_train, learning_rate = i, reg = j, num_iters = 400)\n",
    "        y_train_pred = softmax2.predict(X_train)\n",
    "        y_val_pred = softmax2.predict(X_val)\n",
    "        y_train_acc = np.mean(y_train == y_train_pred, )\n",
    "        y_val_acc = np.mean(y_val == y_val_pred, )\n",
    "        if y_val_acc > best_val:\n",
    "            best_softmax = softmax2\n",
    "            best_val = y_val_acc\n",
    "        results[(i,j)] = (y_train_acc, y_val_acc)\n",
    "\n",
    "# *****END OF YOUR CODE (DO NOT DELETE/MODIFY THIS LINE)*****\n",
    "    \n",
    "# Print out results.\n",
    "for lr, reg in sorted(results):\n",
    "    train_accuracy, val_accuracy = results[(lr, reg)]\n",
    "    print('lr %e reg %e train accuracy: %f val accuracy: %f' % (\n",
    "                lr, reg, train_accuracy, val_accuracy))\n",
    "    \n",
    "print('best validation accuracy achieved during cross-validation: %f' % best_val)"
   ]
  },
  {
   "cell_type": "code",
   "execution_count": 29,
   "metadata": {},
   "outputs": [
    {
     "name": "stdout",
     "output_type": "stream",
     "text": [
      "softmax on raw pixels final test set accuracy: 0.356000\n"
     ]
    }
   ],
   "source": [
    "# evaluate on test set\n",
    "# Evaluate the best softmax on test set\n",
    "y_test_pred = best_softmax.predict(X_test)\n",
    "test_accuracy = np.mean(y_test == y_test_pred)\n",
    "print('softmax on raw pixels final test set accuracy: %f' % (test_accuracy, ))"
   ]
  },
  {
   "cell_type": "markdown",
   "metadata": {
    "tags": [
     "pdf-inline"
    ]
   },
   "source": [
    "**Inline Question 2** - *True or False*\n",
    "\n",
    "Suppose the overall training loss is defined as the sum of the per-datapoint loss over all training examples. It is possible to add a new datapoint to a training set that would leave the SVM loss unchanged, but this is not the case with the Softmax classifier loss.\n",
    "\n",
    "$\\color{blue}{\\textit Your Answer:}$\n",
    "\n",
    "\n",
    "$\\color{blue}{\\textit Your Explanation:}$\n",
    "\n"
   ]
  },
  {
   "cell_type": "code",
   "execution_count": 30,
   "metadata": {},
   "outputs": [
    {
     "data": {
      "image/png": "[encoded data removed]",
      "text/plain": [
       "<Figure size 432x288 with 10 Axes>"
      ]
     },
     "metadata": {
      "needs_background": "light"
     },
     "output_type": "display_data"
    }
   ],
   "source": [
    "# Visualize the learned weights for each class\n",
    "w = best_softmax.W[:-1,:] # strip out the bias\n",
    "w = w.reshape(32, 32, 3, 10)\n",
    "\n",
    "w_min, w_max = np.min(w), np.max(w)\n",
    "\n",
    "classes = ['plane', 'car', 'bird', 'cat', 'deer', 'dog', 'frog', 'horse', 'ship', 'truck']\n",
    "for i in range(10):\n",
    "    plt.subplot(2, 5, i + 1)\n",
    "    \n",
    "    # Rescale the weights to be between 0 and 255\n",
    "    wimg = 255.0 * (w[:, :, :, i].squeeze() - w_min) / (w_max - w_min)\n",
    "    plt.imshow(wimg.astype('uint8'))\n",
    "    plt.axis('off')\n",
    "    plt.title(classes[i])"
   ]
  },
  {
   "cell_type": "code",
   "execution_count": null,
   "metadata": {},
   "outputs": [],
   "source": []
  }
 ],
 "metadata": {
  "kernelspec": {
   "display_name": "Python 3",
   "language": "python",
   "name": "python3"
  },
  "language_info": {
   "codemirror_mode": {
    "name": "ipython",
    "version": 3
   },
   "file_extension": ".py",
   "mimetype": "text/x-python",
   "name": "python",
   "nbconvert_exporter": "python",
   "pygments_lexer": "ipython3",
   "version": "3.7.4"
  }
 },
 "nbformat": 4,
 "nbformat_minor": 1
}
